{
 "cells": [
  {
   "cell_type": "markdown",
   "metadata": {
    "id": "Bkw3_pB0s1L-"
   },
   "source": [
    "<img src=https://i.ibb.co/wJW61Y2/Used-cars.jpg width=\"700\" height=\"200\">\n",
    "\n",
    "## <p style=\"background-color:#FDFEFE; font-family:newtimeroman; color:#060108; font-size:200%; text-align:center; border-radius:10px 10px;\">The Capstone Project of Data Analytics Module</p>\n",
    "\n",
    "## <p style=\"background-color:#FDFEFE; font-family:newtimeroman; color:#060108; font-size:150%; text-align:center; border-radius:10px 10px;\">Car Price Prediction EDA</p>"
   ]
  },
  {
   "cell_type": "markdown",
   "metadata": {
    "id": "Z_oWczxZs1MA"
   },
   "source": [
    "## Introduction\n",
    "Welcome to \"***AutoScout Data Analysis Project***\". This is the capstone project of ***Data Analysis*** Module. **Auto Scout** data which using for this project, scraped from the on-line car trading company in 2019, contains many features of 9 different car models. In this project, you will have the opportunity to apply many commonly used algorithms for Data Cleaning and Exploratory Data Analysis by using many Python libraries such as Numpy, Pandas, Matplotlib, Seaborn, Scipy you will analyze clean dataset.\n",
    "\n",
    "### Some Reminders on Exploratory data analysis (EDA)\n",
    "\n",
    "Exploratory data analysis (EDA) is an especially important activity in the routine of a data analyst or scientist. It enables an in depth understanding of the dataset, define or discard hypotheses and create predictive models on a solid basis. It uses data manipulation techniques and several statistical tools to describe and understand the relationship between variables and how these can impact business. By means of EDA, we can obtain meaningful insights that can impact analysis under the following questions (If a checklist is good enough for pilots to use every flight, it’s good enough for data scientists to use with every dataset).\n",
    "1. What question are you trying to solve (or prove wrong)?\n",
    "2. What kind of data do you have?\n",
    "3. What’s missing from the data?\n",
    "4. Where are the outliers?\n",
    "5. How can you add, change or remove features to get more out of your data?\n",
    "\n",
    "**``Exploratory data analysis (EDA)``** is often an **iterative brainstorming process** where you pose a question, review the data, and develop further questions to investigate before beginning model development work. The image below shows how the brainstorming phase is connected with that of understanding the variables and how this in turn is connected again with the brainstorming phase.<br>\n",
    "\n",
    "<img src=https://i.ibb.co/k0MC950/EDA-Process.png width=\"300\" height=\"100\">\n",
    "\n",
    "[Image Credit: Andrew D.](https://towardsdatascience.com/exploratory-data-analysis-in-python-a-step-by-step-process-d0dfa6bf94ee)\n",
    "\n",
    "**``In this context, the project consists of 3 parts in general:``**\n",
    "* **The first part** is related to 'Data Cleaning'. It deals with Incorrect Headers, Incorrect Format, Anomalies, and Dropping useless columns.\n",
    "* **The second part** is related to 'Filling Data', in other words 'Imputation'. It deals with Missing Values. Categorical to numeric transformation is done as well.\n",
    "* **The third part** is related to 'Handling Outliers of Data' via Visualization libraries. So, some insights will be extracted.\n",
    "\n",
    "**``NOTE:``**  However, you are free to create your own style. You do NOT have to stick to the steps above. We, the DA & DV instructors, recommend you study each part separately to create a source notebook for each part title for your further studies. "
   ]
  },
  {
   "cell_type": "markdown",
   "metadata": {
    "id": "vvgJ5KWTs1MB"
   },
   "source": [
    "# PART- 1 `( Data Cleaning )`"
   ]
  },
  {
   "cell_type": "code",
   "execution_count": 1,
   "metadata": {
    "id": "Y13_gId7s1MC"
   },
   "outputs": [
    {
     "name": "stderr",
     "output_type": "stream",
     "text": [
      "C:\\Users\\hbpbn\\anaconda3\\lib\\site-packages\\scipy\\__init__.py:146: UserWarning: A NumPy version >=1.16.5 and <1.23.0 is required for this version of SciPy (detected version 1.23.1\n",
      "  warnings.warn(f\"A NumPy version >={np_minversion} and <{np_maxversion}\"\n"
     ]
    }
   ],
   "source": [
    "import numpy as np\n",
    "import pandas as pd\n",
    "import matplotlib.pyplot as plt\n",
    "from matplotlib import patches\n",
    "import seaborn as sns\n",
    "\n",
    "import warnings\n",
    "warnings.filterwarnings(\"ignore\")\n",
    "warnings.warn(\"this will not show\")\n",
    "\n",
    "# Statistics functions\n",
    "from scipy.stats import norm\n",
    "from scipy import stats\n",
    "from scipy.stats import chi2_contingency\n",
    "from scipy.stats import chi2"
   ]
  },
  {
   "cell_type": "code",
   "execution_count": 2,
   "metadata": {},
   "outputs": [],
   "source": [
    "# It is a magic function that renders the figure in the notebook\n",
    "%matplotlib inline \n",
    "\n",
    "# Changing the figure size of a seaborn axes \n",
    "sns.set(rc={\"figure.figsize\": (10, 6)})\n",
    "\n",
    "# The style parameters control properties like the color of the background and whether a grid is enabled by default.\n",
    "sns.set_style(\"whitegrid\")\n",
    "\n",
    "# To display maximum columns\n",
    "pd.set_option('display.max_columns', None)\n",
    "\n",
    "# To display maximum columns\n",
    "#pd.set_option('display.max_rows', 1000)"
   ]
  },
  {
   "cell_type": "code",
   "execution_count": 3,
   "metadata": {},
   "outputs": [],
   "source": [
    "df = pd.read_json(\"scout_car.json\", lines=True)\n",
    "# Without lines=True, you will get \"ValueError: Trailing data\""
   ]
  },
  {
   "cell_type": "code",
   "execution_count": 4,
   "metadata": {},
   "outputs": [],
   "source": [
    "df_copy = df.copy()"
   ]
  },
  {
   "cell_type": "code",
   "execution_count": 5,
   "metadata": {
    "scrolled": true
   },
   "outputs": [
    {
     "data": {
      "text/html": [
       "<div>\n",
       "<style scoped>\n",
       "    .dataframe tbody tr th:only-of-type {\n",
       "        vertical-align: middle;\n",
       "    }\n",
       "\n",
       "    .dataframe tbody tr th {\n",
       "        vertical-align: top;\n",
       "    }\n",
       "\n",
       "    .dataframe thead th {\n",
       "        text-align: right;\n",
       "    }\n",
       "</style>\n",
       "<table border=\"1\" class=\"dataframe\">\n",
       "  <thead>\n",
       "    <tr style=\"text-align: right;\">\n",
       "      <th></th>\n",
       "      <th>url</th>\n",
       "      <th>make_model</th>\n",
       "      <th>short_description</th>\n",
       "      <th>body_type</th>\n",
       "      <th>price</th>\n",
       "      <th>vat</th>\n",
       "      <th>km</th>\n",
       "      <th>registration</th>\n",
       "      <th>prev_owner</th>\n",
       "      <th>kW</th>\n",
       "      <th>hp</th>\n",
       "      <th>Type</th>\n",
       "      <th>Previous Owners</th>\n",
       "      <th>Next Inspection</th>\n",
       "      <th>Inspection new</th>\n",
       "      <th>Warranty</th>\n",
       "      <th>Full Service</th>\n",
       "      <th>Non-smoking Vehicle</th>\n",
       "      <th>null</th>\n",
       "      <th>Make</th>\n",
       "      <th>Model</th>\n",
       "      <th>Offer Number</th>\n",
       "      <th>First Registration</th>\n",
       "      <th>Body Color</th>\n",
       "      <th>Paint Type</th>\n",
       "      <th>Body Color Original</th>\n",
       "      <th>Upholstery</th>\n",
       "      <th>Body</th>\n",
       "      <th>Nr. of Doors</th>\n",
       "      <th>Nr. of Seats</th>\n",
       "      <th>Model Code</th>\n",
       "      <th>Gearing Type</th>\n",
       "      <th>Displacement</th>\n",
       "      <th>Cylinders</th>\n",
       "      <th>Weight</th>\n",
       "      <th>Drive chain</th>\n",
       "      <th>Fuel</th>\n",
       "      <th>Consumption</th>\n",
       "      <th>CO2 Emission</th>\n",
       "      <th>Emission Class</th>\n",
       "      <th>\\nComfort &amp; Convenience\\n</th>\n",
       "      <th>\\nEntertainment &amp; Media\\n</th>\n",
       "      <th>\\nExtras\\n</th>\n",
       "      <th>\\nSafety &amp; Security\\n</th>\n",
       "      <th>description</th>\n",
       "      <th>Emission Label</th>\n",
       "      <th>Gears</th>\n",
       "      <th>Country version</th>\n",
       "      <th>Electricity consumption</th>\n",
       "      <th>Last Service Date</th>\n",
       "      <th>Other Fuel Types</th>\n",
       "      <th>Availability</th>\n",
       "      <th>Last Timing Belt Service Date</th>\n",
       "      <th>Available from</th>\n",
       "    </tr>\n",
       "  </thead>\n",
       "  <tbody>\n",
       "    <tr>\n",
       "      <th>0</th>\n",
       "      <td>https://www.autoscout24.com//offers/audi-a1-sp...</td>\n",
       "      <td>Audi A1</td>\n",
       "      <td>Sportback 1.4 TDI S-tronic Xenon Navi Klima</td>\n",
       "      <td>Sedans</td>\n",
       "      <td>15770</td>\n",
       "      <td>VAT deductible</td>\n",
       "      <td>56,013 km</td>\n",
       "      <td>01/2016</td>\n",
       "      <td>2 previous owners</td>\n",
       "      <td>NaN</td>\n",
       "      <td>66 kW</td>\n",
       "      <td>[, Used, , Diesel (Particulate Filter)]</td>\n",
       "      <td>\\n2\\n</td>\n",
       "      <td>[\\n06/2021\\n, \\n99 g CO2/km (comb)\\n]</td>\n",
       "      <td>[\\nYes\\n, \\nEuro 6\\n]</td>\n",
       "      <td>[\\n, \\n, \\n4 (Green)\\n]</td>\n",
       "      <td>[\\n, \\n]</td>\n",
       "      <td>[\\n, \\n]</td>\n",
       "      <td>[]</td>\n",
       "      <td>\\nAudi\\n</td>\n",
       "      <td>[\\n, A1, \\n]</td>\n",
       "      <td>[\\nLR-062483\\n]</td>\n",
       "      <td>[\\n, 2016, \\n]</td>\n",
       "      <td>[\\n, Black, \\n]</td>\n",
       "      <td>[\\nMetallic\\n]</td>\n",
       "      <td>[\\nMythosschwarz\\n]</td>\n",
       "      <td>[\\nCloth, Black\\n]</td>\n",
       "      <td>[\\n, Sedans, \\n]</td>\n",
       "      <td>[\\n5\\n]</td>\n",
       "      <td>[\\n5\\n]</td>\n",
       "      <td>[\\n0588/BDF\\n]</td>\n",
       "      <td>[\\n, Automatic, \\n]</td>\n",
       "      <td>[\\n1,422 cc\\n]</td>\n",
       "      <td>[\\n3\\n]</td>\n",
       "      <td>[\\n1,220 kg\\n]</td>\n",
       "      <td>[\\nfront\\n]</td>\n",
       "      <td>[\\n, Diesel (Particulate Filter), \\n]</td>\n",
       "      <td>[[3.8 l/100 km (comb)], [4.3 l/100 km (city)],...</td>\n",
       "      <td>[\\n99 g CO2/km (comb)\\n]</td>\n",
       "      <td>[\\nEuro 6\\n]</td>\n",
       "      <td>[Air conditioning, Armrest, Automatic climate ...</td>\n",
       "      <td>[Bluetooth, Hands-free equipment, On-board com...</td>\n",
       "      <td>[Alloy wheels, Catalytic Converter, Voice Cont...</td>\n",
       "      <td>[ABS, Central door lock, Daytime running light...</td>\n",
       "      <td>[\\n, Sicherheit:,  , Deaktivierung für Beifahr...</td>\n",
       "      <td>NaN</td>\n",
       "      <td>NaN</td>\n",
       "      <td>NaN</td>\n",
       "      <td>NaN</td>\n",
       "      <td>NaN</td>\n",
       "      <td>NaN</td>\n",
       "      <td>NaN</td>\n",
       "      <td>NaN</td>\n",
       "      <td>NaN</td>\n",
       "    </tr>\n",
       "    <tr>\n",
       "      <th>1</th>\n",
       "      <td>https://www.autoscout24.com//offers/audi-a1-1-...</td>\n",
       "      <td>Audi A1</td>\n",
       "      <td>1.8 TFSI sport</td>\n",
       "      <td>Sedans</td>\n",
       "      <td>14500</td>\n",
       "      <td>Price negotiable</td>\n",
       "      <td>80,000 km</td>\n",
       "      <td>03/2017</td>\n",
       "      <td>None</td>\n",
       "      <td>NaN</td>\n",
       "      <td>141 kW</td>\n",
       "      <td>[, Used, , Gasoline]</td>\n",
       "      <td>NaN</td>\n",
       "      <td>NaN</td>\n",
       "      <td>NaN</td>\n",
       "      <td>NaN</td>\n",
       "      <td>NaN</td>\n",
       "      <td>NaN</td>\n",
       "      <td>[]</td>\n",
       "      <td>\\nAudi\\n</td>\n",
       "      <td>[\\n, A1, \\n]</td>\n",
       "      <td>NaN</td>\n",
       "      <td>[\\n, 2017, \\n]</td>\n",
       "      <td>[\\n, Red, \\n]</td>\n",
       "      <td>NaN</td>\n",
       "      <td>NaN</td>\n",
       "      <td>[\\nCloth, Grey\\n]</td>\n",
       "      <td>[\\n, Sedans, \\n]</td>\n",
       "      <td>[\\n3\\n]</td>\n",
       "      <td>[\\n4\\n]</td>\n",
       "      <td>[\\n0588/BCY\\n]</td>\n",
       "      <td>[\\n, Automatic, \\n]</td>\n",
       "      <td>[\\n1,798 cc\\n]</td>\n",
       "      <td>[\\n4\\n]</td>\n",
       "      <td>[\\n1,255 kg\\n]</td>\n",
       "      <td>[\\nfront\\n]</td>\n",
       "      <td>[\\n, Gasoline, \\n]</td>\n",
       "      <td>[[5.6 l/100 km (comb)], [7.1 l/100 km (city)],...</td>\n",
       "      <td>[\\n129 g CO2/km (comb)\\n]</td>\n",
       "      <td>[\\nEuro 6\\n]</td>\n",
       "      <td>[Air conditioning, Automatic climate control, ...</td>\n",
       "      <td>[Bluetooth, Hands-free equipment, On-board com...</td>\n",
       "      <td>[Alloy wheels, Sport seats, Sport suspension, ...</td>\n",
       "      <td>[ABS, Central door lock, Central door lock wit...</td>\n",
       "      <td>[\\nLangstreckenfahrzeug daher die hohe Kilomet...</td>\n",
       "      <td>[\\n4 (Green)\\n]</td>\n",
       "      <td>[\\n7\\n]</td>\n",
       "      <td>NaN</td>\n",
       "      <td>NaN</td>\n",
       "      <td>NaN</td>\n",
       "      <td>NaN</td>\n",
       "      <td>NaN</td>\n",
       "      <td>NaN</td>\n",
       "      <td>NaN</td>\n",
       "    </tr>\n",
       "    <tr>\n",
       "      <th>2</th>\n",
       "      <td>https://www.autoscout24.com//offers/audi-a1-sp...</td>\n",
       "      <td>Audi A1</td>\n",
       "      <td>Sportback 1.6 TDI S tronic Einparkhilfe plus+m...</td>\n",
       "      <td>Sedans</td>\n",
       "      <td>14640</td>\n",
       "      <td>VAT deductible</td>\n",
       "      <td>83,450 km</td>\n",
       "      <td>02/2016</td>\n",
       "      <td>1 previous owner</td>\n",
       "      <td>NaN</td>\n",
       "      <td>85 kW</td>\n",
       "      <td>[, Used, , Diesel (Particulate Filter)]</td>\n",
       "      <td>\\n1\\n</td>\n",
       "      <td>NaN</td>\n",
       "      <td>NaN</td>\n",
       "      <td>[\\n, \\n, \\n99 g CO2/km (comb)\\n]</td>\n",
       "      <td>NaN</td>\n",
       "      <td>NaN</td>\n",
       "      <td>[]</td>\n",
       "      <td>\\nAudi\\n</td>\n",
       "      <td>[\\n, A1, \\n]</td>\n",
       "      <td>[\\nAM-95365\\n]</td>\n",
       "      <td>[\\n, 2016, \\n]</td>\n",
       "      <td>[\\n, Black, \\n]</td>\n",
       "      <td>[\\nMetallic\\n]</td>\n",
       "      <td>[\\nmythosschwarz metallic\\n]</td>\n",
       "      <td>[\\nCloth, Black\\n]</td>\n",
       "      <td>[\\n, Sedans, \\n]</td>\n",
       "      <td>[\\n4\\n]</td>\n",
       "      <td>[\\n4\\n]</td>\n",
       "      <td>NaN</td>\n",
       "      <td>[\\n, Automatic, \\n]</td>\n",
       "      <td>[\\n1,598 cc\\n]</td>\n",
       "      <td>NaN</td>\n",
       "      <td>NaN</td>\n",
       "      <td>[\\nfront\\n]</td>\n",
       "      <td>[\\n, Diesel (Particulate Filter), \\n]</td>\n",
       "      <td>[[3.8 l/100 km (comb)], [4.4 l/100 km (city)],...</td>\n",
       "      <td>[\\n99 g CO2/km (comb)\\n]</td>\n",
       "      <td>[\\nEuro 6\\n]</td>\n",
       "      <td>[Air conditioning, Cruise control, Electrical ...</td>\n",
       "      <td>[MP3, On-board computer]</td>\n",
       "      <td>[Alloy wheels, Voice Control]</td>\n",
       "      <td>[ABS, Central door lock, Daytime running light...</td>\n",
       "      <td>[\\n, Fahrzeug-Nummer: AM-95365,  , Ehem. UPE 2...</td>\n",
       "      <td>[\\n4 (Green)\\n]</td>\n",
       "      <td>NaN</td>\n",
       "      <td>NaN</td>\n",
       "      <td>NaN</td>\n",
       "      <td>NaN</td>\n",
       "      <td>NaN</td>\n",
       "      <td>NaN</td>\n",
       "      <td>NaN</td>\n",
       "      <td>NaN</td>\n",
       "    </tr>\n",
       "    <tr>\n",
       "      <th>3</th>\n",
       "      <td>https://www.autoscout24.com//offers/audi-a1-1-...</td>\n",
       "      <td>Audi A1</td>\n",
       "      <td>1.4 TDi Design S tronic</td>\n",
       "      <td>Sedans</td>\n",
       "      <td>14500</td>\n",
       "      <td>None</td>\n",
       "      <td>73,000 km</td>\n",
       "      <td>08/2016</td>\n",
       "      <td>1 previous owner</td>\n",
       "      <td>NaN</td>\n",
       "      <td>66 kW</td>\n",
       "      <td>[, Used, , Diesel (Particulate Filter)]</td>\n",
       "      <td>\\n1\\n</td>\n",
       "      <td>NaN</td>\n",
       "      <td>NaN</td>\n",
       "      <td>NaN</td>\n",
       "      <td>[\\n, \\n, \\n99 g CO2/km (comb)\\n]</td>\n",
       "      <td>[\\n, \\n, \\nEuro 6\\n]</td>\n",
       "      <td>[]</td>\n",
       "      <td>\\nAudi\\n</td>\n",
       "      <td>[\\n, A1, \\n]</td>\n",
       "      <td>NaN</td>\n",
       "      <td>[\\n, 2016, \\n]</td>\n",
       "      <td>[\\n, Brown, \\n]</td>\n",
       "      <td>[\\nMetallic\\n]</td>\n",
       "      <td>NaN</td>\n",
       "      <td>NaN</td>\n",
       "      <td>[\\n, Sedans, \\n]</td>\n",
       "      <td>[\\n3\\n]</td>\n",
       "      <td>[\\n4\\n]</td>\n",
       "      <td>NaN</td>\n",
       "      <td>[\\n, Automatic, \\n]</td>\n",
       "      <td>[\\n1,422 cc\\n]</td>\n",
       "      <td>[\\n3\\n]</td>\n",
       "      <td>[\\n1,195 kg\\n]</td>\n",
       "      <td>NaN</td>\n",
       "      <td>[\\n, Diesel (Particulate Filter), \\n]</td>\n",
       "      <td>[[3.8 l/100 km (comb)], [4.3 l/100 km (city)],...</td>\n",
       "      <td>[\\n99 g CO2/km (comb)\\n]</td>\n",
       "      <td>[\\nEuro 6\\n]</td>\n",
       "      <td>[Air suspension, Armrest, Auxiliary heating, E...</td>\n",
       "      <td>[Bluetooth, CD player, Hands-free equipment, M...</td>\n",
       "      <td>[Alloy wheels, Sport seats, Voice Control]</td>\n",
       "      <td>[ABS, Alarm system, Central door lock with rem...</td>\n",
       "      <td>[\\nAudi A1: , - 1e eigenaar , - Perfecte staat...</td>\n",
       "      <td>NaN</td>\n",
       "      <td>[\\n6\\n]</td>\n",
       "      <td>NaN</td>\n",
       "      <td>NaN</td>\n",
       "      <td>NaN</td>\n",
       "      <td>NaN</td>\n",
       "      <td>NaN</td>\n",
       "      <td>NaN</td>\n",
       "      <td>NaN</td>\n",
       "    </tr>\n",
       "    <tr>\n",
       "      <th>4</th>\n",
       "      <td>https://www.autoscout24.com//offers/audi-a1-sp...</td>\n",
       "      <td>Audi A1</td>\n",
       "      <td>Sportback 1.4 TDI S-Tronic S-Line Ext. admired...</td>\n",
       "      <td>Sedans</td>\n",
       "      <td>16790</td>\n",
       "      <td>None</td>\n",
       "      <td>16,200 km</td>\n",
       "      <td>05/2016</td>\n",
       "      <td>1 previous owner</td>\n",
       "      <td>NaN</td>\n",
       "      <td>66 kW</td>\n",
       "      <td>[, Used, , Diesel (Particulate Filter)]</td>\n",
       "      <td>\\n1\\n</td>\n",
       "      <td>NaN</td>\n",
       "      <td>[\\nYes\\n, \\n109 g CO2/km (comb)\\n]</td>\n",
       "      <td>[\\n, \\n, \\nEuro 6\\n]</td>\n",
       "      <td>[\\n, \\n, \\n4 (Green)\\n]</td>\n",
       "      <td>[\\n, \\n]</td>\n",
       "      <td>[]</td>\n",
       "      <td>\\nAudi\\n</td>\n",
       "      <td>[\\n, A1, \\n]</td>\n",
       "      <td>[\\nC1626\\n]</td>\n",
       "      <td>[\\n, 2016, \\n]</td>\n",
       "      <td>[\\n, Black, \\n]</td>\n",
       "      <td>[\\nMetallic\\n]</td>\n",
       "      <td>[\\nMythosschwarz Metallic\\n]</td>\n",
       "      <td>[\\nCloth, Black\\n]</td>\n",
       "      <td>[\\n, Sedans, \\n]</td>\n",
       "      <td>[\\n5\\n]</td>\n",
       "      <td>[\\n5\\n]</td>\n",
       "      <td>[\\n0588/BDF\\n]</td>\n",
       "      <td>[\\n, Automatic, \\n]</td>\n",
       "      <td>[\\n1,422 cc\\n]</td>\n",
       "      <td>[\\n3\\n]</td>\n",
       "      <td>NaN</td>\n",
       "      <td>[\\nfront\\n]</td>\n",
       "      <td>[\\n, Diesel (Particulate Filter), \\n]</td>\n",
       "      <td>[[4.1 l/100 km (comb)], [4.6 l/100 km (city)],...</td>\n",
       "      <td>[\\n109 g CO2/km (comb)\\n]</td>\n",
       "      <td>[\\nEuro 6\\n]</td>\n",
       "      <td>[Air conditioning, Armrest, Automatic climate ...</td>\n",
       "      <td>[Bluetooth, CD player, Hands-free equipment, M...</td>\n",
       "      <td>[Alloy wheels, Sport package, Sport suspension...</td>\n",
       "      <td>[ABS, Central door lock, Driver-side airbag, E...</td>\n",
       "      <td>[\\n, Technik &amp; Sicherheit:, Xenon plus, Klimaa...</td>\n",
       "      <td>NaN</td>\n",
       "      <td>NaN</td>\n",
       "      <td>[\\nGermany\\n]</td>\n",
       "      <td>NaN</td>\n",
       "      <td>NaN</td>\n",
       "      <td>NaN</td>\n",
       "      <td>NaN</td>\n",
       "      <td>NaN</td>\n",
       "      <td>NaN</td>\n",
       "    </tr>\n",
       "  </tbody>\n",
       "</table>\n",
       "</div>"
      ],
      "text/plain": [
       "                                                 url make_model  \\\n",
       "0  https://www.autoscout24.com//offers/audi-a1-sp...    Audi A1   \n",
       "1  https://www.autoscout24.com//offers/audi-a1-1-...    Audi A1   \n",
       "2  https://www.autoscout24.com//offers/audi-a1-sp...    Audi A1   \n",
       "3  https://www.autoscout24.com//offers/audi-a1-1-...    Audi A1   \n",
       "4  https://www.autoscout24.com//offers/audi-a1-sp...    Audi A1   \n",
       "\n",
       "                                   short_description body_type  price  \\\n",
       "0        Sportback 1.4 TDI S-tronic Xenon Navi Klima    Sedans  15770   \n",
       "1                                     1.8 TFSI sport    Sedans  14500   \n",
       "2  Sportback 1.6 TDI S tronic Einparkhilfe plus+m...    Sedans  14640   \n",
       "3                            1.4 TDi Design S tronic    Sedans  14500   \n",
       "4  Sportback 1.4 TDI S-Tronic S-Line Ext. admired...    Sedans  16790   \n",
       "\n",
       "                vat         km registration         prev_owner  kW      hp  \\\n",
       "0    VAT deductible  56,013 km      01/2016  2 previous owners NaN   66 kW   \n",
       "1  Price negotiable  80,000 km      03/2017               None NaN  141 kW   \n",
       "2    VAT deductible  83,450 km      02/2016   1 previous owner NaN   85 kW   \n",
       "3              None  73,000 km      08/2016   1 previous owner NaN   66 kW   \n",
       "4              None  16,200 km      05/2016   1 previous owner NaN   66 kW   \n",
       "\n",
       "                                      Type Previous Owners  \\\n",
       "0  [, Used, , Diesel (Particulate Filter)]           \\n2\\n   \n",
       "1                     [, Used, , Gasoline]             NaN   \n",
       "2  [, Used, , Diesel (Particulate Filter)]           \\n1\\n   \n",
       "3  [, Used, , Diesel (Particulate Filter)]           \\n1\\n   \n",
       "4  [, Used, , Diesel (Particulate Filter)]           \\n1\\n   \n",
       "\n",
       "                         Next Inspection                      Inspection new  \\\n",
       "0  [\\n06/2021\\n, \\n99 g CO2/km (comb)\\n]               [\\nYes\\n, \\nEuro 6\\n]   \n",
       "1                                    NaN                                 NaN   \n",
       "2                                    NaN                                 NaN   \n",
       "3                                    NaN                                 NaN   \n",
       "4                                    NaN  [\\nYes\\n, \\n109 g CO2/km (comb)\\n]   \n",
       "\n",
       "                           Warranty                      Full Service  \\\n",
       "0           [\\n, \\n, \\n4 (Green)\\n]                          [\\n, \\n]   \n",
       "1                               NaN                               NaN   \n",
       "2  [\\n, \\n, \\n99 g CO2/km (comb)\\n]                               NaN   \n",
       "3                               NaN  [\\n, \\n, \\n99 g CO2/km (comb)\\n]   \n",
       "4              [\\n, \\n, \\nEuro 6\\n]           [\\n, \\n, \\n4 (Green)\\n]   \n",
       "\n",
       "    Non-smoking Vehicle null      Make         Model     Offer Number  \\\n",
       "0              [\\n, \\n]   []  \\nAudi\\n  [\\n, A1, \\n]  [\\nLR-062483\\n]   \n",
       "1                   NaN   []  \\nAudi\\n  [\\n, A1, \\n]              NaN   \n",
       "2                   NaN   []  \\nAudi\\n  [\\n, A1, \\n]   [\\nAM-95365\\n]   \n",
       "3  [\\n, \\n, \\nEuro 6\\n]   []  \\nAudi\\n  [\\n, A1, \\n]              NaN   \n",
       "4              [\\n, \\n]   []  \\nAudi\\n  [\\n, A1, \\n]      [\\nC1626\\n]   \n",
       "\n",
       "  First Registration       Body Color      Paint Type  \\\n",
       "0     [\\n, 2016, \\n]  [\\n, Black, \\n]  [\\nMetallic\\n]   \n",
       "1     [\\n, 2017, \\n]    [\\n, Red, \\n]             NaN   \n",
       "2     [\\n, 2016, \\n]  [\\n, Black, \\n]  [\\nMetallic\\n]   \n",
       "3     [\\n, 2016, \\n]  [\\n, Brown, \\n]  [\\nMetallic\\n]   \n",
       "4     [\\n, 2016, \\n]  [\\n, Black, \\n]  [\\nMetallic\\n]   \n",
       "\n",
       "            Body Color Original          Upholstery              Body  \\\n",
       "0           [\\nMythosschwarz\\n]  [\\nCloth, Black\\n]  [\\n, Sedans, \\n]   \n",
       "1                           NaN   [\\nCloth, Grey\\n]  [\\n, Sedans, \\n]   \n",
       "2  [\\nmythosschwarz metallic\\n]  [\\nCloth, Black\\n]  [\\n, Sedans, \\n]   \n",
       "3                           NaN                 NaN  [\\n, Sedans, \\n]   \n",
       "4  [\\nMythosschwarz Metallic\\n]  [\\nCloth, Black\\n]  [\\n, Sedans, \\n]   \n",
       "\n",
       "  Nr. of Doors Nr. of Seats      Model Code         Gearing Type  \\\n",
       "0      [\\n5\\n]      [\\n5\\n]  [\\n0588/BDF\\n]  [\\n, Automatic, \\n]   \n",
       "1      [\\n3\\n]      [\\n4\\n]  [\\n0588/BCY\\n]  [\\n, Automatic, \\n]   \n",
       "2      [\\n4\\n]      [\\n4\\n]             NaN  [\\n, Automatic, \\n]   \n",
       "3      [\\n3\\n]      [\\n4\\n]             NaN  [\\n, Automatic, \\n]   \n",
       "4      [\\n5\\n]      [\\n5\\n]  [\\n0588/BDF\\n]  [\\n, Automatic, \\n]   \n",
       "\n",
       "     Displacement Cylinders          Weight  Drive chain  \\\n",
       "0  [\\n1,422 cc\\n]   [\\n3\\n]  [\\n1,220 kg\\n]  [\\nfront\\n]   \n",
       "1  [\\n1,798 cc\\n]   [\\n4\\n]  [\\n1,255 kg\\n]  [\\nfront\\n]   \n",
       "2  [\\n1,598 cc\\n]       NaN             NaN  [\\nfront\\n]   \n",
       "3  [\\n1,422 cc\\n]   [\\n3\\n]  [\\n1,195 kg\\n]          NaN   \n",
       "4  [\\n1,422 cc\\n]   [\\n3\\n]             NaN  [\\nfront\\n]   \n",
       "\n",
       "                                    Fuel  \\\n",
       "0  [\\n, Diesel (Particulate Filter), \\n]   \n",
       "1                     [\\n, Gasoline, \\n]   \n",
       "2  [\\n, Diesel (Particulate Filter), \\n]   \n",
       "3  [\\n, Diesel (Particulate Filter), \\n]   \n",
       "4  [\\n, Diesel (Particulate Filter), \\n]   \n",
       "\n",
       "                                         Consumption  \\\n",
       "0  [[3.8 l/100 km (comb)], [4.3 l/100 km (city)],...   \n",
       "1  [[5.6 l/100 km (comb)], [7.1 l/100 km (city)],...   \n",
       "2  [[3.8 l/100 km (comb)], [4.4 l/100 km (city)],...   \n",
       "3  [[3.8 l/100 km (comb)], [4.3 l/100 km (city)],...   \n",
       "4  [[4.1 l/100 km (comb)], [4.6 l/100 km (city)],...   \n",
       "\n",
       "                CO2 Emission Emission Class  \\\n",
       "0   [\\n99 g CO2/km (comb)\\n]   [\\nEuro 6\\n]   \n",
       "1  [\\n129 g CO2/km (comb)\\n]   [\\nEuro 6\\n]   \n",
       "2   [\\n99 g CO2/km (comb)\\n]   [\\nEuro 6\\n]   \n",
       "3   [\\n99 g CO2/km (comb)\\n]   [\\nEuro 6\\n]   \n",
       "4  [\\n109 g CO2/km (comb)\\n]   [\\nEuro 6\\n]   \n",
       "\n",
       "                           \\nComfort & Convenience\\n  \\\n",
       "0  [Air conditioning, Armrest, Automatic climate ...   \n",
       "1  [Air conditioning, Automatic climate control, ...   \n",
       "2  [Air conditioning, Cruise control, Electrical ...   \n",
       "3  [Air suspension, Armrest, Auxiliary heating, E...   \n",
       "4  [Air conditioning, Armrest, Automatic climate ...   \n",
       "\n",
       "                           \\nEntertainment & Media\\n  \\\n",
       "0  [Bluetooth, Hands-free equipment, On-board com...   \n",
       "1  [Bluetooth, Hands-free equipment, On-board com...   \n",
       "2                           [MP3, On-board computer]   \n",
       "3  [Bluetooth, CD player, Hands-free equipment, M...   \n",
       "4  [Bluetooth, CD player, Hands-free equipment, M...   \n",
       "\n",
       "                                          \\nExtras\\n  \\\n",
       "0  [Alloy wheels, Catalytic Converter, Voice Cont...   \n",
       "1  [Alloy wheels, Sport seats, Sport suspension, ...   \n",
       "2                      [Alloy wheels, Voice Control]   \n",
       "3         [Alloy wheels, Sport seats, Voice Control]   \n",
       "4  [Alloy wheels, Sport package, Sport suspension...   \n",
       "\n",
       "                               \\nSafety & Security\\n  \\\n",
       "0  [ABS, Central door lock, Daytime running light...   \n",
       "1  [ABS, Central door lock, Central door lock wit...   \n",
       "2  [ABS, Central door lock, Daytime running light...   \n",
       "3  [ABS, Alarm system, Central door lock with rem...   \n",
       "4  [ABS, Central door lock, Driver-side airbag, E...   \n",
       "\n",
       "                                         description   Emission Label  \\\n",
       "0  [\\n, Sicherheit:,  , Deaktivierung für Beifahr...              NaN   \n",
       "1  [\\nLangstreckenfahrzeug daher die hohe Kilomet...  [\\n4 (Green)\\n]   \n",
       "2  [\\n, Fahrzeug-Nummer: AM-95365,  , Ehem. UPE 2...  [\\n4 (Green)\\n]   \n",
       "3  [\\nAudi A1: , - 1e eigenaar , - Perfecte staat...              NaN   \n",
       "4  [\\n, Technik & Sicherheit:, Xenon plus, Klimaa...              NaN   \n",
       "\n",
       "     Gears Country version Electricity consumption Last Service Date  \\\n",
       "0      NaN             NaN                     NaN               NaN   \n",
       "1  [\\n7\\n]             NaN                     NaN               NaN   \n",
       "2      NaN             NaN                     NaN               NaN   \n",
       "3  [\\n6\\n]             NaN                     NaN               NaN   \n",
       "4      NaN   [\\nGermany\\n]                     NaN               NaN   \n",
       "\n",
       "  Other Fuel Types Availability Last Timing Belt Service Date Available from  \n",
       "0              NaN          NaN                           NaN            NaN  \n",
       "1              NaN          NaN                           NaN            NaN  \n",
       "2              NaN          NaN                           NaN            NaN  \n",
       "3              NaN          NaN                           NaN            NaN  \n",
       "4              NaN          NaN                           NaN            NaN  "
      ]
     },
     "execution_count": 5,
     "metadata": {},
     "output_type": "execute_result"
    }
   ],
   "source": [
    "df.head()"
   ]
  },
  {
   "cell_type": "code",
   "execution_count": 6,
   "metadata": {
    "scrolled": true
   },
   "outputs": [
    {
     "data": {
      "text/html": [
       "<div>\n",
       "<style scoped>\n",
       "    .dataframe tbody tr th:only-of-type {\n",
       "        vertical-align: middle;\n",
       "    }\n",
       "\n",
       "    .dataframe tbody tr th {\n",
       "        vertical-align: top;\n",
       "    }\n",
       "\n",
       "    .dataframe thead th {\n",
       "        text-align: right;\n",
       "    }\n",
       "</style>\n",
       "<table border=\"1\" class=\"dataframe\">\n",
       "  <thead>\n",
       "    <tr style=\"text-align: right;\">\n",
       "      <th></th>\n",
       "      <th>url</th>\n",
       "      <th>make_model</th>\n",
       "      <th>short_description</th>\n",
       "      <th>body_type</th>\n",
       "      <th>price</th>\n",
       "      <th>vat</th>\n",
       "      <th>km</th>\n",
       "      <th>registration</th>\n",
       "      <th>prev_owner</th>\n",
       "      <th>kW</th>\n",
       "      <th>hp</th>\n",
       "      <th>Type</th>\n",
       "      <th>Previous Owners</th>\n",
       "      <th>Next Inspection</th>\n",
       "      <th>Inspection new</th>\n",
       "      <th>Warranty</th>\n",
       "      <th>Full Service</th>\n",
       "      <th>Non-smoking Vehicle</th>\n",
       "      <th>null</th>\n",
       "      <th>Make</th>\n",
       "      <th>Model</th>\n",
       "      <th>Offer Number</th>\n",
       "      <th>First Registration</th>\n",
       "      <th>Body Color</th>\n",
       "      <th>Paint Type</th>\n",
       "      <th>Body Color Original</th>\n",
       "      <th>Upholstery</th>\n",
       "      <th>Body</th>\n",
       "      <th>Nr. of Doors</th>\n",
       "      <th>Nr. of Seats</th>\n",
       "      <th>Model Code</th>\n",
       "      <th>Gearing Type</th>\n",
       "      <th>Displacement</th>\n",
       "      <th>Cylinders</th>\n",
       "      <th>Weight</th>\n",
       "      <th>Drive chain</th>\n",
       "      <th>Fuel</th>\n",
       "      <th>Consumption</th>\n",
       "      <th>CO2 Emission</th>\n",
       "      <th>Emission Class</th>\n",
       "      <th>\\nComfort &amp; Convenience\\n</th>\n",
       "      <th>\\nEntertainment &amp; Media\\n</th>\n",
       "      <th>\\nExtras\\n</th>\n",
       "      <th>\\nSafety &amp; Security\\n</th>\n",
       "      <th>description</th>\n",
       "      <th>Emission Label</th>\n",
       "      <th>Gears</th>\n",
       "      <th>Country version</th>\n",
       "      <th>Electricity consumption</th>\n",
       "      <th>Last Service Date</th>\n",
       "      <th>Other Fuel Types</th>\n",
       "      <th>Availability</th>\n",
       "      <th>Last Timing Belt Service Date</th>\n",
       "      <th>Available from</th>\n",
       "    </tr>\n",
       "  </thead>\n",
       "  <tbody>\n",
       "    <tr>\n",
       "      <th>4765</th>\n",
       "      <td>https://www.autoscout24.com//offers/audi-a3-1-...</td>\n",
       "      <td>Audi A3</td>\n",
       "      <td>1.6 TDI 116 CV Sport</td>\n",
       "      <td>Sedans</td>\n",
       "      <td>21500</td>\n",
       "      <td>VAT deductible</td>\n",
       "      <td>17,400 km</td>\n",
       "      <td>05/2018</td>\n",
       "      <td>None</td>\n",
       "      <td>NaN</td>\n",
       "      <td>85 kW</td>\n",
       "      <td>[, Employee's car, , Diesel]</td>\n",
       "      <td>NaN</td>\n",
       "      <td>NaN</td>\n",
       "      <td>NaN</td>\n",
       "      <td>NaN</td>\n",
       "      <td>NaN</td>\n",
       "      <td>NaN</td>\n",
       "      <td>[]</td>\n",
       "      <td>\\nAudi\\n</td>\n",
       "      <td>[\\n, A3, \\n]</td>\n",
       "      <td>[\\n2620886\\n]</td>\n",
       "      <td>[\\n, 2018, \\n]</td>\n",
       "      <td>[\\n, Black, \\n]</td>\n",
       "      <td>[\\nMetallic\\n]</td>\n",
       "      <td>[\\nNero\\n]</td>\n",
       "      <td>[\\nCloth, Grey\\n]</td>\n",
       "      <td>[\\n, Sedans, \\n]</td>\n",
       "      <td>[\\n3\\n]</td>\n",
       "      <td>[\\n5\\n]</td>\n",
       "      <td>NaN</td>\n",
       "      <td>[\\n, Manual, \\n]</td>\n",
       "      <td>[\\n1,598 cc\\n]</td>\n",
       "      <td>[\\n4\\n]</td>\n",
       "      <td>[\\n1,230 kg\\n]</td>\n",
       "      <td>[\\nfront\\n]</td>\n",
       "      <td>[\\n, Diesel, \\n]</td>\n",
       "      <td>[[4 l/100 km (comb)], [4.5 l/100 km (city)], [...</td>\n",
       "      <td>[\\n106 g CO2/km (comb)\\n]</td>\n",
       "      <td>[\\nEuro 6\\n]</td>\n",
       "      <td>[Air conditioning, Multi-function steering whe...</td>\n",
       "      <td>[Bluetooth, Radio]</td>\n",
       "      <td>[Alloy wheels, Sport seats]</td>\n",
       "      <td>[ABS, Central door lock, Driver-side airbag, E...</td>\n",
       "      <td>[\\nDEK:[2620886], Splendida vettura aziendale ...</td>\n",
       "      <td>NaN</td>\n",
       "      <td>[\\n6\\n]</td>\n",
       "      <td>NaN</td>\n",
       "      <td>NaN</td>\n",
       "      <td>NaN</td>\n",
       "      <td>NaN</td>\n",
       "      <td>NaN</td>\n",
       "      <td>NaN</td>\n",
       "      <td>NaN</td>\n",
       "    </tr>\n",
       "    <tr>\n",
       "      <th>9489</th>\n",
       "      <td>https://www.autoscout24.com//offers/opel-corsa...</td>\n",
       "      <td>Opel Corsa</td>\n",
       "      <td>E Color EDI | Parkpilot | Winterpaket |</td>\n",
       "      <td>Compact</td>\n",
       "      <td>14590</td>\n",
       "      <td>VAT deductible</td>\n",
       "      <td>37,734 km</td>\n",
       "      <td>03/2018</td>\n",
       "      <td>1 previous owner</td>\n",
       "      <td>NaN</td>\n",
       "      <td>66 kW</td>\n",
       "      <td>[, Used, , Super 95]</td>\n",
       "      <td>\\n1\\n</td>\n",
       "      <td>NaN</td>\n",
       "      <td>[\\nYes\\n, \\n137 g CO2/km (comb)\\n]</td>\n",
       "      <td>[\\n, \\n, \\nEuro 6\\n]</td>\n",
       "      <td>[\\n, \\n, \\n4 (Green)\\n]</td>\n",
       "      <td>[\\n, \\n]</td>\n",
       "      <td>[]</td>\n",
       "      <td>\\nOpel\\n</td>\n",
       "      <td>[\\n, Corsa, \\n]</td>\n",
       "      <td>[\\n154\\n]</td>\n",
       "      <td>[\\n, 2018, \\n]</td>\n",
       "      <td>[\\n, Grey, \\n]</td>\n",
       "      <td>[\\nMetallic\\n]</td>\n",
       "      <td>[\\nGraphit Grau/Graffiti Grey\\n]</td>\n",
       "      <td>[\\nCloth, Black\\n]</td>\n",
       "      <td>[\\n, Compact, \\n]</td>\n",
       "      <td>[\\n4\\n]</td>\n",
       "      <td>[\\n5\\n]</td>\n",
       "      <td>NaN</td>\n",
       "      <td>[\\n, Automatic, \\n]</td>\n",
       "      <td>[\\n1,398 cc\\n]</td>\n",
       "      <td>NaN</td>\n",
       "      <td>NaN</td>\n",
       "      <td>NaN</td>\n",
       "      <td>[\\n, Super 95, \\n]</td>\n",
       "      <td>[[5.9 l/100 km (comb)], [7.9 l/100 km (city)],...</td>\n",
       "      <td>[\\n137 g CO2/km (comb)\\n]</td>\n",
       "      <td>[\\nEuro 6\\n]</td>\n",
       "      <td>[Air conditioning, Automatic climate control, ...</td>\n",
       "      <td>[Bluetooth, Hands-free equipment, On-board com...</td>\n",
       "      <td>[Alloy wheels, Sport seats, Touch screen, Voic...</td>\n",
       "      <td>[ABS, Central door lock, Daytime running light...</td>\n",
       "      <td>[\\n, E10 geeignet, Standort Bühl, Interieurfar...</td>\n",
       "      <td>NaN</td>\n",
       "      <td>NaN</td>\n",
       "      <td>[\\nGermany\\n]</td>\n",
       "      <td>NaN</td>\n",
       "      <td>NaN</td>\n",
       "      <td>NaN</td>\n",
       "      <td>NaN</td>\n",
       "      <td>NaN</td>\n",
       "      <td>NaN</td>\n",
       "    </tr>\n",
       "    <tr>\n",
       "      <th>14646</th>\n",
       "      <td>https://www.autoscout24.com//offers/renault-cl...</td>\n",
       "      <td>Renault Clio</td>\n",
       "      <td>Life TCe 75 WLTP</td>\n",
       "      <td>Compact</td>\n",
       "      <td>10390</td>\n",
       "      <td>None</td>\n",
       "      <td>1 km</td>\n",
       "      <td>05/2019</td>\n",
       "      <td>None</td>\n",
       "      <td>NaN</td>\n",
       "      <td>56 kW</td>\n",
       "      <td>[, Pre-registered, , Gasoline]</td>\n",
       "      <td>NaN</td>\n",
       "      <td>NaN</td>\n",
       "      <td>NaN</td>\n",
       "      <td>\\n48 months\\n</td>\n",
       "      <td>[\\n, \\n]</td>\n",
       "      <td>NaN</td>\n",
       "      <td>[]</td>\n",
       "      <td>\\nRenault\\n</td>\n",
       "      <td>[\\n, Clio, \\n]</td>\n",
       "      <td>[\\n10-900059\\n]</td>\n",
       "      <td>[\\n, 2019, \\n]</td>\n",
       "      <td>[\\n, Grey, \\n]</td>\n",
       "      <td>[\\nMetallic\\n]</td>\n",
       "      <td>[\\nTITANIUM GRAU\\n]</td>\n",
       "      <td>NaN</td>\n",
       "      <td>[\\n, Compact, \\n]</td>\n",
       "      <td>[\\n5\\n]</td>\n",
       "      <td>[\\n5\\n]</td>\n",
       "      <td>NaN</td>\n",
       "      <td>[\\n, Manual, \\n]</td>\n",
       "      <td>[\\n898 cc\\n]</td>\n",
       "      <td>NaN</td>\n",
       "      <td>[\\n1,126 kg\\n]</td>\n",
       "      <td>NaN</td>\n",
       "      <td>[\\n, Gasoline, \\n]</td>\n",
       "      <td>NaN</td>\n",
       "      <td>[[], [], []]</td>\n",
       "      <td>NaN</td>\n",
       "      <td>[Air conditioning, Cruise control, Power windows]</td>\n",
       "      <td>[Bluetooth, Hands-free equipment, On-board com...</td>\n",
       "      <td>NaN</td>\n",
       "      <td>[ABS, Central door lock, Daytime running light...</td>\n",
       "      <td>[\\nMobil:, Hr.Perko,0680/2359601, Hr.Jakupovic...</td>\n",
       "      <td>NaN</td>\n",
       "      <td>[\\n5\\n]</td>\n",
       "      <td>[\\nAustria\\n]</td>\n",
       "      <td>NaN</td>\n",
       "      <td>NaN</td>\n",
       "      <td>NaN</td>\n",
       "      <td>NaN</td>\n",
       "      <td>NaN</td>\n",
       "      <td>NaN</td>\n",
       "    </tr>\n",
       "    <tr>\n",
       "      <th>5764</th>\n",
       "      <td>https://www.autoscout24.com//offers/opel-astra...</td>\n",
       "      <td>Opel Astra</td>\n",
       "      <td>K Business Start/Stop 1.4 Turbo Navi PDC</td>\n",
       "      <td>Sedans</td>\n",
       "      <td>15990</td>\n",
       "      <td>VAT deductible</td>\n",
       "      <td>18,400 km</td>\n",
       "      <td>03/2018</td>\n",
       "      <td>1 previous owner</td>\n",
       "      <td>NaN</td>\n",
       "      <td>110 kW</td>\n",
       "      <td>[, Used, , Super 95]</td>\n",
       "      <td>\\n1\\n</td>\n",
       "      <td>NaN</td>\n",
       "      <td>[\\nYes\\n, \\n124 g CO2/km (comb)\\n]</td>\n",
       "      <td>[\\n, \\n, \\nEuro 6\\n]</td>\n",
       "      <td>NaN</td>\n",
       "      <td>NaN</td>\n",
       "      <td>[]</td>\n",
       "      <td>\\nOpel\\n</td>\n",
       "      <td>[\\n, Astra, \\n]</td>\n",
       "      <td>[\\nK325J\\n]</td>\n",
       "      <td>[\\n, 2018, \\n]</td>\n",
       "      <td>[\\n, Blue, \\n]</td>\n",
       "      <td>[\\nMetallic\\n]</td>\n",
       "      <td>[\\nTiefsee Blau\\n]</td>\n",
       "      <td>[\\nCloth, Black\\n]</td>\n",
       "      <td>[\\n, Sedans, \\n]</td>\n",
       "      <td>[\\n5\\n]</td>\n",
       "      <td>[\\n5\\n]</td>\n",
       "      <td>[\\n0035/BFM\\n]</td>\n",
       "      <td>[\\n, Automatic, \\n]</td>\n",
       "      <td>[\\n1,399 cc\\n]</td>\n",
       "      <td>[\\n4\\n]</td>\n",
       "      <td>[\\n1,308 kg\\n]</td>\n",
       "      <td>[\\nfront\\n]</td>\n",
       "      <td>[\\n, Super 95, \\n]</td>\n",
       "      <td>[[5.5 l/100 km (comb)], [7.2 l/100 km (city)],...</td>\n",
       "      <td>[\\n124 g CO2/km (comb)\\n]</td>\n",
       "      <td>[\\nEuro 6\\n]</td>\n",
       "      <td>[Air conditioning, Armrest, Cruise control, El...</td>\n",
       "      <td>[Bluetooth, Digital radio, Hands-free equipmen...</td>\n",
       "      <td>[Alloy wheels, Touch screen, Voice Control]</td>\n",
       "      <td>[ABS, Central door lock, Daytime running light...</td>\n",
       "      <td>[\\n, 17-Zoll-Alufelgen , Audio-Navigationssyst...</td>\n",
       "      <td>[\\n4 (Green)\\n]</td>\n",
       "      <td>[\\n6\\n]</td>\n",
       "      <td>NaN</td>\n",
       "      <td>NaN</td>\n",
       "      <td>NaN</td>\n",
       "      <td>NaN</td>\n",
       "      <td>NaN</td>\n",
       "      <td>NaN</td>\n",
       "      <td>NaN</td>\n",
       "    </tr>\n",
       "    <tr>\n",
       "      <th>5589</th>\n",
       "      <td>https://www.autoscout24.com//offers/audi-a3-sp...</td>\n",
       "      <td>Audi A3</td>\n",
       "      <td>Sportback design 30 TDI // LED/Navi/PDC/SHZ *6...</td>\n",
       "      <td>Station wagon</td>\n",
       "      <td>23525</td>\n",
       "      <td>VAT deductible</td>\n",
       "      <td>22 km</td>\n",
       "      <td>02/2019</td>\n",
       "      <td>None</td>\n",
       "      <td>NaN</td>\n",
       "      <td>85 kW</td>\n",
       "      <td>[, Used, , Diesel (Particulate Filter)]</td>\n",
       "      <td>NaN</td>\n",
       "      <td>NaN</td>\n",
       "      <td>NaN</td>\n",
       "      <td>\\n</td>\n",
       "      <td>NaN</td>\n",
       "      <td>NaN</td>\n",
       "      <td>[]</td>\n",
       "      <td>\\nAudi\\n</td>\n",
       "      <td>[\\n, A3, \\n]</td>\n",
       "      <td>[\\n97197\\n]</td>\n",
       "      <td>[\\n, 2019, \\n]</td>\n",
       "      <td>[\\n, Black, \\n]</td>\n",
       "      <td>NaN</td>\n",
       "      <td>[\\nBriliantschwarz\\n]</td>\n",
       "      <td>[\\nPart leather, Other\\n]</td>\n",
       "      <td>[\\n, Station wagon, \\n]</td>\n",
       "      <td>[\\n5\\n]</td>\n",
       "      <td>[\\n5\\n]</td>\n",
       "      <td>[\\n0588/BLH\\n]</td>\n",
       "      <td>[\\n, Manual, \\n]</td>\n",
       "      <td>[\\n1,598 cc\\n]</td>\n",
       "      <td>[\\n4\\n]</td>\n",
       "      <td>[\\n1,365 kg\\n]</td>\n",
       "      <td>[\\nfront\\n]</td>\n",
       "      <td>[\\n, Diesel (Particulate Filter), \\n]</td>\n",
       "      <td>[[4.4 l/100 km (comb)], [5 l/100 km (city)], [...</td>\n",
       "      <td>[\\n114 g CO2/km (comb)\\n]</td>\n",
       "      <td>[\\nEuro 6d-TEMP\\n]</td>\n",
       "      <td>[Air conditioning, Armrest, Automatic climate ...</td>\n",
       "      <td>[Bluetooth, MP3, On-board computer, Radio, USB]</td>\n",
       "      <td>[Alloy wheels, Catalytic Converter, Voice Cont...</td>\n",
       "      <td>[ABS, Central door lock, Daytime running light...</td>\n",
       "      <td>[\\n, Klimaautomatik 2-Zonen,  , MMI Navigation...</td>\n",
       "      <td>[\\n4 (Green)\\n]</td>\n",
       "      <td>[\\n6\\n]</td>\n",
       "      <td>[\\nEuropean Union\\n]</td>\n",
       "      <td>NaN</td>\n",
       "      <td>NaN</td>\n",
       "      <td>NaN</td>\n",
       "      <td>NaN</td>\n",
       "      <td>NaN</td>\n",
       "      <td>NaN</td>\n",
       "    </tr>\n",
       "  </tbody>\n",
       "</table>\n",
       "</div>"
      ],
      "text/plain": [
       "                                                     url    make_model  \\\n",
       "4765   https://www.autoscout24.com//offers/audi-a3-1-...       Audi A3   \n",
       "9489   https://www.autoscout24.com//offers/opel-corsa...    Opel Corsa   \n",
       "14646  https://www.autoscout24.com//offers/renault-cl...  Renault Clio   \n",
       "5764   https://www.autoscout24.com//offers/opel-astra...    Opel Astra   \n",
       "5589   https://www.autoscout24.com//offers/audi-a3-sp...       Audi A3   \n",
       "\n",
       "                                       short_description      body_type  \\\n",
       "4765                                1.6 TDI 116 CV Sport         Sedans   \n",
       "9489             E Color EDI | Parkpilot | Winterpaket |        Compact   \n",
       "14646                                   Life TCe 75 WLTP        Compact   \n",
       "5764            K Business Start/Stop 1.4 Turbo Navi PDC         Sedans   \n",
       "5589   Sportback design 30 TDI // LED/Navi/PDC/SHZ *6...  Station wagon   \n",
       "\n",
       "       price             vat         km registration        prev_owner  kW  \\\n",
       "4765   21500  VAT deductible  17,400 km      05/2018              None NaN   \n",
       "9489   14590  VAT deductible  37,734 km      03/2018  1 previous owner NaN   \n",
       "14646  10390            None       1 km      05/2019              None NaN   \n",
       "5764   15990  VAT deductible  18,400 km      03/2018  1 previous owner NaN   \n",
       "5589   23525  VAT deductible      22 km      02/2019              None NaN   \n",
       "\n",
       "           hp                                     Type Previous Owners  \\\n",
       "4765    85 kW             [, Employee's car, , Diesel]             NaN   \n",
       "9489    66 kW                     [, Used, , Super 95]           \\n1\\n   \n",
       "14646   56 kW           [, Pre-registered, , Gasoline]             NaN   \n",
       "5764   110 kW                     [, Used, , Super 95]           \\n1\\n   \n",
       "5589    85 kW  [, Used, , Diesel (Particulate Filter)]             NaN   \n",
       "\n",
       "      Next Inspection                      Inspection new  \\\n",
       "4765              NaN                                 NaN   \n",
       "9489              NaN  [\\nYes\\n, \\n137 g CO2/km (comb)\\n]   \n",
       "14646             NaN                                 NaN   \n",
       "5764              NaN  [\\nYes\\n, \\n124 g CO2/km (comb)\\n]   \n",
       "5589              NaN                                 NaN   \n",
       "\n",
       "                   Warranty             Full Service Non-smoking Vehicle null  \\\n",
       "4765                    NaN                      NaN                 NaN   []   \n",
       "9489   [\\n, \\n, \\nEuro 6\\n]  [\\n, \\n, \\n4 (Green)\\n]            [\\n, \\n]   []   \n",
       "14646         \\n48 months\\n                 [\\n, \\n]                 NaN   []   \n",
       "5764   [\\n, \\n, \\nEuro 6\\n]                      NaN                 NaN   []   \n",
       "5589                     \\n                      NaN                 NaN   []   \n",
       "\n",
       "              Make            Model     Offer Number First Registration  \\\n",
       "4765      \\nAudi\\n     [\\n, A3, \\n]    [\\n2620886\\n]     [\\n, 2018, \\n]   \n",
       "9489      \\nOpel\\n  [\\n, Corsa, \\n]        [\\n154\\n]     [\\n, 2018, \\n]   \n",
       "14646  \\nRenault\\n   [\\n, Clio, \\n]  [\\n10-900059\\n]     [\\n, 2019, \\n]   \n",
       "5764      \\nOpel\\n  [\\n, Astra, \\n]      [\\nK325J\\n]     [\\n, 2018, \\n]   \n",
       "5589      \\nAudi\\n     [\\n, A3, \\n]      [\\n97197\\n]     [\\n, 2019, \\n]   \n",
       "\n",
       "            Body Color      Paint Type               Body Color Original  \\\n",
       "4765   [\\n, Black, \\n]  [\\nMetallic\\n]                        [\\nNero\\n]   \n",
       "9489    [\\n, Grey, \\n]  [\\nMetallic\\n]  [\\nGraphit Grau/Graffiti Grey\\n]   \n",
       "14646   [\\n, Grey, \\n]  [\\nMetallic\\n]               [\\nTITANIUM GRAU\\n]   \n",
       "5764    [\\n, Blue, \\n]  [\\nMetallic\\n]                [\\nTiefsee Blau\\n]   \n",
       "5589   [\\n, Black, \\n]             NaN             [\\nBriliantschwarz\\n]   \n",
       "\n",
       "                      Upholstery                     Body Nr. of Doors  \\\n",
       "4765           [\\nCloth, Grey\\n]         [\\n, Sedans, \\n]      [\\n3\\n]   \n",
       "9489          [\\nCloth, Black\\n]        [\\n, Compact, \\n]      [\\n4\\n]   \n",
       "14646                        NaN        [\\n, Compact, \\n]      [\\n5\\n]   \n",
       "5764          [\\nCloth, Black\\n]         [\\n, Sedans, \\n]      [\\n5\\n]   \n",
       "5589   [\\nPart leather, Other\\n]  [\\n, Station wagon, \\n]      [\\n5\\n]   \n",
       "\n",
       "      Nr. of Seats      Model Code         Gearing Type    Displacement  \\\n",
       "4765       [\\n5\\n]             NaN     [\\n, Manual, \\n]  [\\n1,598 cc\\n]   \n",
       "9489       [\\n5\\n]             NaN  [\\n, Automatic, \\n]  [\\n1,398 cc\\n]   \n",
       "14646      [\\n5\\n]             NaN     [\\n, Manual, \\n]    [\\n898 cc\\n]   \n",
       "5764       [\\n5\\n]  [\\n0035/BFM\\n]  [\\n, Automatic, \\n]  [\\n1,399 cc\\n]   \n",
       "5589       [\\n5\\n]  [\\n0588/BLH\\n]     [\\n, Manual, \\n]  [\\n1,598 cc\\n]   \n",
       "\n",
       "      Cylinders          Weight  Drive chain  \\\n",
       "4765    [\\n4\\n]  [\\n1,230 kg\\n]  [\\nfront\\n]   \n",
       "9489        NaN             NaN          NaN   \n",
       "14646       NaN  [\\n1,126 kg\\n]          NaN   \n",
       "5764    [\\n4\\n]  [\\n1,308 kg\\n]  [\\nfront\\n]   \n",
       "5589    [\\n4\\n]  [\\n1,365 kg\\n]  [\\nfront\\n]   \n",
       "\n",
       "                                        Fuel  \\\n",
       "4765                        [\\n, Diesel, \\n]   \n",
       "9489                      [\\n, Super 95, \\n]   \n",
       "14646                     [\\n, Gasoline, \\n]   \n",
       "5764                      [\\n, Super 95, \\n]   \n",
       "5589   [\\n, Diesel (Particulate Filter), \\n]   \n",
       "\n",
       "                                             Consumption  \\\n",
       "4765   [[4 l/100 km (comb)], [4.5 l/100 km (city)], [...   \n",
       "9489   [[5.9 l/100 km (comb)], [7.9 l/100 km (city)],...   \n",
       "14646                                                NaN   \n",
       "5764   [[5.5 l/100 km (comb)], [7.2 l/100 km (city)],...   \n",
       "5589   [[4.4 l/100 km (comb)], [5 l/100 km (city)], [...   \n",
       "\n",
       "                    CO2 Emission      Emission Class  \\\n",
       "4765   [\\n106 g CO2/km (comb)\\n]        [\\nEuro 6\\n]   \n",
       "9489   [\\n137 g CO2/km (comb)\\n]        [\\nEuro 6\\n]   \n",
       "14646               [[], [], []]                 NaN   \n",
       "5764   [\\n124 g CO2/km (comb)\\n]        [\\nEuro 6\\n]   \n",
       "5589   [\\n114 g CO2/km (comb)\\n]  [\\nEuro 6d-TEMP\\n]   \n",
       "\n",
       "                               \\nComfort & Convenience\\n  \\\n",
       "4765   [Air conditioning, Multi-function steering whe...   \n",
       "9489   [Air conditioning, Automatic climate control, ...   \n",
       "14646  [Air conditioning, Cruise control, Power windows]   \n",
       "5764   [Air conditioning, Armrest, Cruise control, El...   \n",
       "5589   [Air conditioning, Armrest, Automatic climate ...   \n",
       "\n",
       "                               \\nEntertainment & Media\\n  \\\n",
       "4765                                  [Bluetooth, Radio]   \n",
       "9489   [Bluetooth, Hands-free equipment, On-board com...   \n",
       "14646  [Bluetooth, Hands-free equipment, On-board com...   \n",
       "5764   [Bluetooth, Digital radio, Hands-free equipmen...   \n",
       "5589     [Bluetooth, MP3, On-board computer, Radio, USB]   \n",
       "\n",
       "                                              \\nExtras\\n  \\\n",
       "4765                         [Alloy wheels, Sport seats]   \n",
       "9489   [Alloy wheels, Sport seats, Touch screen, Voic...   \n",
       "14646                                                NaN   \n",
       "5764         [Alloy wheels, Touch screen, Voice Control]   \n",
       "5589   [Alloy wheels, Catalytic Converter, Voice Cont...   \n",
       "\n",
       "                                   \\nSafety & Security\\n  \\\n",
       "4765   [ABS, Central door lock, Driver-side airbag, E...   \n",
       "9489   [ABS, Central door lock, Daytime running light...   \n",
       "14646  [ABS, Central door lock, Daytime running light...   \n",
       "5764   [ABS, Central door lock, Daytime running light...   \n",
       "5589   [ABS, Central door lock, Daytime running light...   \n",
       "\n",
       "                                             description   Emission Label  \\\n",
       "4765   [\\nDEK:[2620886], Splendida vettura aziendale ...              NaN   \n",
       "9489   [\\n, E10 geeignet, Standort Bühl, Interieurfar...              NaN   \n",
       "14646  [\\nMobil:, Hr.Perko,0680/2359601, Hr.Jakupovic...              NaN   \n",
       "5764   [\\n, 17-Zoll-Alufelgen , Audio-Navigationssyst...  [\\n4 (Green)\\n]   \n",
       "5589   [\\n, Klimaautomatik 2-Zonen,  , MMI Navigation...  [\\n4 (Green)\\n]   \n",
       "\n",
       "         Gears       Country version Electricity consumption  \\\n",
       "4765   [\\n6\\n]                   NaN                     NaN   \n",
       "9489       NaN         [\\nGermany\\n]                     NaN   \n",
       "14646  [\\n5\\n]         [\\nAustria\\n]                     NaN   \n",
       "5764   [\\n6\\n]                   NaN                     NaN   \n",
       "5589   [\\n6\\n]  [\\nEuropean Union\\n]                     NaN   \n",
       "\n",
       "      Last Service Date Other Fuel Types Availability  \\\n",
       "4765                NaN              NaN          NaN   \n",
       "9489                NaN              NaN          NaN   \n",
       "14646               NaN              NaN          NaN   \n",
       "5764                NaN              NaN          NaN   \n",
       "5589                NaN              NaN          NaN   \n",
       "\n",
       "      Last Timing Belt Service Date Available from  \n",
       "4765                            NaN            NaN  \n",
       "9489                            NaN            NaN  \n",
       "14646                           NaN            NaN  \n",
       "5764                            NaN            NaN  \n",
       "5589                            NaN            NaN  "
      ]
     },
     "execution_count": 6,
     "metadata": {},
     "output_type": "execute_result"
    }
   ],
   "source": [
    "df.sample(5)"
   ]
  },
  {
   "cell_type": "code",
   "execution_count": 7,
   "metadata": {
    "scrolled": false
   },
   "outputs": [
    {
     "name": "stdout",
     "output_type": "stream",
     "text": [
      "<class 'pandas.core.frame.DataFrame'>\n",
      "RangeIndex: 15919 entries, 0 to 15918\n",
      "Data columns (total 54 columns):\n",
      " #   Column                         Non-Null Count  Dtype  \n",
      "---  ------                         --------------  -----  \n",
      " 0   url                            15919 non-null  object \n",
      " 1   make_model                     15919 non-null  object \n",
      " 2   short_description              15873 non-null  object \n",
      " 3   body_type                      15859 non-null  object \n",
      " 4   price                          15919 non-null  int64  \n",
      " 5   vat                            11406 non-null  object \n",
      " 6   km                             15919 non-null  object \n",
      " 7   registration                   15919 non-null  object \n",
      " 8   prev_owner                     9091 non-null   object \n",
      " 9   kW                             0 non-null      float64\n",
      " 10  hp                             15919 non-null  object \n",
      " 11  Type                           15917 non-null  object \n",
      " 12  Previous Owners                9279 non-null   object \n",
      " 13  Next Inspection                3535 non-null   object \n",
      " 14  Inspection new                 3932 non-null   object \n",
      " 15  Warranty                       10499 non-null  object \n",
      " 16  Full Service                   8215 non-null   object \n",
      " 17  Non-smoking Vehicle            7177 non-null   object \n",
      " 18  null                           15919 non-null  object \n",
      " 19  Make                           15919 non-null  object \n",
      " 20  Model                          15919 non-null  object \n",
      " 21  Offer Number                   12744 non-null  object \n",
      " 22  First Registration             14322 non-null  object \n",
      " 23  Body Color                     15322 non-null  object \n",
      " 24  Paint Type                     10147 non-null  object \n",
      " 25  Body Color Original            12160 non-null  object \n",
      " 26  Upholstery                     12199 non-null  object \n",
      " 27  Body                           15859 non-null  object \n",
      " 28  Nr. of Doors                   15707 non-null  object \n",
      " 29  Nr. of Seats                   14942 non-null  object \n",
      " 30  Model Code                     4978 non-null   object \n",
      " 31  Gearing Type                   15919 non-null  object \n",
      " 32  Displacement                   15423 non-null  object \n",
      " 33  Cylinders                      10239 non-null  object \n",
      " 34  Weight                         8945 non-null   object \n",
      " 35  Drive chain                    9061 non-null   object \n",
      " 36  Fuel                           15919 non-null  object \n",
      " 37  Consumption                    14013 non-null  object \n",
      " 38  CO2 Emission                   14111 non-null  object \n",
      " 39  Emission Class                 12898 non-null  object \n",
      " 40  \n",
      "Comfort & Convenience\n",
      "        14999 non-null  object \n",
      " 41  \n",
      "Entertainment & Media\n",
      "        14545 non-null  object \n",
      " 42  \n",
      "Extras\n",
      "                       12957 non-null  object \n",
      " 43  \n",
      "Safety & Security\n",
      "            14937 non-null  object \n",
      " 44  description                    15919 non-null  object \n",
      " 45  Emission Label                 3985 non-null   object \n",
      " 46  Gears                          11207 non-null  object \n",
      " 47  Country version                7586 non-null   object \n",
      " 48  Electricity consumption        137 non-null    object \n",
      " 49  Last Service Date              566 non-null    object \n",
      " 50  Other Fuel Types               880 non-null    object \n",
      " 51  Availability                   635 non-null    object \n",
      " 52  Last Timing Belt Service Date  16 non-null     object \n",
      " 53  Available from                 272 non-null    object \n",
      "dtypes: float64(1), int64(1), object(52)\n",
      "memory usage: 6.6+ MB\n"
     ]
    }
   ],
   "source": [
    "df.info()"
   ]
  },
  {
   "cell_type": "code",
   "execution_count": 8,
   "metadata": {},
   "outputs": [
    {
     "data": {
      "text/plain": [
       "Index(['url', 'make_model', 'short_description', 'body_type', 'price', 'vat',\n",
       "       'km', 'registration', 'prev_owner', 'kW', 'hp', 'Type',\n",
       "       'Previous Owners', 'Next Inspection', 'Inspection new', 'Warranty',\n",
       "       'Full Service', 'Non-smoking Vehicle', 'null', 'Make', 'Model',\n",
       "       'Offer Number', 'First Registration', 'Body Color', 'Paint Type',\n",
       "       'Body Color Original', 'Upholstery', 'Body', 'Nr. of Doors',\n",
       "       'Nr. of Seats', 'Model Code', 'Gearing Type', 'Displacement',\n",
       "       'Cylinders', 'Weight', 'Drive chain', 'Fuel', 'Consumption',\n",
       "       'CO2 Emission', 'Emission Class', '\\nComfort & Convenience\\n',\n",
       "       '\\nEntertainment & Media\\n', '\\nExtras\\n', '\\nSafety & Security\\n',\n",
       "       'description', 'Emission Label', 'Gears', 'Country version',\n",
       "       'Electricity consumption', 'Last Service Date', 'Other Fuel Types',\n",
       "       'Availability', 'Last Timing Belt Service Date', 'Available from'],\n",
       "      dtype='object')"
      ]
     },
     "execution_count": 8,
     "metadata": {},
     "output_type": "execute_result"
    }
   ],
   "source": [
    "# Changing column names\n",
    "df.columns"
   ]
  },
  {
   "cell_type": "code",
   "execution_count": 9,
   "metadata": {},
   "outputs": [],
   "source": [
    "# !pip install skimpy\n",
    "from skimpy import clean_columns"
   ]
  },
  {
   "cell_type": "code",
   "execution_count": 10,
   "metadata": {},
   "outputs": [
    {
     "data": {
      "text/html": [
       "<pre style=\"white-space:pre;overflow-x:auto;line-height:normal;font-family:Menlo,'DejaVu Sans Mono',consolas,'Courier New',monospace\"><span style=\"color: #008080; text-decoration-color: #008080; font-weight: bold\">42</span> column names have been cleaned\n",
       "</pre>\n"
      ],
      "text/plain": [
       "\u001b[1;36m42\u001b[0m column names have been cleaned\n"
      ]
     },
     "metadata": {},
     "output_type": "display_data"
    }
   ],
   "source": [
    "df = clean_columns(df)  # cleaning column names using skimpy clean_columns method"
   ]
  },
  {
   "cell_type": "code",
   "execution_count": 11,
   "metadata": {},
   "outputs": [
    {
     "data": {
      "text/plain": [
       "Index(['url', 'make_model', 'short_description', 'body_type', 'price', 'vat',\n",
       "       'km', 'registration', 'prev_owner', 'k_w', 'hp', 'type',\n",
       "       'previous_owners', 'next_inspection', 'inspection_new', 'warranty',\n",
       "       'full_service', 'non_smoking_vehicle', 'null', 'make', 'model',\n",
       "       'offer_number', 'first_registration', 'body_color', 'paint_type',\n",
       "       'body_color_original', 'upholstery', 'body', 'nr_of_doors',\n",
       "       'nr_of_seats', 'model_code', 'gearing_type', 'displacement',\n",
       "       'cylinders', 'weight', 'drive_chain', 'fuel', 'consumption',\n",
       "       'co_2_emission', 'emission_class', 'comfort_&_convenience',\n",
       "       'entertainment_&_media', 'extras', 'safety_&_security', 'description',\n",
       "       'emission_label', 'gears', 'country_version', 'electricity_consumption',\n",
       "       'last_service_date', 'other_fuel_types', 'availability',\n",
       "       'last_timing_belt_service_date', 'available_from'],\n",
       "      dtype='object')"
      ]
     },
     "execution_count": 11,
     "metadata": {},
     "output_type": "execute_result"
    }
   ],
   "source": [
    "df.columns"
   ]
  },
  {
   "cell_type": "code",
   "execution_count": 12,
   "metadata": {},
   "outputs": [],
   "source": [
    "df.rename(columns = {'k_w':'kW',\n",
    "                     'co_2_emission':'co2_emission',\n",
    "                     'comfort_&_convenience': 'comfort&convenience',\n",
    "                    'entertainment_&_media':'entertainment&media',\n",
    "                    'safety_&_security':'safety_&_security'}, inplace = True)"
   ]
  },
  {
   "cell_type": "code",
   "execution_count": 13,
   "metadata": {},
   "outputs": [
    {
     "data": {
      "text/plain": [
       "Index(['url', 'make_model', 'short_description', 'body_type', 'price', 'vat',\n",
       "       'km', 'registration', 'prev_owner', 'kW', 'hp', 'type',\n",
       "       'previous_owners', 'next_inspection', 'inspection_new', 'warranty',\n",
       "       'full_service', 'non_smoking_vehicle', 'null', 'make', 'model',\n",
       "       'offer_number', 'first_registration', 'body_color', 'paint_type',\n",
       "       'body_color_original', 'upholstery', 'body', 'nr_of_doors',\n",
       "       'nr_of_seats', 'model_code', 'gearing_type', 'displacement',\n",
       "       'cylinders', 'weight', 'drive_chain', 'fuel', 'consumption',\n",
       "       'co2_emission', 'emission_class', 'comfort&convenience',\n",
       "       'entertainment&media', 'extras', 'safety_&_security', 'description',\n",
       "       'emission_label', 'gears', 'country_version', 'electricity_consumption',\n",
       "       'last_service_date', 'other_fuel_types', 'availability',\n",
       "       'last_timing_belt_service_date', 'available_from'],\n",
       "      dtype='object')"
      ]
     },
     "execution_count": 13,
     "metadata": {},
     "output_type": "execute_result"
    }
   ],
   "source": [
    "df.columns"
   ]
  },
  {
   "cell_type": "code",
   "execution_count": 14,
   "metadata": {
    "id": "WDZnqBhbs1ME",
    "scrolled": true
   },
   "outputs": [
    {
     "data": {
      "text/plain": [
       "url                                  0\n",
       "make_model                           0\n",
       "short_description                   46\n",
       "body_type                           60\n",
       "price                                0\n",
       "vat                               4513\n",
       "km                                   0\n",
       "registration                         0\n",
       "prev_owner                        6828\n",
       "kW                               15919\n",
       "hp                                   0\n",
       "type                                 2\n",
       "previous_owners                   6640\n",
       "next_inspection                  12384\n",
       "inspection_new                   11987\n",
       "warranty                          5420\n",
       "full_service                      7704\n",
       "non_smoking_vehicle               8742\n",
       "null                                 0\n",
       "make                                 0\n",
       "model                                0\n",
       "offer_number                      3175\n",
       "first_registration                1597\n",
       "body_color                         597\n",
       "paint_type                        5772\n",
       "body_color_original               3759\n",
       "upholstery                        3720\n",
       "body                                60\n",
       "nr_of_doors                        212\n",
       "nr_of_seats                        977\n",
       "model_code                       10941\n",
       "gearing_type                         0\n",
       "displacement                       496\n",
       "cylinders                         5680\n",
       "weight                            6974\n",
       "drive_chain                       6858\n",
       "fuel                                 0\n",
       "consumption                       1906\n",
       "co2_emission                      1808\n",
       "emission_class                    3021\n",
       "comfort&convenience                920\n",
       "entertainment&media               1374\n",
       "extras                            2962\n",
       "safety_&_security                  982\n",
       "description                          0\n",
       "emission_label                   11934\n",
       "gears                             4712\n",
       "country_version                   8333\n",
       "electricity_consumption          15782\n",
       "last_service_date                15353\n",
       "other_fuel_types                 15039\n",
       "availability                     15284\n",
       "last_timing_belt_service_date    15903\n",
       "available_from                   15647\n",
       "dtype: int64"
      ]
     },
     "execution_count": 14,
     "metadata": {},
     "output_type": "execute_result"
    }
   ],
   "source": [
    "df.isnull().sum()"
   ]
  },
  {
   "cell_type": "code",
   "execution_count": 15,
   "metadata": {
    "scrolled": true
   },
   "outputs": [
    {
     "data": {
      "text/plain": [
       "url                                0.000000\n",
       "make_model                         0.000000\n",
       "short_description                  0.288963\n",
       "body_type                          0.376908\n",
       "price                              0.000000\n",
       "vat                               28.349771\n",
       "km                                 0.000000\n",
       "registration                       0.000000\n",
       "prev_owner                        42.892141\n",
       "kW                               100.000000\n",
       "hp                                 0.000000\n",
       "type                               0.012564\n",
       "previous_owners                   41.711163\n",
       "next_inspection                   77.793831\n",
       "inspection_new                    75.299956\n",
       "warranty                          34.047365\n",
       "full_service                      48.395000\n",
       "non_smoking_vehicle               54.915510\n",
       "null                               0.000000\n",
       "make                               0.000000\n",
       "model                              0.000000\n",
       "offer_number                      19.944720\n",
       "first_registration                10.032037\n",
       "body_color                         3.750236\n",
       "paint_type                        36.258559\n",
       "body_color_original               23.613292\n",
       "upholstery                        23.368302\n",
       "body                               0.376908\n",
       "nr_of_doors                        1.331742\n",
       "nr_of_seats                        6.137320\n",
       "model_code                        68.729192\n",
       "gearing_type                       0.000000\n",
       "displacement                       3.115774\n",
       "cylinders                         35.680633\n",
       "weight                            43.809285\n",
       "drive_chain                       43.080596\n",
       "fuel                               0.000000\n",
       "consumption                       11.973114\n",
       "co2_emission                      11.357497\n",
       "emission_class                    18.977323\n",
       "comfort&convenience                5.779257\n",
       "entertainment&media                8.631195\n",
       "extras                            18.606696\n",
       "safety_&_security                  6.168729\n",
       "description                        0.000000\n",
       "emission_label                    74.967021\n",
       "gears                             29.599849\n",
       "country_version                   52.346253\n",
       "electricity_consumption           99.139393\n",
       "last_service_date                 96.444500\n",
       "other_fuel_types                  94.472015\n",
       "availability                      96.011056\n",
       "last_timing_belt_service_date     99.899491\n",
       "available_from                    98.291350\n",
       "dtype: float64"
      ]
     },
     "execution_count": 15,
     "metadata": {},
     "output_type": "execute_result"
    }
   ],
   "source": [
    "df.isnull().sum()/len(df)*100 # percentages of null values in each column"
   ]
  },
  {
   "cell_type": "code",
   "execution_count": 16,
   "metadata": {
    "scrolled": true
   },
   "outputs": [
    {
     "data": {
      "text/plain": [
       "kW                               100.000000\n",
       "last_timing_belt_service_date     99.899491\n",
       "electricity_consumption           99.139393\n",
       "available_from                    98.291350\n",
       "last_service_date                 96.444500\n",
       "availability                      96.011056\n",
       "other_fuel_types                  94.472015\n",
       "next_inspection                   77.793831\n",
       "inspection_new                    75.299956\n",
       "emission_label                    74.967021\n",
       "model_code                        68.729192\n",
       "non_smoking_vehicle               54.915510\n",
       "country_version                   52.346253\n",
       "full_service                      48.395000\n",
       "weight                            43.809285\n",
       "drive_chain                       43.080596\n",
       "prev_owner                        42.892141\n",
       "previous_owners                   41.711163\n",
       "paint_type                        36.258559\n",
       "cylinders                         35.680633\n",
       "warranty                          34.047365\n",
       "gears                             29.599849\n",
       "vat                               28.349771\n",
       "body_color_original               23.613292\n",
       "upholstery                        23.368302\n",
       "offer_number                      19.944720\n",
       "emission_class                    18.977323\n",
       "extras                            18.606696\n",
       "consumption                       11.973114\n",
       "co2_emission                      11.357497\n",
       "first_registration                10.032037\n",
       "entertainment&media                8.631195\n",
       "safety_&_security                  6.168729\n",
       "nr_of_seats                        6.137320\n",
       "comfort&convenience                5.779257\n",
       "body_color                         3.750236\n",
       "displacement                       3.115774\n",
       "nr_of_doors                        1.331742\n",
       "body                               0.376908\n",
       "body_type                          0.376908\n",
       "short_description                  0.288963\n",
       "type                               0.012564\n",
       "fuel                               0.000000\n",
       "gearing_type                       0.000000\n",
       "make_model                         0.000000\n",
       "model                              0.000000\n",
       "make                               0.000000\n",
       "description                        0.000000\n",
       "null                               0.000000\n",
       "hp                                 0.000000\n",
       "registration                       0.000000\n",
       "km                                 0.000000\n",
       "price                              0.000000\n",
       "url                                0.000000\n",
       "dtype: float64"
      ]
     },
     "execution_count": 16,
     "metadata": {},
     "output_type": "execute_result"
    }
   ],
   "source": [
    "(df.isna().sum()/df.shape[0]*100).sort_values(ascending=False)"
   ]
  },
  {
   "cell_type": "code",
   "execution_count": 17,
   "metadata": {
    "code_folding": []
   },
   "outputs": [],
   "source": [
    "def check_df(col):\n",
    "    print('column name : ', col)\n",
    "    print('--------------------------------')\n",
    "    print('Per_of_Nulls   : ', '%', round(df[col].isnull().sum() / df.shape[0]*100, 2))\n",
    "    print('Num_of_Nulls   : ', df[col].isnull().sum())\n",
    "    print(df[col].value_counts(dropna = False))\n",
    "    print(\"*\"*30)\n",
    "    print(\"\\n\\n\")"
   ]
  },
  {
   "cell_type": "code",
   "execution_count": 18,
   "metadata": {
    "scrolled": true
   },
   "outputs": [
    {
     "name": "stdout",
     "output_type": "stream",
     "text": [
      "column name :  url\n",
      "--------------------------------\n",
      "Per_of_Nulls   :  % 0.0\n",
      "Num_of_Nulls   :  0\n",
      "https://www.autoscout24.com//offers/audi-a1-sportback-1-4-tdi-s-tronic-xenon-navi-klima-diesel-black-bdab349a-caa5-41b0-98eb-c1345b84445e                  1\n",
      "https://www.autoscout24.com//offers/opel-insignia-bus-inno-2-0-cdti-aut-navi-bi-xe-led-e6-diesel-black-8710b253-dd98-4ed0-9d46-cbad2d79532b                1\n",
      "https://www.autoscout24.com//offers/opel-insignia-sport-tourer-opel-sport-tourer-1-6-cdti-136-ch-a-c-diesel-silver-10b7463b-9f56-4348-af35-df3432b2b585    1\n",
      "https://www.autoscout24.com//offers/opel-insignia-2-0cdti-st-business-innovation-navi-bt-diesel-black-ba5a3368-dedc-4e51-9127-3976b26e93c2                 1\n",
      "https://www.autoscout24.com//offers/opel-insignia-sport-tourer-opel-sport-tourer-1-6-cdti-136-ch-a-c-diesel-silver-7b52f054-78d3-4d5e-9370-8a7d081d7edd    1\n",
      "                                                                                                                                                          ..\n",
      "https://www.autoscout24.com//offers/audi-a3-sb-30-1-6-tdi-business-116cv-s-tronic-diesel-black-cf50f7b1-4d7b-466f-93a2-4e11ec0b4107                        1\n",
      "https://www.autoscout24.com//offers/audi-a3-sb-30-1-6-tdi-business-116cv-s-tronic-diesel-grey-3f47eb34-15c4-4763-860d-78fcbbd2c9ff                         1\n",
      "https://www.autoscout24.com//offers/audi-a3-sb-30-1-6-tdi-business-116cv-s-tronic-diesel-silver-f7a4bc95-b2ef-4bac-9497-6bcbcd05db0b                       1\n",
      "https://www.autoscout24.com//offers/audi-a3-sb-30-1-6-tdi-business-116cv-s-tronic-diesel-silver-1c94c7a2-67b5-49ca-ae42-42a6800fb3f5                       1\n",
      "https://www.autoscout24.com//offers/renault-espace-initiale-paris-tce-225-edc-gpf-navi-shz-aux-gasoline-grey-0bd690d9-7e93-4cab-bc5a-9d5b63402481          1\n",
      "Name: url, Length: 15919, dtype: int64\n",
      "******************************\n",
      "\n",
      "\n",
      "\n",
      "column name :  make_model\n",
      "--------------------------------\n",
      "Per_of_Nulls   :  % 0.0\n",
      "Num_of_Nulls   :  0\n",
      "Audi A3           3097\n",
      "Audi A1           2614\n",
      "Opel Insignia     2598\n",
      "Opel Astra        2526\n",
      "Opel Corsa        2219\n",
      "Renault Clio      1839\n",
      "Renault Espace     991\n",
      "Renault Duster      34\n",
      "Audi A2              1\n",
      "Name: make_model, dtype: int64\n",
      "******************************\n",
      "\n",
      "\n",
      "\n",
      "column name :  short_description\n",
      "--------------------------------\n",
      "Per_of_Nulls   :  % 0.29\n",
      "Num_of_Nulls   :  46\n",
      "SPB 1.6 TDI 116 CV S tronic Sport                 64\n",
      "None                                              46\n",
      "1.4 66kW (90CV) Selective                         40\n",
      "MOVE KLIMA CD USB ALLWETTER BLUETOOTH             38\n",
      "SPB 30 TDI S tronic Business                      35\n",
      "                                                  ..\n",
      "K Sports Tourer Business **Navi*Voll**             1\n",
      "1.0 Turbo ecoFLEX Automatic Elective Park Navi     1\n",
      "1.6 CDTI Business *Navi*Automatik*Spurh.*          1\n",
      "1.6 136 CV Automatica Navi E 6 Garanzia Full       1\n",
      "TCe 225 EDC GPF LIM Deluxe Pano,RFK                1\n",
      "Name: short_description, Length: 10002, dtype: int64\n",
      "******************************\n",
      "\n",
      "\n",
      "\n",
      "column name :  body_type\n",
      "--------------------------------\n",
      "Per_of_Nulls   :  % 0.38\n",
      "Num_of_Nulls   :  60\n",
      "Sedans           7903\n",
      "Station wagon    3553\n",
      "Compact          3153\n",
      "Van               783\n",
      "Other             290\n",
      "Transporter        88\n",
      "None               60\n",
      "Off-Road           56\n",
      "Coupe              25\n",
      "Convertible         8\n",
      "Name: body_type, dtype: int64\n",
      "******************************\n",
      "\n",
      "\n",
      "\n",
      "column name :  price\n",
      "--------------------------------\n",
      "Per_of_Nulls   :  % 0.0\n",
      "Num_of_Nulls   :  0\n",
      "14990    154\n",
      "15990    151\n",
      "10990    139\n",
      "15900    106\n",
      "17990    102\n",
      "        ... \n",
      "17559      1\n",
      "17560      1\n",
      "17570      1\n",
      "17575      1\n",
      "39875      1\n",
      "Name: price, Length: 2956, dtype: int64\n",
      "******************************\n",
      "\n",
      "\n",
      "\n",
      "column name :  vat\n",
      "--------------------------------\n",
      "Per_of_Nulls   :  % 28.35\n",
      "Num_of_Nulls   :  4513\n",
      "VAT deductible      10980\n",
      "None                 4513\n",
      "Price negotiable      426\n",
      "Name: vat, dtype: int64\n",
      "******************************\n",
      "\n",
      "\n",
      "\n",
      "column name :  km\n",
      "--------------------------------\n",
      "Per_of_Nulls   :  % 0.0\n",
      "Num_of_Nulls   :  0\n",
      "10 km        1045\n",
      "- km         1024\n",
      "1 km          367\n",
      "5 km          170\n",
      "50 km         148\n",
      "             ... \n",
      "67,469 km       1\n",
      "43,197 km       1\n",
      "10,027 km       1\n",
      "35,882 km       1\n",
      "57 km           1\n",
      "Name: km, Length: 6690, dtype: int64\n",
      "******************************\n",
      "\n",
      "\n",
      "\n",
      "column name :  registration\n",
      "--------------------------------\n",
      "Per_of_Nulls   :  % 0.0\n",
      "Num_of_Nulls   :  0\n",
      "-/-        1597\n",
      "03/2018     695\n",
      "02/2019     585\n",
      "05/2018     572\n",
      "03/2019     543\n",
      "01/2019     541\n",
      "04/2018     541\n",
      "02/2018     539\n",
      "03/2016     536\n",
      "04/2016     532\n",
      "06/2018     532\n",
      "01/2018     511\n",
      "04/2019     506\n",
      "02/2016     472\n",
      "03/2017     471\n",
      "05/2016     459\n",
      "06/2016     452\n",
      "05/2019     440\n",
      "06/2017     409\n",
      "05/2017     404\n",
      "07/2018     396\n",
      "04/2017     380\n",
      "01/2016     376\n",
      "02/2017     368\n",
      "01/2017     306\n",
      "08/2018     285\n",
      "06/2019     224\n",
      "07/2017     215\n",
      "11/2017     180\n",
      "07/2016     176\n",
      "10/2016     160\n",
      "10/2017     154\n",
      "09/2017     149\n",
      "11/2016     142\n",
      "09/2018     141\n",
      "09/2016     141\n",
      "12/2016     134\n",
      "12/2017     123\n",
      "08/2017     114\n",
      "11/2018     110\n",
      "12/2018     103\n",
      "10/2018      97\n",
      "08/2016      94\n",
      "07/2019       6\n",
      "09/2019       5\n",
      "08/2019       1\n",
      "11/2019       1\n",
      "12/2019       1\n",
      "Name: registration, dtype: int64\n",
      "******************************\n",
      "\n",
      "\n",
      "\n",
      "column name :  prev_owner\n",
      "--------------------------------\n",
      "Per_of_Nulls   :  % 42.89\n",
      "Num_of_Nulls   :  6828\n",
      "1 previous owner     8294\n",
      "None                 6828\n",
      "2 previous owners     778\n",
      "3 previous owners      17\n",
      "4 previous owners       2\n",
      "Name: prev_owner, dtype: int64\n",
      "******************************\n",
      "\n",
      "\n",
      "\n",
      "column name :  kW\n",
      "--------------------------------\n",
      "Per_of_Nulls   :  % 100.0\n",
      "Num_of_Nulls   :  15919\n",
      "NaN    15919\n",
      "Name: kW, dtype: int64\n",
      "******************************\n",
      "\n",
      "\n",
      "\n",
      "column name :  hp\n",
      "--------------------------------\n",
      "Per_of_Nulls   :  % 0.0\n",
      "Num_of_Nulls   :  0\n",
      "85 kW     2542\n",
      "66 kW     2122\n",
      "81 kW     1402\n",
      "100 kW    1308\n",
      "110 kW    1112\n",
      "          ... \n",
      "84 kW        1\n",
      "195 kW       1\n",
      "44 kW        1\n",
      "239 kW       1\n",
      "9 kW         1\n",
      "Name: hp, Length: 81, dtype: int64\n",
      "******************************\n",
      "\n",
      "\n",
      "\n",
      "column name :  type\n",
      "--------------------------------\n",
      "Per_of_Nulls   :  % 0.01\n",
      "Num_of_Nulls   :  2\n",
      "[, Used, , Diesel (Particulate Filter)]                                                                                 3475\n",
      "[, Used, , Diesel]                                                                                                      2516\n",
      "[, Used, , Gasoline]                                                                                                    2367\n",
      "[, Used, , Super 95]                                                                                                    1818\n",
      "[, Pre-registered, , Super 95]                                                                                           500\n",
      "                                                                                                                        ... \n",
      "[, New, , Regular/Benzine 91 / Super 95 / Super Plus 98 / Regular/Benzine E10 91 / Super Plus E10 98 / Super E10 95]       1\n",
      "[, Used, , Super 95 / Super Plus 98 / Super E10 95 / Super Plus E10 98 (Particulate Filter)]                               1\n",
      "[, Demonstration, , Super Plus 98]                                                                                         1\n",
      "[, New, , Super Plus E10 98]                                                                                               1\n",
      "[, Demonstration, , Regular/Benzine E10 91]                                                                                1\n",
      "Name: type, Length: 170, dtype: int64\n",
      "******************************\n",
      "\n",
      "\n",
      "\n",
      "column name :  previous_owners\n",
      "--------------------------------\n",
      "Per_of_Nulls   :  % 41.71\n",
      "Num_of_Nulls   :  6640\n",
      "\\n1\\n                                                                                        8101\n",
      "NaN                                                                                          6640\n",
      "\\n2\\n                                                                                         766\n",
      "\\n0\\n                                                                                         163\n",
      "\\n3\\n                                                                                          17\n",
      "                                                                                             ... \n",
      "[\\n1\\n, \\n111 g CO2/km (comb)\\n]                                                                1\n",
      "[\\n1\\n, \\nEuro 6\\n]                                                                             1\n",
      "[\\n2\\n, \\n119 g CO2/km (comb)\\n]                                                                1\n",
      "[\\n1\\n, \\n, 6.6 l/100 km (comb), \\n, 8.1 l/100 km (city), \\n, 5.7 l/100 km (country), \\n]       1\n",
      "[\\n2\\n, \\n137 g CO2/km (comb)\\n]                                                                1\n",
      "Name: previous_owners, Length: 103, dtype: int64\n",
      "******************************\n",
      "\n",
      "\n",
      "\n",
      "column name :  next_inspection\n",
      "--------------------------------\n",
      "Per_of_Nulls   :  % 77.79\n",
      "Num_of_Nulls   :  12384\n"
     ]
    },
    {
     "name": "stdout",
     "output_type": "stream",
     "text": [
      "NaN                                       12384\n",
      "\\n04/2022\\n                                  62\n",
      "\\n03/2021\\n                                  38\n",
      "\\n03/2022\\n                                  36\n",
      "\\n06/2021\\n                                  34\n",
      "                                          ...  \n",
      "[\\n12/2018\\n, \\n97 g CO2/km (comb)\\n]         1\n",
      "[\\n03/2022\\n, \\n1 (No sticker)\\n]             1\n",
      "[\\n05/2021\\n, \\n93 g CO2/km (comb)\\n]         1\n",
      "[\\n06/2021\\n, \\n93 g CO2/km (comb)\\n]         1\n",
      "[\\n01/2022\\n, \\n168 g CO2/km (comb)\\n]        1\n",
      "Name: next_inspection, Length: 1400, dtype: int64\n",
      "******************************\n",
      "\n",
      "\n",
      "\n",
      "column name :  inspection_new\n",
      "--------------------------------\n",
      "Per_of_Nulls   :  % 75.3\n",
      "Num_of_Nulls   :  11987\n",
      "NaN                                                                                            11987\n",
      "[\\nYes\\n, \\nEuro 6\\n]                                                                            523\n",
      "\\nYes\\n                                                                                          362\n",
      "[\\nYes\\n, \\n102 g CO2/km (comb)\\n]                                                               174\n",
      "[\\nYes\\n, \\n4 (Green)\\n]                                                                         166\n",
      "                                                                                               ...  \n",
      "[\\nYes\\n, \\n, 6 l/100 km (comb), \\n, 8 l/100 km (city), \\n, 4.9 l/100 km (country), \\n]            1\n",
      "[\\nYes\\n, \\n, 6.8 l/100 km (comb), \\n, 8.5 l/100 km (city), \\n, 6.1 l/100 km (country), \\n]        1\n",
      "[\\nYes\\n, \\n, 4.1 l/100 km (comb), \\n, 7.5 l/100 km (city), \\n, 5.2 l/100 km (country), \\n]        1\n",
      "[\\nYes\\n, \\n, 5.2 l/100 km (comb), \\n, 6.8 l/100 km (city), \\n, 4.3 l/100 km (country), \\n]        1\n",
      "[\\nYes\\n, \\n172 g CO2/km (comb)\\n]                                                                 1\n",
      "Name: inspection_new, Length: 203, dtype: int64\n",
      "******************************\n",
      "\n",
      "\n",
      "\n",
      "column name :  warranty\n",
      "--------------------------------\n",
      "Per_of_Nulls   :  % 34.05\n",
      "Num_of_Nulls   :  5420\n",
      "NaN                                                                                                5420\n",
      "[\\n, \\n, \\nEuro 6\\n]                                                                               1868\n",
      "\\n12 months\\n                                                                                      1177\n",
      "\\n                                                                                                  979\n",
      "\\n24 months\\n                                                                                       566\n",
      "                                                                                                   ... \n",
      "[\\n72 months\\n, \\n125 g CO2/km (comb)\\n]                                                              1\n",
      "[\\n60 months\\n, \\n14 g CO2/km (comb)\\n]                                                               1\n",
      "[\\n24 months\\n, \\n121 g CO2/km (comb)\\n]                                                              1\n",
      "[\\n12 months\\n, \\nEuro 6d\\n]                                                                          1\n",
      "[\\n36 months\\n, \\n, 7.4 l/100 km (comb), \\n, 9.6 l/100 km (city), \\n, 6 l/100 km (country), \\n]       1\n",
      "Name: warranty, Length: 516, dtype: int64\n",
      "******************************\n",
      "\n",
      "\n",
      "\n",
      "column name :  full_service\n",
      "--------------------------------\n",
      "Per_of_Nulls   :  % 48.39\n",
      "Num_of_Nulls   :  7704\n",
      "NaN                                                                                           7704\n",
      "[\\n, \\n, \\n4 (Green)\\n]                                                                       2235\n",
      "[\\n, \\n, \\nEuro 6\\n]                                                                          2097\n",
      "[\\n, \\n]                                                                                      1702\n",
      "[\\n, \\n, \\nEuro 6d-TEMP\\n]                                                                     399\n",
      "                                                                                              ... \n",
      "[\\n, \\n, \\n80 g CO2/km (comb)\\n]                                                                 1\n",
      "[\\n, \\n, \\n84 g CO2/km (comb)\\n]                                                                 1\n",
      "[\\n, \\n, \\n, 6 l/100 km (comb), \\n, 8 l/100 km (city), \\n, 4.9 l/100 km (country), \\n]           1\n",
      "[\\n, \\n, \\n, 4.9 l/100 km (comb), \\n, 6.2 l/100 km (city), \\n, 4.1 l/100 km (country), \\n]       1\n",
      "[\\n, \\n, \\nEuro 4\\n]                                                                             1\n",
      "Name: full_service, Length: 123, dtype: int64\n",
      "******************************\n",
      "\n",
      "\n",
      "\n",
      "column name :  non_smoking_vehicle\n",
      "--------------------------------\n",
      "Per_of_Nulls   :  % 54.92\n",
      "Num_of_Nulls   :  8742\n",
      "NaN                                                                                           8742\n",
      "[\\n, \\n]                                                                                      3647\n",
      "[\\n, \\n, \\n4 (Green)\\n]                                                                       1240\n",
      "[\\n, \\n, \\nEuro 6\\n]                                                                          1127\n",
      "[\\n, \\n, \\nEuro 6d-TEMP\\n]                                                                     345\n",
      "                                                                                              ... \n",
      "[\\n, \\n, \\n, 5.6 l/100 km (comb), \\n, 7.3 l/100 km (city), \\n, 4.7 l/100 km (country), \\n]       1\n",
      "[\\n, \\n, \\n122 g CO2/km (comb)\\n]                                                                1\n",
      "[\\n, \\n, \\n158 g CO2/km (comb)\\n]                                                                1\n",
      "[\\n, \\n, \\n150 g CO2/km (comb)\\n]                                                                1\n",
      "[\\n, \\n, \\n175 g CO2/km (comb)\\n]                                                                1\n",
      "Name: non_smoking_vehicle, Length: 95, dtype: int64\n",
      "******************************\n",
      "\n",
      "\n",
      "\n",
      "column name :  null\n",
      "--------------------------------\n",
      "Per_of_Nulls   :  % 0.0\n",
      "Num_of_Nulls   :  0\n",
      "[]    15919\n",
      "Name: null, dtype: int64\n",
      "******************************\n",
      "\n",
      "\n",
      "\n",
      "column name :  make\n",
      "--------------------------------\n",
      "Per_of_Nulls   :  % 0.0\n",
      "Num_of_Nulls   :  0\n",
      "\\nOpel\\n       7343\n",
      "\\nAudi\\n       5712\n",
      "\\nRenault\\n    2864\n",
      "Name: make, dtype: int64\n",
      "******************************\n",
      "\n",
      "\n",
      "\n",
      "column name :  model\n",
      "--------------------------------\n",
      "Per_of_Nulls   :  % 0.0\n",
      "Num_of_Nulls   :  0\n",
      "[\\n, A3, \\n]          3097\n",
      "[\\n, A1, \\n]          2614\n",
      "[\\n, Insignia, \\n]    2598\n",
      "[\\n, Astra, \\n]       2526\n",
      "[\\n, Corsa, \\n]       2219\n",
      "[\\n, Clio, \\n]        1839\n",
      "[\\n, Espace, \\n]       991\n",
      "[\\n, Duster, \\n]        34\n",
      "[\\n, A2, \\n]             1\n",
      "Name: model, dtype: int64\n",
      "******************************\n",
      "\n",
      "\n",
      "\n",
      "column name :  offer_number\n",
      "--------------------------------\n",
      "Per_of_Nulls   :  % 19.94\n",
      "Num_of_Nulls   :  3175\n",
      "NaN                                               3175\n",
      "[\\nLT67679\\n]                                       27\n",
      "[\\nUN89904\\n]                                       27\n",
      "[\\nXJ38068\\n]                                       27\n",
      "[\\nJV03654\\n]                                       27\n",
      "                                                  ... \n",
      "[\\n160_dcbb6c3e-a6da-43a3-8754-ccd994cec93b\\n]       1\n",
      "[\\n6701576\\n]                                        1\n",
      "[\\n6701569\\n]                                        1\n",
      "[\\n158121\\n]                                         1\n",
      "[\\nRe_30000008029\\n]                                 1\n",
      "Name: offer_number, Length: 11441, dtype: int64\n",
      "******************************\n",
      "\n",
      "\n",
      "\n",
      "column name :  first_registration\n",
      "--------------------------------\n",
      "Per_of_Nulls   :  % 10.03\n",
      "Num_of_Nulls   :  1597\n",
      "[\\n, 2018, \\n]    4522\n",
      "[\\n, 2016, \\n]    3674\n",
      "[\\n, 2017, \\n]    3273\n",
      "[\\n, 2019, \\n]    2853\n",
      "NaN               1597\n",
      "Name: first_registration, dtype: int64\n",
      "******************************\n",
      "\n",
      "\n",
      "\n",
      "column name :  body_color\n",
      "--------------------------------\n",
      "Per_of_Nulls   :  % 3.75\n",
      "Num_of_Nulls   :  597\n",
      "[\\n, Black, \\n]     3745\n",
      "[\\n, Grey, \\n]      3505\n",
      "[\\n, White, \\n]     3406\n",
      "[\\n, Silver, \\n]    1647\n",
      "[\\n, Blue, \\n]      1431\n",
      "[\\n, Red, \\n]        957\n",
      "NaN                  597\n",
      "[\\n, Brown, \\n]      289\n",
      "[\\n, Green, \\n]      154\n",
      "[\\n, Beige, \\n]      108\n",
      "[\\n, Yellow, \\n]      51\n",
      "[\\n, Violet, \\n]      18\n",
      "[\\n, Bronze, \\n]       6\n",
      "[\\n, Orange, \\n]       3\n",
      "[\\n, Gold, \\n]         2\n",
      "Name: body_color, dtype: int64\n",
      "******************************\n",
      "\n",
      "\n",
      "\n",
      "column name :  paint_type\n",
      "--------------------------------\n",
      "Per_of_Nulls   :  % 36.26\n",
      "Num_of_Nulls   :  5772\n",
      "[\\nMetallic\\n]       9794\n",
      "NaN                  5772\n",
      "[\\nUni/basic\\n]       347\n",
      "[\\nPerl effect\\n]       6\n",
      "Name: paint_type, dtype: int64\n",
      "******************************\n",
      "\n",
      "\n",
      "\n",
      "column name :  body_color_original\n",
      "--------------------------------\n",
      "Per_of_Nulls   :  % 23.61\n",
      "Num_of_Nulls   :  3759\n"
     ]
    },
    {
     "name": "stdout",
     "output_type": "stream",
     "text": [
      "NaN                                    3759\n",
      "[\\nOnyx Schwarz\\n]                      338\n",
      "[\\nBianco\\n]                            282\n",
      "[\\nMythosschwarz Metallic\\n]            238\n",
      "[\\nBrillantschwarz\\n]                   216\n",
      "                                       ... \n",
      "[\\nRouge-Braun (G0Y)\\n]                   1\n",
      "[\\nVARI COLRI DISPONIBILI\\n]              1\n",
      "[\\nKokosnussbraun Metallic\\n]             1\n",
      "[\\nFarbe frei wählbar\\n]                  1\n",
      "[\\nPerlmutt-Weiß Metallic (Weiß)\\n]       1\n",
      "Name: body_color_original, Length: 1928, dtype: int64\n",
      "******************************\n",
      "\n",
      "\n",
      "\n",
      "column name :  upholstery\n",
      "--------------------------------\n",
      "Per_of_Nulls   :  % 23.37\n",
      "Num_of_Nulls   :  3720\n",
      "[\\nCloth, Black\\n]           5821\n",
      "NaN                          3720\n",
      "[\\nPart leather, Black\\n]    1121\n",
      "[\\nCloth\\n]                  1005\n",
      "[\\nCloth, Grey\\n]             891\n",
      "[\\nCloth, Other\\n]            639\n",
      "[\\nFull leather, Black\\n]     575\n",
      "[\\nBlack\\n]                   491\n",
      "[\\nGrey\\n]                    273\n",
      "[\\nOther, Other\\n]            182\n",
      "[\\nPart leather\\n]            140\n",
      "[\\nFull leather\\n]            139\n",
      "[\\nFull leather, Brown\\n]     116\n",
      "[\\nPart leather, Grey\\n]      116\n",
      "[\\nOther, Black\\n]            110\n",
      "[\\nFull leather, Other\\n]      72\n",
      "[\\nFull leather, Grey\\n]       67\n",
      "[\\nPart leather, Other\\n]      65\n",
      "[\\nOther\\n]                    56\n",
      "[\\nPart leather, Brown\\n]      50\n",
      "[\\nalcantara, Black\\n]         47\n",
      "[\\nVelour, Black\\n]            36\n",
      "[\\nFull leather, Beige\\n]      36\n",
      "[\\nCloth, Brown\\n]             28\n",
      "[\\nVelour\\n]                   16\n",
      "[\\nOther, Grey\\n]              15\n",
      "[\\nCloth, Beige\\n]             13\n",
      "[\\nBrown\\n]                    12\n",
      "[\\nCloth, Blue\\n]              12\n",
      "[\\nVelour, Grey\\n]              8\n",
      "[\\nCloth, White\\n]              8\n",
      "[\\nalcantara, Grey\\n]           6\n",
      "[\\nCloth, Red\\n]                5\n",
      "[\\nOther, Yellow\\n]             4\n",
      "[\\nPart leather, Red\\n]         3\n",
      "[\\nBeige\\n]                     3\n",
      "[\\nPart leather, White\\n]       2\n",
      "[\\nFull leather, Blue\\n]        2\n",
      "[\\nalcantara, Other\\n]          2\n",
      "[\\nalcantara\\n]                 2\n",
      "[\\nWhite\\n]                     2\n",
      "[\\nPart leather, Beige\\n]       2\n",
      "[\\nBlue\\n]                      2\n",
      "[\\nCloth, Orange\\n]             1\n",
      "[\\nFull leather, Red\\n]         1\n",
      "[\\nOther, Brown\\n]              1\n",
      "[\\nFull leather, White\\n]       1\n",
      "Name: upholstery, dtype: int64\n",
      "******************************\n",
      "\n",
      "\n",
      "\n",
      "column name :  body\n",
      "--------------------------------\n",
      "Per_of_Nulls   :  % 0.38\n",
      "Num_of_Nulls   :  60\n",
      "[\\n, Sedans, \\n]           7903\n",
      "[\\n, Station wagon, \\n]    3553\n",
      "[\\n, Compact, \\n]          3153\n",
      "[\\n, Van, \\n]               783\n",
      "[\\n, Other, \\n]             290\n",
      "[\\n, Transporter, \\n]        88\n",
      "NaN                          60\n",
      "[\\n, Off-Road, \\n]           56\n",
      "[\\n, Coupe, \\n]              25\n",
      "[\\n, Convertible, \\n]         8\n",
      "Name: body, dtype: int64\n",
      "******************************\n",
      "\n",
      "\n",
      "\n",
      "column name :  nr_of_doors\n",
      "--------------------------------\n",
      "Per_of_Nulls   :  % 1.33\n",
      "Num_of_Nulls   :  212\n",
      "[\\n5\\n]    11575\n",
      "[\\n4\\n]     3079\n",
      "[\\n3\\n]      832\n",
      "[\\n2\\n]      219\n",
      "NaN          212\n",
      "[\\n1\\n]        1\n",
      "[\\n7\\n]        1\n",
      "Name: nr_of_doors, dtype: int64\n",
      "******************************\n",
      "\n",
      "\n",
      "\n",
      "column name :  nr_of_seats\n",
      "--------------------------------\n",
      "Per_of_Nulls   :  % 6.14\n",
      "Num_of_Nulls   :  977\n",
      "[\\n5\\n]    13336\n",
      "[\\n4\\n]     1125\n",
      "NaN          977\n",
      "[\\n7\\n]      362\n",
      "[\\n2\\n]      116\n",
      "[\\n6\\n]        2\n",
      "[\\n3\\n]        1\n",
      "Name: nr_of_seats, dtype: int64\n",
      "******************************\n",
      "\n",
      "\n",
      "\n",
      "column name :  model_code\n",
      "--------------------------------\n",
      "Per_of_Nulls   :  % 68.73\n",
      "Num_of_Nulls   :  10941\n",
      "NaN               10941\n",
      "[\\n0035/BCB\\n]      268\n",
      "[\\n0588/BNO\\n]      245\n",
      "[\\n0588/BDB\\n]      206\n",
      "[\\n0588/BHX\\n]      188\n",
      "                  ...  \n",
      "[\\n0035/AVN\\n]        1\n",
      "[\\n0035/BEM\\n]        1\n",
      "[\\n0035/BAG\\n]        1\n",
      "[\\n0035/BAA\\n]        1\n",
      "[\\n3333/BKG\\n]        1\n",
      "Name: model_code, Length: 233, dtype: int64\n",
      "******************************\n",
      "\n",
      "\n",
      "\n",
      "column name :  gearing_type\n",
      "--------------------------------\n",
      "Per_of_Nulls   :  % 0.0\n",
      "Num_of_Nulls   :  0\n",
      "[\\n, Manual, \\n]            8153\n",
      "[\\n, Automatic, \\n]         7297\n",
      "[\\n, Semi-automatic, \\n]     469\n",
      "Name: gearing_type, dtype: int64\n",
      "******************************\n",
      "\n",
      "\n",
      "\n",
      "column name :  displacement\n",
      "--------------------------------\n",
      "Per_of_Nulls   :  % 3.12\n",
      "Num_of_Nulls   :  496\n",
      "[\\n1,598 cc\\n]    4761\n",
      "[\\n999 cc\\n]      2438\n",
      "[\\n1,398 cc\\n]    1314\n",
      "[\\n1,399 cc\\n]     749\n",
      "[\\n1,229 cc\\n]     677\n",
      "                  ... \n",
      "[\\n122 cc\\n]         1\n",
      "[\\n1,198 cc\\n]       1\n",
      "[\\n1,195 cc\\n]       1\n",
      "[\\n2,967 cc\\n]       1\n",
      "[\\n1,800 cc\\n]       1\n",
      "Name: displacement, Length: 78, dtype: int64\n",
      "******************************\n",
      "\n",
      "\n",
      "\n",
      "column name :  cylinders\n",
      "--------------------------------\n",
      "Per_of_Nulls   :  % 35.68\n",
      "Num_of_Nulls   :  5680\n",
      "[\\n4\\n]    8105\n",
      "NaN        5680\n",
      "[\\n3\\n]    2104\n",
      "[\\n5\\n]      22\n",
      "[\\n6\\n]       3\n",
      "[\\n8\\n]       2\n",
      "[\\n2\\n]       2\n",
      "[\\n1\\n]       1\n",
      "Name: cylinders, dtype: int64\n",
      "******************************\n",
      "\n",
      "\n",
      "\n",
      "column name :  weight\n",
      "--------------------------------\n",
      "Per_of_Nulls   :  % 43.81\n",
      "Num_of_Nulls   :  6974\n",
      "NaN               6974\n",
      "[\\n1,163 kg\\n]     574\n",
      "[\\n1,360 kg\\n]     356\n",
      "[\\n1,165 kg\\n]     301\n",
      "[\\n1,335 kg\\n]     242\n",
      "                  ... \n",
      "[\\n1,960 kg\\n]       1\n",
      "[\\n1,258 kg\\n]       1\n",
      "[\\n1,167 kg\\n]       1\n",
      "[\\n1,331 kg\\n]       1\n",
      "[\\n2,037 kg\\n]       1\n",
      "Name: weight, Length: 435, dtype: int64\n",
      "******************************\n",
      "\n",
      "\n",
      "\n",
      "column name :  drive_chain\n",
      "--------------------------------\n",
      "Per_of_Nulls   :  % 43.08\n",
      "Num_of_Nulls   :  6858\n",
      "[\\nfront\\n]    8886\n",
      "NaN            6858\n",
      "[\\n4WD\\n]       171\n",
      "[\\nrear\\n]        4\n",
      "Name: drive_chain, dtype: int64\n",
      "******************************\n",
      "\n",
      "\n",
      "\n",
      "column name :  fuel\n",
      "--------------------------------\n",
      "Per_of_Nulls   :  % 0.0\n",
      "Num_of_Nulls   :  0\n",
      "[\\n, Diesel (Particulate Filter), \\n]                                                                                  4315\n",
      "[\\n, Super 95, \\n]                                                                                                     3338\n",
      "[\\n, Gasoline, \\n]                                                                                                     3175\n",
      "[\\n, Diesel, \\n]                                                                                                       2984\n",
      "[\\n, Super 95 / Regular/Benzine 91, \\n]                                                                                 424\n",
      "                                                                                                                       ... \n",
      "[\\n, Regular/Benzine 91 / Super 95 / Regular/Benzine E10 91, \\n]                                                          1\n",
      "[\\n, Super Plus 98 / Super E10 95, \\n]                                                                                    1\n",
      "[\\n, Regular/Benzine 91 / Super 95 / Regular/Benzine E10 91 / Super E10 95 / Super Plus 98 / Super Plus E10 98, \\n]       1\n",
      "[\\n, Regular/Benzine 91 / Super Plus 98 / Regular/Benzine E10 91 / Super 95 / Super E10 95 / Super Plus E10 98, \\n]       1\n",
      "[\\n, Super Plus 98 / Super 95 / Super Plus E10 98, \\n]                                                                    1\n",
      "Name: fuel, Length: 77, dtype: int64\n",
      "******************************\n",
      "\n",
      "\n",
      "\n",
      "column name :  consumption\n",
      "--------------------------------\n",
      "Per_of_Nulls   :  % 11.97\n",
      "Num_of_Nulls   :  1906\n",
      "NaN                                                                                   1906\n",
      "[[3.9 l/100 km (comb)], [4.1 l/100 km (city)], [3.7 l/100 km (country)]]               304\n",
      "[[4.2 l/100 km (comb)], [5 l/100 km (city)], [3.7 l/100 km (country)]]                 276\n",
      "[[5.4 l/100 km (comb)], [6.8 l/100 km (city)], [4.5 l/100 km (country)]]               257\n",
      "[[3.8 l/100 km (comb)], [4.3 l/100 km (city)], [3.5 l/100 km (country)]]               253\n",
      "                                                                                      ... \n",
      "[[4.2 l/100 km (comb)], [5.3 l/100 km (city)], [3.6 l/100 km (country)]]                 1\n",
      "[\\n, 5.1 l/100 km (comb), \\n, 6.4 l/100 km (city), \\n, 4.3 l/100 km (country), \\n]       1\n",
      "[[4.6 l/100 km (comb)], [5.4 l/100 km (city)], [6.7 l/100 km (country)]]                 1\n",
      "[\\n, 6.3 l/100 km (comb), \\n, \\n, \\n]                                                    1\n",
      "[\\n, 7.4 l/100 km (comb), \\n, 9.6 l/100 km (city), \\n, 6 l/100 km (country), \\n]         1\n",
      "Name: consumption, Length: 882, dtype: int64\n",
      "******************************\n",
      "\n",
      "\n",
      "\n",
      "column name :  co2_emission\n",
      "--------------------------------\n",
      "Per_of_Nulls   :  % 11.36\n",
      "Num_of_Nulls   :  1808\n",
      "NaN                            1808\n",
      "[\\n120 g CO2/km (comb)\\n]       740\n",
      "[[], [], []]                    628\n",
      "[\\n99 g CO2/km (comb)\\n]        545\n",
      "[\\n97 g CO2/km (comb)\\n]        537\n",
      "                               ... \n",
      "[\\n14 g CO2/km (comb)\\n]          1\n",
      "[\\n1,060 g CO2/km (comb)\\n]       1\n",
      "[\\n51 g CO2/km (comb)\\n]          1\n",
      "[\\n165 g CO2/km (comb)\\n]         1\n",
      "[\\n193 g CO2/km (comb)\\n]         1\n",
      "Name: co2_emission, Length: 124, dtype: int64\n",
      "******************************\n",
      "\n",
      "\n",
      "\n",
      "column name :  emission_class\n",
      "--------------------------------\n",
      "Per_of_Nulls   :  % 18.98\n",
      "Num_of_Nulls   :  3021\n",
      "[\\nEuro 6\\n]          10139\n",
      "NaN                    3021\n",
      "[\\nEuro 6d-TEMP\\n]     1845\n",
      "[[], [], []]            607\n",
      "[\\nEuro 6c\\n]           127\n",
      "[\\nEuro 5\\n]             78\n",
      "[\\nEuro 6d\\n]            62\n",
      "[\\nEuro 4\\n]             40\n",
      "Name: emission_class, dtype: int64\n",
      "******************************\n",
      "\n",
      "\n",
      "\n",
      "column name :  comfort&convenience\n",
      "--------------------------------\n",
      "Per_of_Nulls   :  % 5.78\n",
      "Num_of_Nulls   :  920\n",
      "NaN                                                                                                                                                                                                                                                                                                                                                                                                                                                                                                                          920\n",
      "[Air conditioning, Electrical side mirrors, Hill Holder, Power windows]                                                                                                                                                                                                                                                                                                                                                                                                                                                      216\n",
      "[Air conditioning, Electrical side mirrors, Power windows]                                                                                                                                                                                                                                                                                                                                                                                                                                                                   134\n",
      "[Air conditioning, Power windows]                                                                                                                                                                                                                                                                                                                                                                                                                                                                                            130\n",
      "[Air conditioning, Armrest, Automatic climate control, Cruise control, Electrical side mirrors, Leather steering wheel, Light sensor, Lumbar support, Multi-function steering wheel, Navigation system, Park Distance Control, Parking assist system sensors front, Parking assist system sensors rear, Power windows, Rain sensor, Seat heating, Start-stop system]                                                                                                                                                         105\n",
      "                                                                                                                                                                                                                                                                                                                                                                                                                                                                                                                            ... \n",
      "[Air conditioning, Cruise control, Electrical side mirrors, Hill Holder, Leather steering wheel, Light sensor, Multi-function steering wheel, Navigation system, Park Distance Control, Parking assist system sensors rear, Power windows, Rain sensor, Split rear seats, Start-stop system, Tinted windows]                                                                                                                                                                                                                   1\n",
      "[Air conditioning, Armrest, Automatic climate control, Cruise control, Electrical side mirrors, Heated steering wheel, Hill Holder, Leather steering wheel, Light sensor, Lumbar support, Multi-function steering wheel, Navigation system, Park Distance Control, Parking assist system camera, Parking assist system sensors front, Parking assist system sensors rear, Power windows, Rain sensor, Seat heating, Sunroof]                                                                                                   1\n",
      "[Air conditioning, Armrest, Cruise control, Electrical side mirrors, Heated steering wheel, Hill Holder, Leather steering wheel, Light sensor, Multi-function steering wheel, Park Distance Control, Parking assist system camera, Parking assist system sensors front, Parking assist system sensors rear, Power windows, Rain sensor, Seat heating, Split rear seats, Start-stop system, Tinted windows]                                                                                                                     1\n",
      "[Air conditioning, Automatic climate control, Cruise control, Electrical side mirrors, Leather steering wheel, Light sensor, Multi-function steering wheel, Park Distance Control, Parking assist system sensors front, Parking assist system sensors rear, Power windows, Rain sensor, Seat heating]                                                                                                                                                                                                                          1\n",
      "[Air conditioning, Automatic climate control, Cruise control, Electrically heated windshield, Electrical side mirrors, Electric tailgate, Heads-up display, Heated steering wheel, Hill Holder, Keyless central door lock, Leather steering wheel, Light sensor, Lumbar support, Navigation system, Park Distance Control, Parking assist system camera, Parking assist system self-steering, Parking assist system sensors front, Parking assist system sensors rear, Power windows, Rain sensor, Seat heating, Sunroof]      1\n",
      "Name: comfort&convenience, Length: 6199, dtype: int64\n",
      "******************************\n",
      "\n",
      "\n",
      "\n",
      "column name :  entertainment&media\n",
      "--------------------------------\n",
      "Per_of_Nulls   :  % 8.63\n",
      "Num_of_Nulls   :  1374\n",
      "NaN                                                                                                           1374\n",
      "[Bluetooth, Hands-free equipment, On-board computer, Radio, USB]                                              1282\n",
      "[Bluetooth, Hands-free equipment, MP3, On-board computer, Radio, USB]                                          982\n",
      "[Bluetooth, CD player, Hands-free equipment, MP3, On-board computer, Radio, USB]                               783\n",
      "[On-board computer, Radio]                                                                                     487\n",
      "                                                                                                              ... \n",
      "[Bluetooth, CD player, Digital radio, Hands-free equipment, Radio]                                               1\n",
      "[CD player, Hands-free equipment, MP3, Radio, USB]                                                               1\n",
      "[MP3, Radio, Sound system, USB]                                                                                  1\n",
      "[Bluetooth, MP3, On-board computer, Radio, Television, USB]                                                      1\n",
      "[Bluetooth, CD player, Hands-free equipment, MP3, On-board computer, Radio, Sound system, Television, USB]       1\n",
      "Name: entertainment&media, Length: 347, dtype: int64\n",
      "******************************\n",
      "\n",
      "\n",
      "\n",
      "column name :  extras\n",
      "--------------------------------\n",
      "Per_of_Nulls   :  % 18.61\n",
      "Num_of_Nulls   :  2962\n",
      "[Alloy wheels]                                                                                                     3245\n",
      "NaN                                                                                                                2962\n",
      "[Alloy wheels, Touch screen]                                                                                        697\n",
      "[Alloy wheels, Voice Control]                                                                                       577\n",
      "[Alloy wheels, Touch screen, Voice Control]                                                                         541\n",
      "                                                                                                                   ... \n",
      "[Alloy wheels, Catalytic Converter, Shift paddles, Sport package, Sport seats, Sport suspension, Voice Control]       1\n",
      "[Alloy wheels, Catalytic Converter, Roof rack, Sport package, Sport seats, Trailer hitch]                             1\n",
      "[Alloy wheels, Catalytic Converter, Ski bag, Sport package, Voice Control]                                            1\n",
      "[Catalytic Converter, Roof rack, Sport seats, Sport suspension]                                                       1\n",
      "[Alloy wheels, Shift paddles, Ski bag, Sport seats, Sport suspension, Touch screen, Voice Control]                    1\n",
      "Name: extras, Length: 660, dtype: int64\n",
      "******************************\n",
      "\n",
      "\n",
      "\n",
      "column name :  safety_&_security\n",
      "--------------------------------\n",
      "Per_of_Nulls   :  % 6.17\n",
      "Num_of_Nulls   :  982\n"
     ]
    },
    {
     "name": "stdout",
     "output_type": "stream",
     "text": [
      "NaN                                                                                                                                                                                                                                                                                                                                                                                  982\n",
      "[ABS, Central door lock, Daytime running lights, Driver-side airbag, Electronic stability control, Fog lights, Immobilizer, Isofix, Passenger-side airbag, Power steering, Side airbag, Tire pressure monitoring system, Traction control]                                                                                                                                           538\n",
      "[ABS, Central door lock, Daytime running lights, Driver-side airbag, Electronic stability control, Immobilizer, Isofix, Passenger-side airbag, Power steering, Side airbag, Tire pressure monitoring system, Traction control]                                                                                                                                                       480\n",
      "[ABS, Central door lock, Daytime running lights, Driver-side airbag, Electronic stability control, Immobilizer, Isofix, Passenger-side airbag, Power steering, Side airbag, Tire pressure monitoring system, Traction control, Xenon headlights]                                                                                                                                     275\n",
      "[ABS, Central door lock, Daytime running lights, Driver-side airbag, Electronic stability control, Fog lights, Immobilizer, Isofix, LED Daytime Running Lights, Passenger-side airbag, Power steering, Side airbag, Tire pressure monitoring system, Traction control]                                                                                                               272\n",
      "                                                                                                                                                                                                                                                                                                                                                                                    ... \n",
      "[ABS, Central door lock, Electronic stability control, Immobilizer, Isofix, Passenger-side airbag, Power steering, Side airbag]                                                                                                                                                                                                                                                        1\n",
      "[ABS, Adaptive Cruise Control, Central door lock, Daytime running lights, Driver-side airbag, Electronic stability control, Emergency brake assistant, Immobilizer, Isofix, Passenger-side airbag, Power steering, Side airbag, Tire pressure monitoring system, Traction control]                                                                                                     1\n",
      "[ABS, Adaptive Cruise Control, Alarm system, Central door lock, Driver-side airbag, Electronic stability control, Fog lights, Immobilizer, Isofix, Lane departure warning system, LED Daytime Running Lights, Passenger-side airbag, Power steering, Side airbag, Tire pressure monitoring system, Traction control, Xenon headlights]                                                 1\n",
      "[ABS, Adaptive Cruise Control, Central door lock, Daytime running lights, Driver-side airbag, Electronic stability control, Fog lights, Immobilizer, Isofix, Power steering, Tire pressure monitoring system, Traction control]                                                                                                                                                        1\n",
      "[ABS, Adaptive Cruise Control, Central door lock, Daytime running lights, Driver-side airbag, Electronic stability control, Emergency brake assistant, Fog lights, Immobilizer, Isofix, Lane departure warning system, LED Daytime Running Lights, LED Headlights, Passenger-side airbag, Power steering, Side airbag, Tire pressure monitoring system, Traffic sign recognition]      1\n",
      "Name: safety_&_security, Length: 4444, dtype: int64\n",
      "******************************\n",
      "\n",
      "\n",
      "\n",
      "column name :  description\n",
      "--------------------------------\n",
      "Per_of_Nulls   :  % 0.0\n",
      "Num_of_Nulls   :  0\n",
      "[]                                                                                                                                                                                                                                                                                                                                                                                                                                                                                                                                                                                                                                                                                                                                                                                                                                                                                                                                                                                                                                                                                                                                                                                                                                                                                                                                                                                                                                                                                                                                                                                                                                                                                                                                                                                                                                                                                                                                                                                                                                                                                                                                                                                                                                                                                                                                                                                                                                                                                                                                                                                                                                                                                        636\n",
      "[\\n, \\n]                                                                                                                                                                                                                                                                                                                                                                                                                                                                                                                                                                                                                                                                                                                                                                                                                                                                                                                                                                                                                                                                                                                                                                                                                                                                                                                                                                                                                                                                                                                                                                                                                                                                                                                                                                                                                                                                                                                                                                                                                                                                                                                                                                                                                                                                                                                                                                                                                                                                                                                                                                                                                                                                                   30\n",
      "[\\n, Fahrzeugbeschreibung,  Sichern Sie sich diesen Renault Clio 1.6 TCE Energy Sport Trophy zum Top-Preis inklusive dem , AUTOHERO-RUNDUM-SORGLOS-PAKET,  , Infos:,  1.Hand, deutsche Auslieferung, Unfallfrei, scheckheftgepflegt,  , Highlights,  , Audio-Navigationssystem R-Link Evolution mit Touchscreen und Carminat TomTom,  , Sportsitze ,  , Sportfahrwerk,  , Scheinwerfer Full-LED , Komfort,  , Geschwindigkeits-Regelanlage (Tempomat) ,  , Klimaanlage,  , Einparkhilfe hinten,  , Multifunktionslenkrad (Sport/Leder) mit Schaltwippen/-tasten ,  , Fensterheber elektr. mit Impulsgeber links/rechts vorn,  , Zentralverriegelung / Startanlage Handsfree Entry & Drive ,  , Berganfahr-Assistent (HSA) , Multimedia,  , Audiosystem: Radio R & GO (Bluetooth, DAB-Tuner),  , Bordcomputer,  , Freisprecheinrichtung Bluetooth ,  , USB-Anschluss inkl. AUX-IN-Anschluss (Plug & Music) , Licht und Sicht,  , Außenspiegel elektr. verstell- und heizbar ,  , Licht- und Regensensor ,  , Tagfahrlicht LED ,  , Nebelscheinwerfer LED ,  , Coming-Home-Lichtfunktion ,  , Heckleuchten LED , Sicherheit,  , Isofix-Aufnahmen für Kindersitz ,  , Seitenairbag vorn,  , Wegfahrsperre,  , Differentialsperre,  , Bremsassistent ,  , Elektron. Stabilitäts-Programm (ESP),  , Anti-Blockier-System (ABS),  , Anti-Submarining-Airbag im Fond,  , Airbag Fahrer-/Beifahrerseite ,  , Differentialsperre ,  , Reifendruck-Kontrollsystem ,  , Untersteuerungskontrolle (USC) ,  , Antischlupfregelung (ASR) , Weiteres,  , Start/Stop-Anlage ,  , Servolenkung geschwindigkeitsabhängig,  , R.S. Drive (Fahrmodusschalter) ,  , Gepäckraumabdeckung / Rollo ,  , Heckdiffusor ,  , LM-Felgen ,  , Heckspoiler (Renault Sport) ,  , Pedale Aluminium ,  , Energierückgewinnung (Energy Smart Management) , ...]                                                                                                                                                                                                                                                                                                                                                                                                                                                                                                                                                                                                                                                                                                                                                                                                                                                              27\n",
      "[\\nPosibilidad de prueba del vehículo hasta 5 días. Consultar condiciones. PVP para particulares. Varias unidades y colores disponibles. Precios publicados para vehículos industriales (furgonetas) válidos para compradores autónomos o empresas, consultar condiciones para particulares. Las imágenes y kilómetros pueden no corresponder con el modelo anunciado. Para confirmar póngase en contacto con nuestro departamento comercial. Consulta las excepcionales condiciones de financiación que tenemos disponibles. Precio de venta final IVA y gastos de transferencia incluidos. Horario de atención al cliente: Lunes a Viernes de 09:00 a 18:00.\\n]                                                                                                                                                                                                                                                                                                                                                                                                                                                                                                                                                                                                                                                                                                                                                                                                                                                                                                                                                                                                                                                                                                                                                                                                                                                                                                                                                                                                                                                                                                                                                                                                                                                                                                                                                                                                                                                                                                                                                                                                                          27\n",
      "[\\nSichern Sie sich diesen RENAULT CLIO 1.2 LIMITED zum Top-Preis inklusive dem, AUTOHERO-RUNDUM-SORGLOS-PAKET,  , Infos:,  2.Hand, mindestens 12 Monate gültige HU und AU, deutsche Ausführung, unfallfrei ,  , Highlights,  , Audio-Navigationssystem mit Touchscreen-Farbdisplay, Komfort,  , Klimaanlage ,  , Multifunktionslenkrad in Leder ,  , Berganfahr-Assistent (HSA),  , Fensterheber elektrisch vorn ,  , Geschwindigkeits-Regelanlage (Tempomat) ,  , Heckscheibe heizbar ,  , Sitz vorn links höhenverstellbar,  , Sitz vorn rechts umklappbar ,  , Stau-/Ablagefach im Laderaumboden ,  , Zentralverriegelung mit Fernbedienung , Multimedia,  , Radio R&GO,  , Bluetooth Freisprechanlage ,  , USB-/AUX-Schnittstelle ,  , Bordcomputer,  , Licht und Sicht,  , Tagfahrlicht LED ,  , Außenspiegel elektrisch verstell- und heizbar, Sicherheit,  , Airbag für Fahrer und Beifahrer,  , Beifahrerairbag deaktivierbar ,  , Seitenairbags vorn ,  , Kopfairbagsystem,  , Anti-Blockier-System (ABS),  , Elektronische Bremskraftverteilung ,  , Elektronische Stabilitäts-Programm (ESP) ,  , Reifen-Reparaturkit ,  , Reifendruck-Kontrollsystem ,  , Untersteuerungskontrolle (USC) ,  , ISOFIX Kindersitzverankerung , Weiteres,  , Dachreling silber ,  , Look-Paket Chrom (außen) ,  , Look-Paket Grau (innen) ,  , R&GO-Paket ,  , Style-Paket ,  Ihr , AUTOHERO-RUNDUM-SORGLOS-PAKET,  beinhaltet:, Kostenlose Lieferung in Ihre Nähe, Optische & technische Aufbereitung, Mindestens 12 Monate gültige HU und AU, 1-Jahr-Premium-Garantie, Zulassung inklusive , 14-Tage-Rückgaberecht, Markenunabhängige Inzahlungnahme , Individuelle Finanzierungen zu fairen Konditionen,  , HIER GEHT ES ZUR 360° - ANSICHT DES FAHRZEUGES:, :, https://www.autohero.com/de/renault-clio-1-2-limited/id/30f99516-8785-47e7-a4a3-6cdac4d8e633/,  , Haftungsausschluss, :, Für Angaben vom Verkäufer, des Herstellers oder von Datenbankabfragen übernimmt Autohero keine Haftung. Änderungen, Zwischenverkauf und Irrtümer sind vorbehalten.\\n]                                                                                                                                                                                                                                                                                                                                                                                                                                                                                                                                                                                                                                27\n",
      "                                                                                                                                                                                                                                                                                                                                                                                                                                                                                                                                                                                                                                                                                                                                                                                                                                                                                                                                                                                                                                                                                                                                                                                                                                                                                                                                                                                                                                                                                                                                                                                                                                                                                                                                                                                                                                                                                                                                                                                                                                                                                                                                                                                                                                                                                                                                                                                                                                                                                                                                                                                                                                                                                         ... \n",
      "[\\nPratica 67374, Airbag fullsize per conducente e passeggero, Alzacristalli elettrici ant. e post. con funzione attivaz. a pressione, Assetto dinamico, Audi drive select, Inserti in micrometallic argento, Kit riparazione pneumatici, Pacchetto di navigazione, Piano di copertura del vano bagagli estraibile, Presa AUX-IN, Proiettori allo Xenon Plus con reg. aut. prof. fari, Lavafari, Rivestimenti dei sedili in tessuto, Serbatoio AdBlue, Sistema controllo pressione pneumatici, Sistema di ancoraggio ISOFIX e 3° punto di ancoraggio Top Tether sui sedili post. laterali, Sistema di informazioni per il conducente con display monocromatico, Tappetini anteriori e posteriori, Versione Business, Volante sportivo multifunzionale in pelle 3 razze, ABS, EBV (Ripartitore elettronico della forza frenante), Airbag laterali anteriori integrati negli schienali dei sedili, Airbag per la testa, Airbag per le ginocchia (lato conducente), Appoggiatesta anteriori (2) e posteriori (3) regolabili, Radio MMI plus, Interfaccia Bluetooth, Appoggiabraccia centrale anteriore, Cambio manuale, Cerchi in lega 7 J x 16\" a 5 razze a stella, Chiusura centralizzata con telecomando, Regolatore di velocità, ESC - Sistema elettronico di controllo della stabilizzazione con bloccaggio trasversale elettronico, ASR - Dispositivo di controllo della trazione, EDS (Dispositivo antislittamento in partenza), Filtro anti particolato, Cinture di sicurezza con pretensionatore, Specchietti retrovisivi esterni riscaldabili e ripiegabili elettricamente, Schienale del sedile posteriore ribaltabile (divisibile in rapporto 40:60 o ribaltabile completam.), Sistema di ausilio al parcheggio posteriore, Servosterzo elettromeccanico, Tergilunotto\\n]                                                                                                                                                                                                                                                                                                                                                                                                                                                                                                                                                                                                                                                                                                                                                                                                                                                                                                          1\n",
      "[\\n, Getriebe:,  Schaltgetriebe, Technik:,  Bordcomputer, Start-Stop-Automatik, Assistenten:,  Regensensor, Lichtsensor, Berganfahrassistent, Komfort:,  Servolenkung, Zentralverriegelung, Elektrischer Fensterheber, Sitzheizung, Elektrische Aussenspiegel, Teilbare Ruecksitzlehne, Tempomat, Park Distance Control, Multifunktionslenkrad, Innenspiegel autom. abblendbar, Mittelarmlehne, Innenraumfilter, Lenksaeule einstellbar, Sportsitze, Klimaautomatik-2-Zonen, Sicht:,  Xenon Scheinwerfer, Colorverglasung, Scheinwerferreinigung, Aussenspiegel beheizbar, Privacyverglasung, Sicherheit:,  ABS, Airbag, Beifahrer-Airbag, Wegfahrsperre, Seitenairbags, ESP, Antriebsschlupfregelung, Reifendruckkontrolle, Traktionskontrolle, Kopfairbag, Knieairbag, Kindersitzbefestigung, Pannenkit, Entertainment:,  CD, Radio, AUX-In, USB-Anschluss, MP3, Bluetooth, Freisprecheinrichtung, Umwelt:,  Grüne Umweltplakette, , Energieeffizienzklasse B, Qualität:,  Garantie, Scheckheftgepflegt, HUAU neu, Nichtraucherfahrzeug, Sonstiges:,  Metallic, Alufelgen, Dachreling, Gepaeckraumabdeckung, Stossfaenger in Wagenfarbe, Sportfahrwerk, Weiteres:,  Connectivity-Paket inkl. Bluetooth-Schnittstelle, Klimaautomatik 2-Zonen, Optik-Paket schwarz Audi exclusive, Einparkhilfe (APS), Verglasung hinten abgedunkelt, Sitzheizung vorn, Dachreling (Aluminium), Soundsystem DSP / Audi Sound-System, Ablage- und Gepäckraum-Paket, Audi music interface, Scheibenwaschdüsen heizbar, Vorbereitung Navigationssystem, Adaptives Bremslicht, Anfahr-Assistent (hold assist), Antriebsart: Frontantrieb, Audi Drive Select, Außenspiegel Wagenfarbe, Blinkleuchten LED in Außenspiegel integriert, Bremsanlage mit Rekuperation - Bremsenergierückgewinnung, Bremsassistent, Dachspoiler, Dekoreinlagen Aluminium Mistral, Einstiegsleisten Aluminium, Elektron. Differentialsperre (EDS), Elektron. Stabilitätskontrolle (ESC), Elektron. Stabilitäts-Programm, Euro 6, Fahrer-Informations-System (FIS), Fensterheber elektrisch vorn und hinten, Frontscheibe Akustikglas, Fußmatten Velours, Getriebe 6-Gang, Heckscheibe heizbar, Interieur Aluminium-Optik, Isofix-Aufnahmen für Kindersitz, Kopfstützen hinten, Multi-Media-Interface MMI, Parkbremse elektro-mechanisch, Polster: Stoff Rallye, Servolenkung elektro-mechanisch, Sitze vorn mit ausziehbarer Oberschenkelauflage, Sitzhöhenverstellung, Sport/Lederlenkrad, Sport-Fahrwerk, Start/Stop-Anlage, Telefon-Vorbereitung mit Bluetooth-Schnittstelle, Wagenheber, Wärmeschutzverglasung, Xenon Plus, ZV mit Fernbedienung, ... Änderungen, Zwischenverkauf und Irrtümer vorbehalten.,  by CG360.de\\n]      1\n",
      "[\\n, Getriebe, 6-Gang, Licht und Sicht, Xenon-Scheinwerfer Plus (Abblend- und Fernlicht), Technik und Sicherheit, Fahrerairbag, Airbag Fahrer-/Beifahrerseite, Seitenairbag vorn, Kopfairbags, Anti-Blockier-System (ABS), Elektron. Stabilitätskontrolle (ESC), Elektron. Differentialsperre (EDS), Zentralverriegelung mit Fernbedienung, Schließ-/Startsystem Advanced Key (Komfortschlüssel), Servolenkung elektro-mechanisch, Geschwindigkeits-Regelanlage (Tempomat), Elektronische Wegfahrsperre, Bordcomputer, Reifendruck-Kontrollsystem, Assistenzsysteme, Fahrassistenz-System: Anfahr-Assistent (hold assist), Multimedia, Multi-Media-Interface MMI Basic Plus / MMI Radio Plus, Audi Smartphone Interface, Komfort, Komfort-Klimaautomatik 2-Zonen, Einparkhilfe hinten (APS), Fensterheber elektrisch, Licht- und Regensensor, Außenspiegel elektr. verstellbar beide, Scheibenwaschdüsen und Außenspiegel beheizt, Wärmeschutzverglasung grün getönt, Innenausstattung, Sitzheizung vorn, Lenkrad (Sport/Leder - 3-Speichen) mit Multifunktion, Mittelarmlehne vorn, Rücksitzlehne geteilt/klappbar, Aussenausstattung, LM-Felgen, Pakete, Komfort-Paket, Sonstiges, Rußpartikelfilter, Scheckheftgepflegt, Nichtraucherfahrzeug, Weitere Informationen, Schadstoffklasse: EURO 6D-TEMP, Connectivity-Paket, Glanz-Paket, LM-Felgen 7.5x17 (5-Speichen Y-Design), Progressivlenkung, Antriebs-Schlupfregelung (ASR), Elektron. Stabilitäts-Programm (ESP), Getriebe 6-Gang, Lenkrad (Sport - 3-Speichen), Parkbremse elektro-mechanisch, Sitze vorn höhenverstellbar, Vorrüstung Mobiltelefon/Handy mit Bluetooth-Schnittstelle, Audi music interface, Außenspiegel elektr. verstell- und heizbar beide, Vorbereitung Navigationssystem, Irrtümer und Änderungen vorbehalten., Die im Internet angebotene Ausstattung ist kein Vertragsbestandteil., Die Ausstattung muss vor Ort geprüft werden., Das angebotene Fahrzeug kann von einer Rückrufaktion betroffen sein. Co2 Angaben können abweichen., \\n]                                                                                                                                                                                                                                                                                                                                                                                                                                                                                                                                                                                                                                                                  1\n",
      "[\\n, Aluminium-Gussräder im 5-Speichen-Stern-Design Größe 7 J x 16 mit Reifen 205/55 R 16, Dachreling eloxiert, Einparkhilfe hinten, Fahrerinformationssystem mit Farbdisplay, Lederlenkrad im 3-Speichen-Design mit Multifunktion plus, Ablage-/Gepäckraumpaket mit erweitertem USB-Buchsen-Angebot, Lichtpaket, Reifen 16', Anlaufvariante RdW, Vorbereitung für Anhängevorrichtung, Audi sound system, Reifen 205/55 R16 91W, Xenon plus, Allwetterlicht, Kopfstützen hinten (3 Stück), MMI Radio plus, Zentralverriegelung mit Funkschlüssel, Bluetooth-Schnittstelle, Innenspiegel abblendbar, elektronische Stabilisierungskontrolle (ESC), Airbags, 6-Gang-Schaltgetriebe, Seitenairbags vorn und Kopfairbagsystem, elektromechanische Servolenkung, Leuchtweitenregulierung automatisch-statisch, Scheibenwaschdüsen beheizbar vorn, Reifendruck-Kontrollanzeige, Tagfahrlicht, Start-Stop-System, AUX-IN-Anschluss, Kindersitzverankerung ISOFIX und Top Tether für die äußeren Fondsitze, Sitzbezüge in Stoff Index, Wärmeschutzverglasung, Akustikfrontscheibe, Außenspiegel links asphärisch, Außen-Sound Standard, Außenspiegel rechts (großes Sichtfeld) konvex, elektromechanische Parkbremse, Dachhimmel in Stoff felsgrau, Kraftstoffsystem Otto-Einspritzer, Linkslenker, Reifenreparaturset, Heckleuchten, Scheibenwaschanlage, Entriegelung Hintersitz Standard, Waschwasserstandsanzeige, Abgaskonzept EU6 AG/H/I, Frontantrieb, A3, Außenspiegelgehäuse in Wagenfarbe, Ohne erweitertem Sicherheitssystem, Geschwindigkeitsbegrenzungsanlage, Dachkantenspoiler, Heckscheibenwischer, Sportback, Kindersicherung manuell, Ohne Kamerasysteme/Umfeldsensorik, 4-Zyl. Ottomotor 1 5 L/110KW TSI Grundmotor ist: TJ7/N09/T9F, Nebelschlussleuchten, Nichtraucherausführung, Radstand, Doppeltonfanfare, Serienfahrwerk, 4 Türen, Modellbezeichnung gemäß neuer Leistungskennzeichnung, Warnleuchten, Zierleisten schwarz, Nichtraucherfahrzeug, Irrtümer Änderungen und Zwischenverkauf vorbehalten, sehr guter Zustand, Komfortklima, Aussenspiegel heizbar, elektrische Aussenspiegel, geteilte Rückbank, Scheckheft gepflegt, Fahrersitz höhenverstellbar, Beifahrersitz höhenverstellbar, \\n]                                                                                                                                                                                                                                                                                                                                                                                                                                                                        1\n",
      "[\\nDEK:[2691331], Renault Espace Blue dCi 200CV EDC Business, Nuova da Immatricolare, COLORE: Grigio Titanio, INTERNO: Pelle+Tessuto, TRASMISSIONE: Cambio Automatico EDC, ---, ACCESSORI: , 7 Posti, , , Cerchi in Lega 17, Navigatore con Display 8.7, Clima Automatico, Sensori di Parcheggio Anteriori e Posteriori con Retrocamera, Fari Full LED Pure Vision, Cruise Control, Renault Multisense, ---, Listino Nuovo 44.300 Euro, Prezzo Gruppo Carmeli: 39.700 Euro (Esclusa IPT e Messa in Strada), IVA Esposta, In caso di Adesione alla PROMO GRUPPO CARMELI puoi Averla a 36.000 Euro, Contattaci per scoprire tutti i vantaggi della PROMO GRUPPO CARMELI, ____________________________________, Gruppo Carmeli S.p.A. è Concessionaria e Service ufficiale dei Marchi Renault, Dacia, Nissan, Mercedes e Smart per la provincia di Brescia e Bergamo ed opera nel mercato dell’auto da più di 40 anni., Nelle sedi di Brescia (Nissan e Renault-Dacia Autospazio), di Coccaglio (Renault-Dacia e Nissan) e di Bergamo (Nissan) oltre a tutta la gamma di veicoli dei Marchi rappresentati, propone anche 2.000 auto a Km Zero e Aziendali di tutte le marche., Offriamo Servizi:, -VALUTAZIONE e PERMUTA del tuo USATO, -ACQUISTO con pagamento immediato del tuo USATO, -FINANZIAMENTI e LEASING agevolati, -NOLEGGIO A LUNGO TERMINE di veicoli di tutte le marche, -PACCHETTI ASSICURATIVI su misura con possibilità di garanzia del valore a Nuovo, ____________________________________, Sebbene sia stato fatto ogni ragionevole sforzo per assicurare l'esattezza delle informazioni riportate, vi potrebbero essere involontarie incongruenze riguardanti le immagini e la descrizione degli accessori, che pertanto non rappresentano vincolo contrattuale. Per ulteriori informazioni sulle condizioni economiche ti invitiamo a contattarci., \\n]                                                                                                                                                                                                                                                                                                                                                                                                                                                                                                                                                                                                                                                                                                                                                                                                                   1\n",
      "Name: description, Length: 12874, dtype: int64\n",
      "******************************\n",
      "\n",
      "\n",
      "\n",
      "column name :  emission_label\n",
      "--------------------------------\n",
      "Per_of_Nulls   :  % 74.97\n",
      "Num_of_Nulls   :  11934\n",
      "NaN                     11934\n",
      "[\\n4 (Green)\\n]          3553\n",
      "[\\n1 (No sticker)\\n]      381\n",
      "[[], [], []]               40\n",
      "[\\n5 (Blue)\\n]              8\n",
      "[\\n3 (Yellow)\\n]            2\n",
      "[\\n2 (Red)\\n]               1\n",
      "Name: emission_label, dtype: int64\n",
      "******************************\n",
      "\n",
      "\n",
      "\n",
      "column name :  gears\n",
      "--------------------------------\n",
      "Per_of_Nulls   :  % 29.6\n",
      "Num_of_Nulls   :  4712\n",
      "[\\n6\\n]     5822\n",
      "NaN         4712\n",
      "[\\n5\\n]     3239\n",
      "[\\n7\\n]     1908\n",
      "[\\n8\\n]      224\n",
      "[\\n9\\n]        6\n",
      "[\\n1\\n]        2\n",
      "[\\n3\\n]        2\n",
      "[\\n4\\n]        2\n",
      "[\\n2\\n]        1\n",
      "[\\n50\\n]       1\n",
      "Name: gears, dtype: int64\n",
      "******************************\n",
      "\n",
      "\n",
      "\n",
      "column name :  country_version\n",
      "--------------------------------\n",
      "Per_of_Nulls   :  % 52.35\n",
      "Num_of_Nulls   :  8333\n",
      "NaN                     8333\n",
      "[\\nGermany\\n]           4502\n",
      "[\\nItaly\\n]             1038\n",
      "[\\nEuropean Union\\n]     507\n",
      "[\\nNetherlands\\n]        464\n",
      "[\\nSpain\\n]              325\n",
      "[\\nBelgium\\n]            314\n",
      "[\\nAustria\\n]            208\n",
      "[\\nCzech Republic\\n]      52\n",
      "[\\nPoland\\n]              49\n",
      "[\\nFrance\\n]              38\n",
      "[\\nDenmark\\n]             33\n",
      "[\\nHungary\\n]             28\n",
      "[\\nJapan\\n]                8\n",
      "[\\nSlovakia\\n]             4\n",
      "[\\nCroatia\\n]              4\n",
      "[\\nSweden\\n]               3\n",
      "[\\nRomania\\n]              2\n",
      "[\\nBulgaria\\n]             2\n",
      "[\\nLuxembourg\\n]           1\n",
      "[\\nSwitzerland\\n]          1\n",
      "[\\nSlovenia\\n]             1\n",
      "[\\nEgypt\\n]                1\n",
      "[\\nSerbia\\n]               1\n",
      "Name: country_version, dtype: int64\n",
      "******************************\n",
      "\n",
      "\n",
      "\n",
      "column name :  electricity_consumption\n",
      "--------------------------------\n",
      "Per_of_Nulls   :  % 99.14\n",
      "Num_of_Nulls   :  15782\n",
      "NaN                          15782\n",
      "[\\n0 kWh/100 km (comb)\\n]      137\n",
      "Name: electricity_consumption, dtype: int64\n",
      "******************************\n",
      "\n",
      "\n",
      "\n",
      "column name :  last_service_date\n",
      "--------------------------------\n",
      "Per_of_Nulls   :  % 96.44\n",
      "Num_of_Nulls   :  15353\n",
      "NaN                                       15353\n",
      "[\\n02/2019\\n, \\nEuro 6\\n]                    23\n",
      "[\\n05/2019\\n, \\nEuro 6\\n]                    16\n",
      "[\\n01/2018\\n, \\n118 g CO2/km (comb)\\n]       15\n",
      "[\\n03/2019\\n, \\nEuro 6\\n]                    15\n",
      "                                          ...  \n",
      "[\\n01/2017\\n, \\n95 g CO2/km (comb)\\n]         1\n",
      "[\\n06/2019\\n, \\n87 g CO2/km (comb)\\n]         1\n",
      "[\\n10/2018\\n, \\n100 g CO2/km (comb)\\n]        1\n",
      "[\\n02/2018\\n, \\n97 g CO2/km (comb)\\n]         1\n",
      "[\\n03/2019\\n, \\n120 g CO2/km (comb)\\n]        1\n",
      "Name: last_service_date, Length: 267, dtype: int64\n",
      "******************************\n",
      "\n",
      "\n",
      "\n",
      "column name :  other_fuel_types\n",
      "--------------------------------\n",
      "Per_of_Nulls   :  % 94.47\n",
      "Num_of_Nulls   :  15039\n",
      "NaN             15039\n",
      "[[], [], []]      880\n",
      "Name: other_fuel_types, dtype: int64\n",
      "******************************\n",
      "\n",
      "\n",
      "\n",
      "column name :  availability\n",
      "--------------------------------\n",
      "Per_of_Nulls   :  % 96.01\n",
      "Num_of_Nulls   :  15284\n",
      "NaN                              15284\n",
      "\\nin 90 days from ordering\\n       196\n",
      "\\nin 120 days from ordering\\n      182\n",
      "\\nin 1 day from ordering\\n          51\n",
      "\\nin 5 days from ordering\\n         35\n",
      "\\nin 3 days from ordering\\n         35\n",
      "\\nin 180 days from ordering\\n       24\n",
      "\\nin 14 days from ordering\\n        24\n",
      "\\nin 7 days from ordering\\n         20\n",
      "\\nin 150 days from ordering\\n       18\n",
      "\\nin 2 days from ordering\\n         16\n",
      "\\nin 60 days from ordering\\n        13\n",
      "\\nin 42 days from ordering\\n        10\n",
      "\\nin 21 days from ordering\\n         8\n",
      "\\nin 4 days from ordering\\n          2\n",
      "\\nin 6 days from ordering\\n          1\n",
      "Name: availability, dtype: int64\n",
      "******************************\n",
      "\n",
      "\n",
      "\n",
      "column name :  last_timing_belt_service_date\n",
      "--------------------------------\n",
      "Per_of_Nulls   :  % 99.9\n",
      "Num_of_Nulls   :  15903\n",
      "NaN                          15903\n",
      "[\\n04/2016\\n]                    2\n",
      "[\\n12/1900\\n]                    1\n",
      "[\\n07/2018\\n]                    1\n",
      "[\\n01/1900\\n]                    1\n",
      "[\\n05/2019\\n]                    1\n",
      "[\\n09/2018\\n]                    1\n",
      "[\\n05/2018\\n, \\nEuro 6\\n]        1\n",
      "[\\n06/2017\\n]                    1\n",
      "[\\n01/2019\\n]                    1\n",
      "[\\n02/2019\\n]                    1\n",
      "[\\n02/2018\\n]                    1\n",
      "[\\n06/2019\\n]                    1\n",
      "[\\n01/2018\\n]                    1\n",
      "[\\n04/2019\\n]                    1\n",
      "[\\n01/1970\\n]                    1\n",
      "Name: last_timing_belt_service_date, dtype: int64\n",
      "******************************\n",
      "\n",
      "\n",
      "\n",
      "column name :  available_from\n",
      "--------------------------------\n",
      "Per_of_Nulls   :  % 98.29\n",
      "Num_of_Nulls   :  15647\n",
      "NaN             15647\n",
      "\\n31/08/19\\n       98\n",
      "\\n30/07/19\\n       25\n",
      "\\n15/08/19\\n       24\n",
      "\\n16/09/19\\n       14\n",
      "\\n29/06/19\\n       12\n",
      "\\n01/07/19\\n       11\n",
      "\\n28/06/19\\n       10\n",
      "\\n19/08/19\\n        7\n",
      "\\n10/09/19\\n        6\n",
      "\\n26/06/19\\n        5\n",
      "\\n27/06/19\\n        5\n",
      "\\n10/11/19\\n        5\n",
      "\\n08/07/19\\n        4\n",
      "\\n15/07/19\\n        3\n",
      "\\n25/10/19\\n        3\n",
      "\\n01/08/19\\n        3\n",
      "\\n04/07/19\\n        2\n",
      "\\n05/08/19\\n        2\n",
      "\\n24/08/19\\n        2\n",
      "\\n16/07/19\\n        2\n",
      "\\n20/07/19\\n        2\n",
      "\\n05/07/19\\n        2\n",
      "\\n30/06/19\\n        2\n",
      "\\n30/09/19\\n        1\n",
      "\\n31/10/19\\n        1\n",
      "\\n27/07/19\\n        1\n",
      "\\n02/07/19\\n        1\n",
      "\\n10/07/19\\n        1\n",
      "\\n19/07/19\\n        1\n",
      "\\n24/07/19\\n        1\n",
      "\\n29/07/19\\n        1\n",
      "\\n29/09/19\\n        1\n",
      "\\n18/08/19\\n        1\n",
      "\\n14/09/19\\n        1\n",
      "\\n18/07/19\\n        1\n",
      "\\n16/08/19\\n        1\n",
      "\\n24/09/19\\n        1\n",
      "\\n17/08/19\\n        1\n",
      "\\n10/10/19\\n        1\n",
      "\\n06/12/19\\n        1\n",
      "\\n03/12/19\\n        1\n",
      "\\n05/12/19\\n        1\n",
      "\\n11/08/19\\n        1\n",
      "\\n10/12/19\\n        1\n",
      "\\n01/09/19\\n        1\n",
      "\\n03/08/19\\n        1\n",
      "Name: available_from, dtype: int64\n",
      "******************************\n",
      "\n",
      "\n",
      "\n"
     ]
    }
   ],
   "source": [
    "for col in df.columns :\n",
    "    check_df(col)"
   ]
  },
  {
   "cell_type": "code",
   "execution_count": 20,
   "metadata": {
    "code_folding": []
   },
   "outputs": [],
   "source": [
    "import re \n",
    "\n",
    "def get_diff_category_column(Series:pd.Series, exclude=''',/\\n''', pattern=r'''[,\\n]| /''', strip='''\\n' \"!?|.,*+-_/][\\\\n''', diff_value=list()):  \n",
    "    diff_value.clear()\n",
    "    column = Series.dropna().apply(str).str.strip(strip)\n",
    "    for row in column:\n",
    "        if not any(x in exclude for x in row) and row not in diff_value:\n",
    "            diff_value.append(row)\n",
    "        else:\n",
    "            for data in map(lambda x: x.strip(strip), filter(None, re.split(pattern, row))):\n",
    "                if data not in diff_value:\n",
    "                    diff_value.append(data)\n",
    "    return dict(enumerate(sorted(diff_value)))"
   ]
  },
  {
   "cell_type": "markdown",
   "metadata": {},
   "source": [
    "## 1. url "
   ]
  },
  {
   "cell_type": "code",
   "execution_count": 21,
   "metadata": {},
   "outputs": [
    {
     "name": "stdout",
     "output_type": "stream",
     "text": [
      "column name :  ['url']\n",
      "--------------------------------\n",
      "Per_of_Nulls   :  % url    0.0\n",
      "dtype: float64\n",
      "Num_of_Nulls   :  url    0\n",
      "dtype: int64\n",
      "url                                                                                                                                                        \n",
      "https://www.autoscout24.com//offers/audi-a1-1-0-30-tfsi-sportback-advanced-2019-sh-pdc-gasoline-white-1037d13f-0851-44dd-b559-c6f6def8e6d2                     1\n",
      "https://www.autoscout24.com//offers/opel-insignia-1-5-turbo-s-s-innovation-at-matrix-led-gasoline-black-8b880006-0c08-4500-91c0-2b45013716c8                   1\n",
      "https://www.autoscout24.com//offers/opel-insignia-1-5-turbo-innovation-matrix-navi-pdc-gasoline-silver-bf9ce61b-6d07-4e1a-b734-e5c1742f03b8                    1\n",
      "https://www.autoscout24.com//offers/opel-insignia-1-5-turbo-innovation-navi-klimaaut-gasoline-blue-900ec5a8-b2db-427d-8977-8363b8ae15b9                        1\n",
      "https://www.autoscout24.com//offers/opel-insignia-1-5-turbo-innovation-navi-klimaaut-gasoline-grey-913b914f-a839-416d-96ba-c995de9f4db3                        1\n",
      "                                                                                                                                                              ..\n",
      "https://www.autoscout24.com//offers/audi-a3-sportback-35-tfsi-1-5-150-ps-euro-6-wltp-gasoline-white-d84d9ed1-c735-48a1-89ba-d614f7da6a0a                       1\n",
      "https://www.autoscout24.com//offers/audi-a3-sportback-35-tfsi-110kw-gasoline-00a371f2-061f-4339-87cd-f5605edae75b                                              1\n",
      "https://www.autoscout24.com//offers/audi-a3-sportback-35-tfsi-150-gps-radars-16p-gasoline-black-2f028979-a6f3-4716-9c76-6e981fb0a3c9                           1\n",
      "https://www.autoscout24.com//offers/audi-a3-sportback-35-tfsi-150-gps-radars-16p-gasoline-grey-a6344f21-90da-4140-b505-9bd31ec5013e                            1\n",
      "https://www.autoscout24.com//offers/renault-espace-zu-spaet-geht-an-haendler-da-wird-er-dann-23-000-ko-gasoline-silver-93caa088-19e3-905e-e053-e250040a8d8d    1\n",
      "Length: 15919, dtype: int64\n",
      "******************************\n",
      "\n",
      "\n",
      "\n"
     ]
    }
   ],
   "source": [
    "check_df([\"url\"])"
   ]
  },
  {
   "cell_type": "code",
   "execution_count": 22,
   "metadata": {},
   "outputs": [],
   "source": [
    "# Even if url contains some information, we do not need it since this information can be obtained from other features.\n",
    "# So we will be drop later"
   ]
  },
  {
   "cell_type": "markdown",
   "metadata": {},
   "source": [
    "## 2. make_model, make and model columns"
   ]
  },
  {
   "cell_type": "code",
   "execution_count": 23,
   "metadata": {},
   "outputs": [
    {
     "name": "stdout",
     "output_type": "stream",
     "text": [
      "column name :  make_model\n",
      "--------------------------------\n",
      "Per_of_Nulls   :  % 0.0\n",
      "Num_of_Nulls   :  0\n",
      "Audi A3           3097\n",
      "Audi A1           2614\n",
      "Opel Insignia     2598\n",
      "Opel Astra        2526\n",
      "Opel Corsa        2219\n",
      "Renault Clio      1839\n",
      "Renault Espace     991\n",
      "Renault Duster      34\n",
      "Audi A2              1\n",
      "Name: make_model, dtype: int64\n",
      "******************************\n",
      "\n",
      "\n",
      "\n",
      "column name :  make\n",
      "--------------------------------\n",
      "Per_of_Nulls   :  % 0.0\n",
      "Num_of_Nulls   :  0\n",
      "\\nOpel\\n       7343\n",
      "\\nAudi\\n       5712\n",
      "\\nRenault\\n    2864\n",
      "Name: make, dtype: int64\n",
      "******************************\n",
      "\n",
      "\n",
      "\n",
      "column name :  model\n",
      "--------------------------------\n",
      "Per_of_Nulls   :  % 0.0\n",
      "Num_of_Nulls   :  0\n",
      "[\\n, A3, \\n]          3097\n",
      "[\\n, A1, \\n]          2614\n",
      "[\\n, Insignia, \\n]    2598\n",
      "[\\n, Astra, \\n]       2526\n",
      "[\\n, Corsa, \\n]       2219\n",
      "[\\n, Clio, \\n]        1839\n",
      "[\\n, Espace, \\n]       991\n",
      "[\\n, Duster, \\n]        34\n",
      "[\\n, A2, \\n]             1\n",
      "Name: model, dtype: int64\n",
      "******************************\n",
      "\n",
      "\n",
      "\n"
     ]
    }
   ],
   "source": [
    "for i in [\"make_model\", \"make\", \"model\"]:\n",
    "    check_df(i)"
   ]
  },
  {
   "cell_type": "code",
   "execution_count": 24,
   "metadata": {
    "scrolled": true
   },
   "outputs": [
    {
     "data": {
      "text/html": [
       "<div>\n",
       "<style scoped>\n",
       "    .dataframe tbody tr th:only-of-type {\n",
       "        vertical-align: middle;\n",
       "    }\n",
       "\n",
       "    .dataframe tbody tr th {\n",
       "        vertical-align: top;\n",
       "    }\n",
       "\n",
       "    .dataframe thead th {\n",
       "        text-align: right;\n",
       "    }\n",
       "</style>\n",
       "<table border=\"1\" class=\"dataframe\">\n",
       "  <thead>\n",
       "    <tr style=\"text-align: right;\">\n",
       "      <th></th>\n",
       "      <th>make_model</th>\n",
       "      <th>make</th>\n",
       "      <th>model</th>\n",
       "    </tr>\n",
       "  </thead>\n",
       "  <tbody>\n",
       "    <tr>\n",
       "      <th>12564</th>\n",
       "      <td>Opel Insignia</td>\n",
       "      <td>\\nOpel\\n</td>\n",
       "      <td>[\\n, Insignia, \\n]</td>\n",
       "    </tr>\n",
       "    <tr>\n",
       "      <th>11890</th>\n",
       "      <td>Opel Insignia</td>\n",
       "      <td>\\nOpel\\n</td>\n",
       "      <td>[\\n, Insignia, \\n]</td>\n",
       "    </tr>\n",
       "    <tr>\n",
       "      <th>5630</th>\n",
       "      <td>Audi A3</td>\n",
       "      <td>\\nAudi\\n</td>\n",
       "      <td>[\\n, A3, \\n]</td>\n",
       "    </tr>\n",
       "    <tr>\n",
       "      <th>7815</th>\n",
       "      <td>Opel Astra</td>\n",
       "      <td>\\nOpel\\n</td>\n",
       "      <td>[\\n, Astra, \\n]</td>\n",
       "    </tr>\n",
       "    <tr>\n",
       "      <th>8504</th>\n",
       "      <td>Opel Corsa</td>\n",
       "      <td>\\nOpel\\n</td>\n",
       "      <td>[\\n, Corsa, \\n]</td>\n",
       "    </tr>\n",
       "    <tr>\n",
       "      <th>14314</th>\n",
       "      <td>Renault Clio</td>\n",
       "      <td>\\nRenault\\n</td>\n",
       "      <td>[\\n, Clio, \\n]</td>\n",
       "    </tr>\n",
       "    <tr>\n",
       "      <th>511</th>\n",
       "      <td>Audi A1</td>\n",
       "      <td>\\nAudi\\n</td>\n",
       "      <td>[\\n, A1, \\n]</td>\n",
       "    </tr>\n",
       "    <tr>\n",
       "      <th>11686</th>\n",
       "      <td>Opel Insignia</td>\n",
       "      <td>\\nOpel\\n</td>\n",
       "      <td>[\\n, Insignia, \\n]</td>\n",
       "    </tr>\n",
       "    <tr>\n",
       "      <th>751</th>\n",
       "      <td>Audi A1</td>\n",
       "      <td>\\nAudi\\n</td>\n",
       "      <td>[\\n, A1, \\n]</td>\n",
       "    </tr>\n",
       "    <tr>\n",
       "      <th>4744</th>\n",
       "      <td>Audi A3</td>\n",
       "      <td>\\nAudi\\n</td>\n",
       "      <td>[\\n, A3, \\n]</td>\n",
       "    </tr>\n",
       "    <tr>\n",
       "      <th>221</th>\n",
       "      <td>Audi A1</td>\n",
       "      <td>\\nAudi\\n</td>\n",
       "      <td>[\\n, A1, \\n]</td>\n",
       "    </tr>\n",
       "    <tr>\n",
       "      <th>10426</th>\n",
       "      <td>Opel Corsa</td>\n",
       "      <td>\\nOpel\\n</td>\n",
       "      <td>[\\n, Corsa, \\n]</td>\n",
       "    </tr>\n",
       "    <tr>\n",
       "      <th>12644</th>\n",
       "      <td>Opel Insignia</td>\n",
       "      <td>\\nOpel\\n</td>\n",
       "      <td>[\\n, Insignia, \\n]</td>\n",
       "    </tr>\n",
       "    <tr>\n",
       "      <th>2031</th>\n",
       "      <td>Audi A1</td>\n",
       "      <td>\\nAudi\\n</td>\n",
       "      <td>[\\n, A1, \\n]</td>\n",
       "    </tr>\n",
       "    <tr>\n",
       "      <th>12788</th>\n",
       "      <td>Opel Insignia</td>\n",
       "      <td>\\nOpel\\n</td>\n",
       "      <td>[\\n, Insignia, \\n]</td>\n",
       "    </tr>\n",
       "    <tr>\n",
       "      <th>3099</th>\n",
       "      <td>Audi A3</td>\n",
       "      <td>\\nAudi\\n</td>\n",
       "      <td>[\\n, A3, \\n]</td>\n",
       "    </tr>\n",
       "    <tr>\n",
       "      <th>685</th>\n",
       "      <td>Audi A1</td>\n",
       "      <td>\\nAudi\\n</td>\n",
       "      <td>[\\n, A1, \\n]</td>\n",
       "    </tr>\n",
       "    <tr>\n",
       "      <th>4209</th>\n",
       "      <td>Audi A3</td>\n",
       "      <td>\\nAudi\\n</td>\n",
       "      <td>[\\n, A3, \\n]</td>\n",
       "    </tr>\n",
       "    <tr>\n",
       "      <th>5279</th>\n",
       "      <td>Audi A3</td>\n",
       "      <td>\\nAudi\\n</td>\n",
       "      <td>[\\n, A3, \\n]</td>\n",
       "    </tr>\n",
       "    <tr>\n",
       "      <th>11213</th>\n",
       "      <td>Opel Insignia</td>\n",
       "      <td>\\nOpel\\n</td>\n",
       "      <td>[\\n, Insignia, \\n]</td>\n",
       "    </tr>\n",
       "    <tr>\n",
       "      <th>252</th>\n",
       "      <td>Audi A1</td>\n",
       "      <td>\\nAudi\\n</td>\n",
       "      <td>[\\n, A1, \\n]</td>\n",
       "    </tr>\n",
       "    <tr>\n",
       "      <th>6174</th>\n",
       "      <td>Opel Astra</td>\n",
       "      <td>\\nOpel\\n</td>\n",
       "      <td>[\\n, Astra, \\n]</td>\n",
       "    </tr>\n",
       "    <tr>\n",
       "      <th>2326</th>\n",
       "      <td>Audi A1</td>\n",
       "      <td>\\nAudi\\n</td>\n",
       "      <td>[\\n, A1, \\n]</td>\n",
       "    </tr>\n",
       "    <tr>\n",
       "      <th>4012</th>\n",
       "      <td>Audi A3</td>\n",
       "      <td>\\nAudi\\n</td>\n",
       "      <td>[\\n, A3, \\n]</td>\n",
       "    </tr>\n",
       "    <tr>\n",
       "      <th>3007</th>\n",
       "      <td>Audi A3</td>\n",
       "      <td>\\nAudi\\n</td>\n",
       "      <td>[\\n, A3, \\n]</td>\n",
       "    </tr>\n",
       "    <tr>\n",
       "      <th>342</th>\n",
       "      <td>Audi A1</td>\n",
       "      <td>\\nAudi\\n</td>\n",
       "      <td>[\\n, A1, \\n]</td>\n",
       "    </tr>\n",
       "    <tr>\n",
       "      <th>14495</th>\n",
       "      <td>Renault Clio</td>\n",
       "      <td>\\nRenault\\n</td>\n",
       "      <td>[\\n, Clio, \\n]</td>\n",
       "    </tr>\n",
       "    <tr>\n",
       "      <th>2182</th>\n",
       "      <td>Audi A1</td>\n",
       "      <td>\\nAudi\\n</td>\n",
       "      <td>[\\n, A1, \\n]</td>\n",
       "    </tr>\n",
       "    <tr>\n",
       "      <th>15362</th>\n",
       "      <td>Renault Espace</td>\n",
       "      <td>\\nRenault\\n</td>\n",
       "      <td>[\\n, Espace, \\n]</td>\n",
       "    </tr>\n",
       "    <tr>\n",
       "      <th>13107</th>\n",
       "      <td>Renault Clio</td>\n",
       "      <td>\\nRenault\\n</td>\n",
       "      <td>[\\n, Clio, \\n]</td>\n",
       "    </tr>\n",
       "    <tr>\n",
       "      <th>1715</th>\n",
       "      <td>Audi A1</td>\n",
       "      <td>\\nAudi\\n</td>\n",
       "      <td>[\\n, A1, \\n]</td>\n",
       "    </tr>\n",
       "    <tr>\n",
       "      <th>6179</th>\n",
       "      <td>Opel Astra</td>\n",
       "      <td>\\nOpel\\n</td>\n",
       "      <td>[\\n, Astra, \\n]</td>\n",
       "    </tr>\n",
       "    <tr>\n",
       "      <th>11138</th>\n",
       "      <td>Opel Insignia</td>\n",
       "      <td>\\nOpel\\n</td>\n",
       "      <td>[\\n, Insignia, \\n]</td>\n",
       "    </tr>\n",
       "    <tr>\n",
       "      <th>2081</th>\n",
       "      <td>Audi A1</td>\n",
       "      <td>\\nAudi\\n</td>\n",
       "      <td>[\\n, A1, \\n]</td>\n",
       "    </tr>\n",
       "    <tr>\n",
       "      <th>7582</th>\n",
       "      <td>Opel Astra</td>\n",
       "      <td>\\nOpel\\n</td>\n",
       "      <td>[\\n, Astra, \\n]</td>\n",
       "    </tr>\n",
       "    <tr>\n",
       "      <th>9392</th>\n",
       "      <td>Opel Corsa</td>\n",
       "      <td>\\nOpel\\n</td>\n",
       "      <td>[\\n, Corsa, \\n]</td>\n",
       "    </tr>\n",
       "    <tr>\n",
       "      <th>3146</th>\n",
       "      <td>Audi A3</td>\n",
       "      <td>\\nAudi\\n</td>\n",
       "      <td>[\\n, A3, \\n]</td>\n",
       "    </tr>\n",
       "    <tr>\n",
       "      <th>4589</th>\n",
       "      <td>Audi A3</td>\n",
       "      <td>\\nAudi\\n</td>\n",
       "      <td>[\\n, A3, \\n]</td>\n",
       "    </tr>\n",
       "    <tr>\n",
       "      <th>4130</th>\n",
       "      <td>Audi A3</td>\n",
       "      <td>\\nAudi\\n</td>\n",
       "      <td>[\\n, A3, \\n]</td>\n",
       "    </tr>\n",
       "    <tr>\n",
       "      <th>4752</th>\n",
       "      <td>Audi A3</td>\n",
       "      <td>\\nAudi\\n</td>\n",
       "      <td>[\\n, A3, \\n]</td>\n",
       "    </tr>\n",
       "    <tr>\n",
       "      <th>6564</th>\n",
       "      <td>Opel Astra</td>\n",
       "      <td>\\nOpel\\n</td>\n",
       "      <td>[\\n, Astra, \\n]</td>\n",
       "    </tr>\n",
       "    <tr>\n",
       "      <th>1159</th>\n",
       "      <td>Audi A1</td>\n",
       "      <td>\\nAudi\\n</td>\n",
       "      <td>[\\n, A1, \\n]</td>\n",
       "    </tr>\n",
       "    <tr>\n",
       "      <th>14868</th>\n",
       "      <td>Renault Clio</td>\n",
       "      <td>\\nRenault\\n</td>\n",
       "      <td>[\\n, Clio, \\n]</td>\n",
       "    </tr>\n",
       "    <tr>\n",
       "      <th>9911</th>\n",
       "      <td>Opel Corsa</td>\n",
       "      <td>\\nOpel\\n</td>\n",
       "      <td>[\\n, Corsa, \\n]</td>\n",
       "    </tr>\n",
       "    <tr>\n",
       "      <th>8385</th>\n",
       "      <td>Opel Corsa</td>\n",
       "      <td>\\nOpel\\n</td>\n",
       "      <td>[\\n, Corsa, \\n]</td>\n",
       "    </tr>\n",
       "    <tr>\n",
       "      <th>6860</th>\n",
       "      <td>Opel Astra</td>\n",
       "      <td>\\nOpel\\n</td>\n",
       "      <td>[\\n, Astra, \\n]</td>\n",
       "    </tr>\n",
       "    <tr>\n",
       "      <th>14330</th>\n",
       "      <td>Renault Clio</td>\n",
       "      <td>\\nRenault\\n</td>\n",
       "      <td>[\\n, Clio, \\n]</td>\n",
       "    </tr>\n",
       "    <tr>\n",
       "      <th>11132</th>\n",
       "      <td>Opel Insignia</td>\n",
       "      <td>\\nOpel\\n</td>\n",
       "      <td>[\\n, Insignia, \\n]</td>\n",
       "    </tr>\n",
       "    <tr>\n",
       "      <th>15546</th>\n",
       "      <td>Renault Espace</td>\n",
       "      <td>\\nRenault\\n</td>\n",
       "      <td>[\\n, Espace, \\n]</td>\n",
       "    </tr>\n",
       "    <tr>\n",
       "      <th>10534</th>\n",
       "      <td>Opel Insignia</td>\n",
       "      <td>\\nOpel\\n</td>\n",
       "      <td>[\\n, Insignia, \\n]</td>\n",
       "    </tr>\n",
       "  </tbody>\n",
       "</table>\n",
       "</div>"
      ],
      "text/plain": [
       "           make_model         make               model\n",
       "12564   Opel Insignia     \\nOpel\\n  [\\n, Insignia, \\n]\n",
       "11890   Opel Insignia     \\nOpel\\n  [\\n, Insignia, \\n]\n",
       "5630          Audi A3     \\nAudi\\n        [\\n, A3, \\n]\n",
       "7815       Opel Astra     \\nOpel\\n     [\\n, Astra, \\n]\n",
       "8504       Opel Corsa     \\nOpel\\n     [\\n, Corsa, \\n]\n",
       "14314    Renault Clio  \\nRenault\\n      [\\n, Clio, \\n]\n",
       "511           Audi A1     \\nAudi\\n        [\\n, A1, \\n]\n",
       "11686   Opel Insignia     \\nOpel\\n  [\\n, Insignia, \\n]\n",
       "751           Audi A1     \\nAudi\\n        [\\n, A1, \\n]\n",
       "4744          Audi A3     \\nAudi\\n        [\\n, A3, \\n]\n",
       "221           Audi A1     \\nAudi\\n        [\\n, A1, \\n]\n",
       "10426      Opel Corsa     \\nOpel\\n     [\\n, Corsa, \\n]\n",
       "12644   Opel Insignia     \\nOpel\\n  [\\n, Insignia, \\n]\n",
       "2031          Audi A1     \\nAudi\\n        [\\n, A1, \\n]\n",
       "12788   Opel Insignia     \\nOpel\\n  [\\n, Insignia, \\n]\n",
       "3099          Audi A3     \\nAudi\\n        [\\n, A3, \\n]\n",
       "685           Audi A1     \\nAudi\\n        [\\n, A1, \\n]\n",
       "4209          Audi A3     \\nAudi\\n        [\\n, A3, \\n]\n",
       "5279          Audi A3     \\nAudi\\n        [\\n, A3, \\n]\n",
       "11213   Opel Insignia     \\nOpel\\n  [\\n, Insignia, \\n]\n",
       "252           Audi A1     \\nAudi\\n        [\\n, A1, \\n]\n",
       "6174       Opel Astra     \\nOpel\\n     [\\n, Astra, \\n]\n",
       "2326          Audi A1     \\nAudi\\n        [\\n, A1, \\n]\n",
       "4012          Audi A3     \\nAudi\\n        [\\n, A3, \\n]\n",
       "3007          Audi A3     \\nAudi\\n        [\\n, A3, \\n]\n",
       "342           Audi A1     \\nAudi\\n        [\\n, A1, \\n]\n",
       "14495    Renault Clio  \\nRenault\\n      [\\n, Clio, \\n]\n",
       "2182          Audi A1     \\nAudi\\n        [\\n, A1, \\n]\n",
       "15362  Renault Espace  \\nRenault\\n    [\\n, Espace, \\n]\n",
       "13107    Renault Clio  \\nRenault\\n      [\\n, Clio, \\n]\n",
       "1715          Audi A1     \\nAudi\\n        [\\n, A1, \\n]\n",
       "6179       Opel Astra     \\nOpel\\n     [\\n, Astra, \\n]\n",
       "11138   Opel Insignia     \\nOpel\\n  [\\n, Insignia, \\n]\n",
       "2081          Audi A1     \\nAudi\\n        [\\n, A1, \\n]\n",
       "7582       Opel Astra     \\nOpel\\n     [\\n, Astra, \\n]\n",
       "9392       Opel Corsa     \\nOpel\\n     [\\n, Corsa, \\n]\n",
       "3146          Audi A3     \\nAudi\\n        [\\n, A3, \\n]\n",
       "4589          Audi A3     \\nAudi\\n        [\\n, A3, \\n]\n",
       "4130          Audi A3     \\nAudi\\n        [\\n, A3, \\n]\n",
       "4752          Audi A3     \\nAudi\\n        [\\n, A3, \\n]\n",
       "6564       Opel Astra     \\nOpel\\n     [\\n, Astra, \\n]\n",
       "1159          Audi A1     \\nAudi\\n        [\\n, A1, \\n]\n",
       "14868    Renault Clio  \\nRenault\\n      [\\n, Clio, \\n]\n",
       "9911       Opel Corsa     \\nOpel\\n     [\\n, Corsa, \\n]\n",
       "8385       Opel Corsa     \\nOpel\\n     [\\n, Corsa, \\n]\n",
       "6860       Opel Astra     \\nOpel\\n     [\\n, Astra, \\n]\n",
       "14330    Renault Clio  \\nRenault\\n      [\\n, Clio, \\n]\n",
       "11132   Opel Insignia     \\nOpel\\n  [\\n, Insignia, \\n]\n",
       "15546  Renault Espace  \\nRenault\\n    [\\n, Espace, \\n]\n",
       "10534   Opel Insignia     \\nOpel\\n  [\\n, Insignia, \\n]"
      ]
     },
     "execution_count": 24,
     "metadata": {},
     "output_type": "execute_result"
    }
   ],
   "source": [
    "df[[\"make_model\", \"make\", \"model\"]].sample(50)"
   ]
  },
  {
   "cell_type": "code",
   "execution_count": 25,
   "metadata": {},
   "outputs": [],
   "source": [
    "df[[\"make\", \"model\"]] = df.make_model.str.split(\" \", expand=True)"
   ]
  },
  {
   "cell_type": "code",
   "execution_count": 26,
   "metadata": {},
   "outputs": [],
   "source": [
    "# we can drop the make_model column \n",
    "df.drop(columns=\"make_model\", inplace=True)"
   ]
  },
  {
   "cell_type": "markdown",
   "metadata": {},
   "source": [
    "## 3.short_description"
   ]
  },
  {
   "cell_type": "code",
   "execution_count": 27,
   "metadata": {},
   "outputs": [
    {
     "name": "stdout",
     "output_type": "stream",
     "text": [
      "column name :  short_description\n",
      "--------------------------------\n",
      "Per_of_Nulls   :  % 0.29\n",
      "Num_of_Nulls   :  46\n",
      "SPB 1.6 TDI 116 CV S tronic Sport                 64\n",
      "None                                              46\n",
      "1.4 66kW (90CV) Selective                         40\n",
      "MOVE KLIMA CD USB ALLWETTER BLUETOOTH             38\n",
      "SPB 30 TDI S tronic Business                      35\n",
      "                                                  ..\n",
      "K Sports Tourer Business **Navi*Voll**             1\n",
      "1.0 Turbo ecoFLEX Automatic Elective Park Navi     1\n",
      "1.6 CDTI Business *Navi*Automatik*Spurh.*          1\n",
      "1.6 136 CV Automatica Navi E 6 Garanzia Full       1\n",
      "TCe 225 EDC GPF LIM Deluxe Pano,RFK                1\n",
      "Name: short_description, Length: 10002, dtype: int64\n",
      "******************************\n",
      "\n",
      "\n",
      "\n"
     ]
    }
   ],
   "source": [
    "check_df(\"short_description\")"
   ]
  },
  {
   "cell_type": "code",
   "execution_count": 28,
   "metadata": {},
   "outputs": [],
   "source": [
    "# Even if the columns of \"short_description\" & \"description\" contain detailed information, \n",
    "# we do NOT need it since this information can be obtained from other features.\n",
    "# we will drop them later"
   ]
  },
  {
   "cell_type": "markdown",
   "metadata": {},
   "source": [
    "## 4.body_type                          "
   ]
  },
  {
   "cell_type": "code",
   "execution_count": 29,
   "metadata": {},
   "outputs": [
    {
     "name": "stdout",
     "output_type": "stream",
     "text": [
      "column name :  ['body_type']\n",
      "--------------------------------\n",
      "Per_of_Nulls   :  % body_type    0.38\n",
      "dtype: float64\n",
      "Num_of_Nulls   :  body_type    60\n",
      "dtype: int64\n",
      "body_type    \n",
      "Sedans           7903\n",
      "Station wagon    3553\n",
      "Compact          3153\n",
      "Van               783\n",
      "Other             290\n",
      "Transporter        88\n",
      "NaN                60\n",
      "Off-Road           56\n",
      "Coupe              25\n",
      "Convertible         8\n",
      "dtype: int64\n",
      "******************************\n",
      "\n",
      "\n",
      "\n"
     ]
    }
   ],
   "source": [
    "check_df([\"body_type\"])"
   ]
  },
  {
   "cell_type": "code",
   "execution_count": 30,
   "metadata": {},
   "outputs": [],
   "source": [
    "# Data is clean already we will fill the missing values"
   ]
  },
  {
   "cell_type": "markdown",
   "metadata": {},
   "source": [
    "## 5.price"
   ]
  },
  {
   "cell_type": "code",
   "execution_count": 31,
   "metadata": {
    "scrolled": true
   },
   "outputs": [
    {
     "name": "stdout",
     "output_type": "stream",
     "text": [
      "column name :  price\n",
      "--------------------------------\n",
      "Per_of_Nulls   :  % 0.0\n",
      "Num_of_Nulls   :  0\n",
      "14990    154\n",
      "15990    151\n",
      "10990    139\n",
      "15900    106\n",
      "17990    102\n",
      "        ... \n",
      "17559      1\n",
      "17560      1\n",
      "17570      1\n",
      "17575      1\n",
      "39875      1\n",
      "Name: price, Length: 2956, dtype: int64\n",
      "******************************\n",
      "\n",
      "\n",
      "\n"
     ]
    }
   ],
   "source": [
    "check_df(\"price\")"
   ]
  },
  {
   "cell_type": "code",
   "execution_count": 32,
   "metadata": {},
   "outputs": [],
   "source": [
    "df.rename(columns={\"price\":\"price_€\"}, inplace=True)"
   ]
  },
  {
   "cell_type": "code",
   "execution_count": 33,
   "metadata": {},
   "outputs": [],
   "source": [
    "df[\"price_€\"] = df[\"price_€\"].astype(float)"
   ]
  },
  {
   "cell_type": "code",
   "execution_count": 34,
   "metadata": {},
   "outputs": [
    {
     "data": {
      "image/png": "[encoded data removed]",
      "text/plain": [
       "<Figure size 720x432 with 1 Axes>"
      ]
     },
     "metadata": {},
     "output_type": "display_data"
    }
   ],
   "source": [
    "sns.boxplot(df[\"price_€\"]);"
   ]
  },
  {
   "cell_type": "code",
   "execution_count": 36,
   "metadata": {},
   "outputs": [
    {
     "data": {
      "image/png": "[encoded data removed]",
      "text/plain": [
       "<Figure size 720x432 with 1 Axes>"
      ]
     },
     "metadata": {},
     "output_type": "display_data"
    }
   ],
   "source": [
    "sns.distplot(df[\"price_€\"]);"
   ]
  },
  {
   "cell_type": "code",
   "execution_count": 37,
   "metadata": {},
   "outputs": [],
   "source": [
    "# Data is clean"
   ]
  },
  {
   "cell_type": "markdown",
   "metadata": {},
   "source": [
    "## 6. vat"
   ]
  },
  {
   "cell_type": "code",
   "execution_count": 38,
   "metadata": {},
   "outputs": [
    {
     "name": "stdout",
     "output_type": "stream",
     "text": [
      "column name :  vat\n",
      "--------------------------------\n",
      "Per_of_Nulls   :  % 28.35\n",
      "Num_of_Nulls   :  4513\n",
      "VAT deductible      10980\n",
      "None                 4513\n",
      "Price negotiable      426\n",
      "Name: vat, dtype: int64\n",
      "******************************\n",
      "\n",
      "\n",
      "\n"
     ]
    }
   ],
   "source": [
    "check_df(\"vat\")"
   ]
  },
  {
   "cell_type": "code",
   "execution_count": 39,
   "metadata": {},
   "outputs": [],
   "source": [
    "# Data is clean already we will fill the missing values"
   ]
  },
  {
   "cell_type": "markdown",
   "metadata": {},
   "source": [
    "## 7. km"
   ]
  },
  {
   "cell_type": "code",
   "execution_count": 40,
   "metadata": {},
   "outputs": [
    {
     "name": "stdout",
     "output_type": "stream",
     "text": [
      "column name :  km\n",
      "--------------------------------\n",
      "Per_of_Nulls   :  % 0.0\n",
      "Num_of_Nulls   :  0\n",
      "10 km        1045\n",
      "- km         1024\n",
      "1 km          367\n",
      "5 km          170\n",
      "50 km         148\n",
      "             ... \n",
      "67,469 km       1\n",
      "43,197 km       1\n",
      "10,027 km       1\n",
      "35,882 km       1\n",
      "57 km           1\n",
      "Name: km, Length: 6690, dtype: int64\n",
      "******************************\n",
      "\n",
      "\n",
      "\n"
     ]
    }
   ],
   "source": [
    "check_df(\"km\")"
   ]
  },
  {
   "cell_type": "code",
   "execution_count": 41,
   "metadata": {},
   "outputs": [],
   "source": [
    "#df['km'] = df['km'].str.replace(r'[^0-9]+', '')\n",
    "\n",
    "df[\"km\"] = df.km.str.replace(\" km\", \"\").str.replace(\",\", \"\")\n"
   ]
  },
  {
   "cell_type": "code",
   "execution_count": 42,
   "metadata": {},
   "outputs": [],
   "source": [
    "df.km = df.km.replace(\"-\", np.nan).astype(float)"
   ]
  },
  {
   "cell_type": "markdown",
   "metadata": {},
   "source": [
    "## 8.registration and first_registration"
   ]
  },
  {
   "cell_type": "code",
   "execution_count": 43,
   "metadata": {
    "scrolled": true
   },
   "outputs": [
    {
     "name": "stdout",
     "output_type": "stream",
     "text": [
      "column name :  registration\n",
      "--------------------------------\n",
      "Per_of_Nulls   :  % 0.0\n",
      "Num_of_Nulls   :  0\n",
      "-/-        1597\n",
      "03/2018     695\n",
      "02/2019     585\n",
      "05/2018     572\n",
      "03/2019     543\n",
      "01/2019     541\n",
      "04/2018     541\n",
      "02/2018     539\n",
      "03/2016     536\n",
      "04/2016     532\n",
      "06/2018     532\n",
      "01/2018     511\n",
      "04/2019     506\n",
      "02/2016     472\n",
      "03/2017     471\n",
      "05/2016     459\n",
      "06/2016     452\n",
      "05/2019     440\n",
      "06/2017     409\n",
      "05/2017     404\n",
      "07/2018     396\n",
      "04/2017     380\n",
      "01/2016     376\n",
      "02/2017     368\n",
      "01/2017     306\n",
      "08/2018     285\n",
      "06/2019     224\n",
      "07/2017     215\n",
      "11/2017     180\n",
      "07/2016     176\n",
      "10/2016     160\n",
      "10/2017     154\n",
      "09/2017     149\n",
      "11/2016     142\n",
      "09/2018     141\n",
      "09/2016     141\n",
      "12/2016     134\n",
      "12/2017     123\n",
      "08/2017     114\n",
      "11/2018     110\n",
      "12/2018     103\n",
      "10/2018      97\n",
      "08/2016      94\n",
      "07/2019       6\n",
      "09/2019       5\n",
      "08/2019       1\n",
      "11/2019       1\n",
      "12/2019       1\n",
      "Name: registration, dtype: int64\n",
      "******************************\n",
      "\n",
      "\n",
      "\n"
     ]
    }
   ],
   "source": [
    "check_df(\"registration\")"
   ]
  },
  {
   "cell_type": "code",
   "execution_count": 44,
   "metadata": {},
   "outputs": [
    {
     "name": "stdout",
     "output_type": "stream",
     "text": [
      "column name :  first_registration\n",
      "--------------------------------\n",
      "Per_of_Nulls   :  % 10.03\n",
      "Num_of_Nulls   :  1597\n",
      "[\\n, 2018, \\n]    4522\n",
      "[\\n, 2016, \\n]    3674\n",
      "[\\n, 2017, \\n]    3273\n",
      "[\\n, 2019, \\n]    2853\n",
      "NaN               1597\n",
      "Name: first_registration, dtype: int64\n",
      "******************************\n",
      "\n",
      "\n",
      "\n"
     ]
    }
   ],
   "source": [
    "check_df(\"first_registration\")"
   ]
  },
  {
   "cell_type": "code",
   "execution_count": 45,
   "metadata": {},
   "outputs": [],
   "source": [
    "# df.registration.str.split(\"/\", expand=True)[1]\n",
    "df[\"registration\"] = df.registration.str.extract(r\"\\d+/(\\d+)\")"
   ]
  },
  {
   "cell_type": "code",
   "execution_count": 46,
   "metadata": {},
   "outputs": [],
   "source": [
    "df.drop(columns=\"first_registration\", inplace=True)"
   ]
  },
  {
   "cell_type": "code",
   "execution_count": 47,
   "metadata": {},
   "outputs": [],
   "source": [
    "# age column will be created from this column later "
   ]
  },
  {
   "cell_type": "code",
   "execution_count": 48,
   "metadata": {},
   "outputs": [],
   "source": [
    "df.registration = df.registration.astype(float)"
   ]
  },
  {
   "cell_type": "markdown",
   "metadata": {},
   "source": [
    "## 9.prev_owner                        "
   ]
  },
  {
   "cell_type": "code",
   "execution_count": 49,
   "metadata": {},
   "outputs": [
    {
     "name": "stdout",
     "output_type": "stream",
     "text": [
      "column name :  prev_owner\n",
      "--------------------------------\n",
      "Per_of_Nulls   :  % 42.89\n",
      "Num_of_Nulls   :  6828\n",
      "1 previous owner     8294\n",
      "None                 6828\n",
      "2 previous owners     778\n",
      "3 previous owners      17\n",
      "4 previous owners       2\n",
      "Name: prev_owner, dtype: int64\n",
      "******************************\n",
      "\n",
      "\n",
      "\n"
     ]
    }
   ],
   "source": [
    "check_df(\"prev_owner\")"
   ]
  },
  {
   "cell_type": "code",
   "execution_count": 50,
   "metadata": {},
   "outputs": [],
   "source": [
    "df.prev_owner = df.prev_owner.str.extract(r\"(\\d+)\").astype(float)"
   ]
  },
  {
   "cell_type": "code",
   "execution_count": 51,
   "metadata": {},
   "outputs": [
    {
     "data": {
      "text/plain": [
       "1.0    8294\n",
       "NaN    6828\n",
       "2.0     778\n",
       "3.0      17\n",
       "4.0       2\n",
       "Name: prev_owner, dtype: int64"
      ]
     },
     "execution_count": 51,
     "metadata": {},
     "output_type": "execute_result"
    }
   ],
   "source": [
    "df.prev_owner.value_counts(dropna=False)"
   ]
  },
  {
   "cell_type": "code",
   "execution_count": null,
   "metadata": {},
   "outputs": [],
   "source": [
    "#  df.previous_owners.fillna(df.prev_owner, inplace = True)"
   ]
  },
  {
   "cell_type": "markdown",
   "metadata": {},
   "source": [
    "## 10.kW"
   ]
  },
  {
   "cell_type": "code",
   "execution_count": 52,
   "metadata": {},
   "outputs": [
    {
     "name": "stdout",
     "output_type": "stream",
     "text": [
      "column name :  kW\n",
      "--------------------------------\n",
      "Per_of_Nulls   :  % 100.0\n",
      "Num_of_Nulls   :  15919\n",
      "NaN    15919\n",
      "Name: kW, dtype: int64\n",
      "******************************\n",
      "\n",
      "\n",
      "\n"
     ]
    }
   ],
   "source": [
    "check_df(\"kW\")"
   ]
  },
  {
   "cell_type": "code",
   "execution_count": 53,
   "metadata": {},
   "outputs": [],
   "source": [
    "df.drop(columns=[\"kW\"], inplace=True)"
   ]
  },
  {
   "cell_type": "code",
   "execution_count": 54,
   "metadata": {},
   "outputs": [],
   "source": [
    "# we dropped this column bcs all values are null"
   ]
  },
  {
   "cell_type": "markdown",
   "metadata": {},
   "source": [
    "## 11.hp"
   ]
  },
  {
   "cell_type": "code",
   "execution_count": 55,
   "metadata": {},
   "outputs": [
    {
     "name": "stdout",
     "output_type": "stream",
     "text": [
      "column name :  hp\n",
      "--------------------------------\n",
      "Per_of_Nulls   :  % 0.0\n",
      "Num_of_Nulls   :  0\n",
      "85 kW     2542\n",
      "66 kW     2122\n",
      "81 kW     1402\n",
      "100 kW    1308\n",
      "110 kW    1112\n",
      "          ... \n",
      "84 kW        1\n",
      "195 kW       1\n",
      "44 kW        1\n",
      "239 kW       1\n",
      "9 kW         1\n",
      "Name: hp, Length: 81, dtype: int64\n",
      "******************************\n",
      "\n",
      "\n",
      "\n"
     ]
    }
   ],
   "source": [
    "check_df(\"hp\")"
   ]
  },
  {
   "cell_type": "code",
   "execution_count": 56,
   "metadata": {},
   "outputs": [],
   "source": [
    "df[\"hp\"] = df.hp.str.extract(r\"(\\d+)\").astype(float)"
   ]
  },
  {
   "cell_type": "code",
   "execution_count": 57,
   "metadata": {},
   "outputs": [],
   "source": [
    "df.rename(columns={\"hp\":\"hp_kW\"}, inplace=True)"
   ]
  },
  {
   "cell_type": "markdown",
   "metadata": {},
   "source": [
    "## 12.Type"
   ]
  },
  {
   "cell_type": "code",
   "execution_count": 58,
   "metadata": {},
   "outputs": [
    {
     "name": "stdout",
     "output_type": "stream",
     "text": [
      "column name :  type\n",
      "--------------------------------\n",
      "Per_of_Nulls   :  % 0.01\n",
      "Num_of_Nulls   :  2\n",
      "[, Used, , Diesel (Particulate Filter)]                                                                                 3475\n",
      "[, Used, , Diesel]                                                                                                      2516\n",
      "[, Used, , Gasoline]                                                                                                    2367\n",
      "[, Used, , Super 95]                                                                                                    1818\n",
      "[, Pre-registered, , Super 95]                                                                                           500\n",
      "                                                                                                                        ... \n",
      "[, New, , Regular/Benzine 91 / Super 95 / Super Plus 98 / Regular/Benzine E10 91 / Super Plus E10 98 / Super E10 95]       1\n",
      "[, Used, , Super 95 / Super Plus 98 / Super E10 95 / Super Plus E10 98 (Particulate Filter)]                               1\n",
      "[, Demonstration, , Super Plus 98]                                                                                         1\n",
      "[, New, , Super Plus E10 98]                                                                                               1\n",
      "[, Demonstration, , Regular/Benzine E10 91]                                                                                1\n",
      "Name: type, Length: 170, dtype: int64\n",
      "******************************\n",
      "\n",
      "\n",
      "\n"
     ]
    }
   ],
   "source": [
    "check_df(\"type\")"
   ]
  },
  {
   "cell_type": "code",
   "execution_count": 59,
   "metadata": {},
   "outputs": [
    {
     "data": {
      "text/html": [
       "<div>\n",
       "<style scoped>\n",
       "    .dataframe tbody tr th:only-of-type {\n",
       "        vertical-align: middle;\n",
       "    }\n",
       "\n",
       "    .dataframe tbody tr th {\n",
       "        vertical-align: top;\n",
       "    }\n",
       "\n",
       "    .dataframe thead th {\n",
       "        text-align: right;\n",
       "    }\n",
       "</style>\n",
       "<table border=\"1\" class=\"dataframe\">\n",
       "  <thead>\n",
       "    <tr style=\"text-align: right;\">\n",
       "      <th></th>\n",
       "      <th>url</th>\n",
       "      <th>short_description</th>\n",
       "      <th>body_type</th>\n",
       "      <th>price_€</th>\n",
       "      <th>vat</th>\n",
       "      <th>km</th>\n",
       "      <th>registration</th>\n",
       "      <th>prev_owner</th>\n",
       "      <th>hp_kW</th>\n",
       "      <th>type</th>\n",
       "      <th>previous_owners</th>\n",
       "      <th>next_inspection</th>\n",
       "      <th>inspection_new</th>\n",
       "      <th>warranty</th>\n",
       "      <th>full_service</th>\n",
       "      <th>non_smoking_vehicle</th>\n",
       "      <th>null</th>\n",
       "      <th>make</th>\n",
       "      <th>model</th>\n",
       "      <th>offer_number</th>\n",
       "      <th>body_color</th>\n",
       "      <th>paint_type</th>\n",
       "      <th>body_color_original</th>\n",
       "      <th>upholstery</th>\n",
       "      <th>body</th>\n",
       "      <th>nr_of_doors</th>\n",
       "      <th>nr_of_seats</th>\n",
       "      <th>model_code</th>\n",
       "      <th>gearing_type</th>\n",
       "      <th>displacement</th>\n",
       "      <th>cylinders</th>\n",
       "      <th>weight</th>\n",
       "      <th>drive_chain</th>\n",
       "      <th>fuel</th>\n",
       "      <th>consumption</th>\n",
       "      <th>co2_emission</th>\n",
       "      <th>emission_class</th>\n",
       "      <th>comfort&amp;convenience</th>\n",
       "      <th>entertainment&amp;media</th>\n",
       "      <th>extras</th>\n",
       "      <th>safety_&amp;_security</th>\n",
       "      <th>description</th>\n",
       "      <th>emission_label</th>\n",
       "      <th>gears</th>\n",
       "      <th>country_version</th>\n",
       "      <th>electricity_consumption</th>\n",
       "      <th>last_service_date</th>\n",
       "      <th>other_fuel_types</th>\n",
       "      <th>availability</th>\n",
       "      <th>last_timing_belt_service_date</th>\n",
       "      <th>available_from</th>\n",
       "    </tr>\n",
       "  </thead>\n",
       "  <tbody>\n",
       "    <tr>\n",
       "      <th>0</th>\n",
       "      <td>https://www.autoscout24.com//offers/audi-a1-sp...</td>\n",
       "      <td>Sportback 1.4 TDI S-tronic Xenon Navi Klima</td>\n",
       "      <td>Sedans</td>\n",
       "      <td>15770.0</td>\n",
       "      <td>VAT deductible</td>\n",
       "      <td>56013.0</td>\n",
       "      <td>2016.0</td>\n",
       "      <td>2.0</td>\n",
       "      <td>66.0</td>\n",
       "      <td>,Used,,Diesel (Particulate Filter)</td>\n",
       "      <td>\\n2\\n</td>\n",
       "      <td>\\n06/2021\\n,\\n99 g CO2/km (comb)\\n</td>\n",
       "      <td>\\nYes\\n,\\nEuro 6\\n</td>\n",
       "      <td>\\n,\\n,\\n4 (Green)\\n</td>\n",
       "      <td>\\n,\\n</td>\n",
       "      <td>\\n,\\n</td>\n",
       "      <td></td>\n",
       "      <td>Audi</td>\n",
       "      <td>A1</td>\n",
       "      <td>\\nLR-062483\\n</td>\n",
       "      <td>\\n,Black,\\n</td>\n",
       "      <td>\\nMetallic\\n</td>\n",
       "      <td>\\nMythosschwarz\\n</td>\n",
       "      <td>\\nCloth, Black\\n</td>\n",
       "      <td>\\n,Sedans,\\n</td>\n",
       "      <td>\\n5\\n</td>\n",
       "      <td>\\n5\\n</td>\n",
       "      <td>\\n0588/BDF\\n</td>\n",
       "      <td>\\n,Automatic,\\n</td>\n",
       "      <td>\\n1,422 cc\\n</td>\n",
       "      <td>\\n3\\n</td>\n",
       "      <td>\\n1,220 kg\\n</td>\n",
       "      <td>\\nfront\\n</td>\n",
       "      <td>\\n,Diesel (Particulate Filter),\\n</td>\n",
       "      <td>['3.8 l/100 km (comb)'],['4.3 l/100 km (city)'...</td>\n",
       "      <td>\\n99 g CO2/km (comb)\\n</td>\n",
       "      <td>\\nEuro 6\\n</td>\n",
       "      <td>Air conditioning,Armrest,Automatic climate con...</td>\n",
       "      <td>Bluetooth,Hands-free equipment,On-board comput...</td>\n",
       "      <td>Alloy wheels,Catalytic Converter,Voice Control</td>\n",
       "      <td>ABS,Central door lock,Daytime running lights,D...</td>\n",
       "      <td>\\n,Sicherheit:, ,Deaktivierung für Beifahrer-A...</td>\n",
       "      <td>NaN</td>\n",
       "      <td>NaN</td>\n",
       "      <td>NaN</td>\n",
       "      <td>NaN</td>\n",
       "      <td>NaN</td>\n",
       "      <td>NaN</td>\n",
       "      <td>NaN</td>\n",
       "      <td>NaN</td>\n",
       "      <td>NaN</td>\n",
       "    </tr>\n",
       "    <tr>\n",
       "      <th>1</th>\n",
       "      <td>https://www.autoscout24.com//offers/audi-a1-1-...</td>\n",
       "      <td>1.8 TFSI sport</td>\n",
       "      <td>Sedans</td>\n",
       "      <td>14500.0</td>\n",
       "      <td>Price negotiable</td>\n",
       "      <td>80000.0</td>\n",
       "      <td>2017.0</td>\n",
       "      <td>NaN</td>\n",
       "      <td>141.0</td>\n",
       "      <td>,Used,,Gasoline</td>\n",
       "      <td>NaN</td>\n",
       "      <td>NaN</td>\n",
       "      <td>NaN</td>\n",
       "      <td>NaN</td>\n",
       "      <td>NaN</td>\n",
       "      <td>NaN</td>\n",
       "      <td></td>\n",
       "      <td>Audi</td>\n",
       "      <td>A1</td>\n",
       "      <td>NaN</td>\n",
       "      <td>\\n,Red,\\n</td>\n",
       "      <td>NaN</td>\n",
       "      <td>NaN</td>\n",
       "      <td>\\nCloth, Grey\\n</td>\n",
       "      <td>\\n,Sedans,\\n</td>\n",
       "      <td>\\n3\\n</td>\n",
       "      <td>\\n4\\n</td>\n",
       "      <td>\\n0588/BCY\\n</td>\n",
       "      <td>\\n,Automatic,\\n</td>\n",
       "      <td>\\n1,798 cc\\n</td>\n",
       "      <td>\\n4\\n</td>\n",
       "      <td>\\n1,255 kg\\n</td>\n",
       "      <td>\\nfront\\n</td>\n",
       "      <td>\\n,Gasoline,\\n</td>\n",
       "      <td>['5.6 l/100 km (comb)'],['7.1 l/100 km (city)'...</td>\n",
       "      <td>\\n129 g CO2/km (comb)\\n</td>\n",
       "      <td>\\nEuro 6\\n</td>\n",
       "      <td>Air conditioning,Automatic climate control,Hil...</td>\n",
       "      <td>Bluetooth,Hands-free equipment,On-board comput...</td>\n",
       "      <td>Alloy wheels,Sport seats,Sport suspension,Voic...</td>\n",
       "      <td>ABS,Central door lock,Central door lock with r...</td>\n",
       "      <td>\\nLangstreckenfahrzeug daher die hohe Kilomete...</td>\n",
       "      <td>\\n4 (Green)\\n</td>\n",
       "      <td>\\n7\\n</td>\n",
       "      <td>NaN</td>\n",
       "      <td>NaN</td>\n",
       "      <td>NaN</td>\n",
       "      <td>NaN</td>\n",
       "      <td>NaN</td>\n",
       "      <td>NaN</td>\n",
       "      <td>NaN</td>\n",
       "    </tr>\n",
       "    <tr>\n",
       "      <th>2</th>\n",
       "      <td>https://www.autoscout24.com//offers/audi-a1-sp...</td>\n",
       "      <td>Sportback 1.6 TDI S tronic Einparkhilfe plus+m...</td>\n",
       "      <td>Sedans</td>\n",
       "      <td>14640.0</td>\n",
       "      <td>VAT deductible</td>\n",
       "      <td>83450.0</td>\n",
       "      <td>2016.0</td>\n",
       "      <td>1.0</td>\n",
       "      <td>85.0</td>\n",
       "      <td>,Used,,Diesel (Particulate Filter)</td>\n",
       "      <td>\\n1\\n</td>\n",
       "      <td>NaN</td>\n",
       "      <td>NaN</td>\n",
       "      <td>\\n,\\n,\\n99 g CO2/km (comb)\\n</td>\n",
       "      <td>NaN</td>\n",
       "      <td>NaN</td>\n",
       "      <td></td>\n",
       "      <td>Audi</td>\n",
       "      <td>A1</td>\n",
       "      <td>\\nAM-95365\\n</td>\n",
       "      <td>\\n,Black,\\n</td>\n",
       "      <td>\\nMetallic\\n</td>\n",
       "      <td>\\nmythosschwarz metallic\\n</td>\n",
       "      <td>\\nCloth, Black\\n</td>\n",
       "      <td>\\n,Sedans,\\n</td>\n",
       "      <td>\\n4\\n</td>\n",
       "      <td>\\n4\\n</td>\n",
       "      <td>NaN</td>\n",
       "      <td>\\n,Automatic,\\n</td>\n",
       "      <td>\\n1,598 cc\\n</td>\n",
       "      <td>NaN</td>\n",
       "      <td>NaN</td>\n",
       "      <td>\\nfront\\n</td>\n",
       "      <td>\\n,Diesel (Particulate Filter),\\n</td>\n",
       "      <td>['3.8 l/100 km (comb)'],['4.4 l/100 km (city)'...</td>\n",
       "      <td>\\n99 g CO2/km (comb)\\n</td>\n",
       "      <td>\\nEuro 6\\n</td>\n",
       "      <td>Air conditioning,Cruise control,Electrical sid...</td>\n",
       "      <td>MP3,On-board computer</td>\n",
       "      <td>Alloy wheels,Voice Control</td>\n",
       "      <td>ABS,Central door lock,Daytime running lights,D...</td>\n",
       "      <td>\\n,Fahrzeug-Nummer: AM-95365, ,Ehem. UPE 24.64...</td>\n",
       "      <td>\\n4 (Green)\\n</td>\n",
       "      <td>NaN</td>\n",
       "      <td>NaN</td>\n",
       "      <td>NaN</td>\n",
       "      <td>NaN</td>\n",
       "      <td>NaN</td>\n",
       "      <td>NaN</td>\n",
       "      <td>NaN</td>\n",
       "      <td>NaN</td>\n",
       "    </tr>\n",
       "    <tr>\n",
       "      <th>3</th>\n",
       "      <td>https://www.autoscout24.com//offers/audi-a1-1-...</td>\n",
       "      <td>1.4 TDi Design S tronic</td>\n",
       "      <td>Sedans</td>\n",
       "      <td>14500.0</td>\n",
       "      <td>None</td>\n",
       "      <td>73000.0</td>\n",
       "      <td>2016.0</td>\n",
       "      <td>1.0</td>\n",
       "      <td>66.0</td>\n",
       "      <td>,Used,,Diesel (Particulate Filter)</td>\n",
       "      <td>\\n1\\n</td>\n",
       "      <td>NaN</td>\n",
       "      <td>NaN</td>\n",
       "      <td>NaN</td>\n",
       "      <td>\\n,\\n,\\n99 g CO2/km (comb)\\n</td>\n",
       "      <td>\\n,\\n,\\nEuro 6\\n</td>\n",
       "      <td></td>\n",
       "      <td>Audi</td>\n",
       "      <td>A1</td>\n",
       "      <td>NaN</td>\n",
       "      <td>\\n,Brown,\\n</td>\n",
       "      <td>\\nMetallic\\n</td>\n",
       "      <td>NaN</td>\n",
       "      <td>NaN</td>\n",
       "      <td>\\n,Sedans,\\n</td>\n",
       "      <td>\\n3\\n</td>\n",
       "      <td>\\n4\\n</td>\n",
       "      <td>NaN</td>\n",
       "      <td>\\n,Automatic,\\n</td>\n",
       "      <td>\\n1,422 cc\\n</td>\n",
       "      <td>\\n3\\n</td>\n",
       "      <td>\\n1,195 kg\\n</td>\n",
       "      <td>NaN</td>\n",
       "      <td>\\n,Diesel (Particulate Filter),\\n</td>\n",
       "      <td>['3.8 l/100 km (comb)'],['4.3 l/100 km (city)'...</td>\n",
       "      <td>\\n99 g CO2/km (comb)\\n</td>\n",
       "      <td>\\nEuro 6\\n</td>\n",
       "      <td>Air suspension,Armrest,Auxiliary heating,Elect...</td>\n",
       "      <td>Bluetooth,CD player,Hands-free equipment,MP3,O...</td>\n",
       "      <td>Alloy wheels,Sport seats,Voice Control</td>\n",
       "      <td>ABS,Alarm system,Central door lock with remote...</td>\n",
       "      <td>\\nAudi A1: ,- 1e eigenaar ,- Perfecte staat: s...</td>\n",
       "      <td>NaN</td>\n",
       "      <td>\\n6\\n</td>\n",
       "      <td>NaN</td>\n",
       "      <td>NaN</td>\n",
       "      <td>NaN</td>\n",
       "      <td>NaN</td>\n",
       "      <td>NaN</td>\n",
       "      <td>NaN</td>\n",
       "      <td>NaN</td>\n",
       "    </tr>\n",
       "    <tr>\n",
       "      <th>4</th>\n",
       "      <td>https://www.autoscout24.com//offers/audi-a1-sp...</td>\n",
       "      <td>Sportback 1.4 TDI S-Tronic S-Line Ext. admired...</td>\n",
       "      <td>Sedans</td>\n",
       "      <td>16790.0</td>\n",
       "      <td>None</td>\n",
       "      <td>16200.0</td>\n",
       "      <td>2016.0</td>\n",
       "      <td>1.0</td>\n",
       "      <td>66.0</td>\n",
       "      <td>,Used,,Diesel (Particulate Filter)</td>\n",
       "      <td>\\n1\\n</td>\n",
       "      <td>NaN</td>\n",
       "      <td>\\nYes\\n,\\n109 g CO2/km (comb)\\n</td>\n",
       "      <td>\\n,\\n,\\nEuro 6\\n</td>\n",
       "      <td>\\n,\\n,\\n4 (Green)\\n</td>\n",
       "      <td>\\n,\\n</td>\n",
       "      <td></td>\n",
       "      <td>Audi</td>\n",
       "      <td>A1</td>\n",
       "      <td>\\nC1626\\n</td>\n",
       "      <td>\\n,Black,\\n</td>\n",
       "      <td>\\nMetallic\\n</td>\n",
       "      <td>\\nMythosschwarz Metallic\\n</td>\n",
       "      <td>\\nCloth, Black\\n</td>\n",
       "      <td>\\n,Sedans,\\n</td>\n",
       "      <td>\\n5\\n</td>\n",
       "      <td>\\n5\\n</td>\n",
       "      <td>\\n0588/BDF\\n</td>\n",
       "      <td>\\n,Automatic,\\n</td>\n",
       "      <td>\\n1,422 cc\\n</td>\n",
       "      <td>\\n3\\n</td>\n",
       "      <td>NaN</td>\n",
       "      <td>\\nfront\\n</td>\n",
       "      <td>\\n,Diesel (Particulate Filter),\\n</td>\n",
       "      <td>['4.1 l/100 km (comb)'],['4.6 l/100 km (city)'...</td>\n",
       "      <td>\\n109 g CO2/km (comb)\\n</td>\n",
       "      <td>\\nEuro 6\\n</td>\n",
       "      <td>Air conditioning,Armrest,Automatic climate con...</td>\n",
       "      <td>Bluetooth,CD player,Hands-free equipment,MP3,O...</td>\n",
       "      <td>Alloy wheels,Sport package,Sport suspension,Vo...</td>\n",
       "      <td>ABS,Central door lock,Driver-side airbag,Elect...</td>\n",
       "      <td>\\n,Technik &amp; Sicherheit:,Xenon plus,Klimaautom...</td>\n",
       "      <td>NaN</td>\n",
       "      <td>NaN</td>\n",
       "      <td>\\nGermany\\n</td>\n",
       "      <td>NaN</td>\n",
       "      <td>NaN</td>\n",
       "      <td>NaN</td>\n",
       "      <td>NaN</td>\n",
       "      <td>NaN</td>\n",
       "      <td>NaN</td>\n",
       "    </tr>\n",
       "  </tbody>\n",
       "</table>\n",
       "</div>"
      ],
      "text/plain": [
       "                                                 url  \\\n",
       "0  https://www.autoscout24.com//offers/audi-a1-sp...   \n",
       "1  https://www.autoscout24.com//offers/audi-a1-1-...   \n",
       "2  https://www.autoscout24.com//offers/audi-a1-sp...   \n",
       "3  https://www.autoscout24.com//offers/audi-a1-1-...   \n",
       "4  https://www.autoscout24.com//offers/audi-a1-sp...   \n",
       "\n",
       "                                   short_description body_type  price_€  \\\n",
       "0        Sportback 1.4 TDI S-tronic Xenon Navi Klima    Sedans  15770.0   \n",
       "1                                     1.8 TFSI sport    Sedans  14500.0   \n",
       "2  Sportback 1.6 TDI S tronic Einparkhilfe plus+m...    Sedans  14640.0   \n",
       "3                            1.4 TDi Design S tronic    Sedans  14500.0   \n",
       "4  Sportback 1.4 TDI S-Tronic S-Line Ext. admired...    Sedans  16790.0   \n",
       "\n",
       "                vat       km  registration  prev_owner  hp_kW  \\\n",
       "0    VAT deductible  56013.0        2016.0         2.0   66.0   \n",
       "1  Price negotiable  80000.0        2017.0         NaN  141.0   \n",
       "2    VAT deductible  83450.0        2016.0         1.0   85.0   \n",
       "3              None  73000.0        2016.0         1.0   66.0   \n",
       "4              None  16200.0        2016.0         1.0   66.0   \n",
       "\n",
       "                                 type previous_owners  \\\n",
       "0  ,Used,,Diesel (Particulate Filter)           \\n2\\n   \n",
       "1                     ,Used,,Gasoline             NaN   \n",
       "2  ,Used,,Diesel (Particulate Filter)           \\n1\\n   \n",
       "3  ,Used,,Diesel (Particulate Filter)           \\n1\\n   \n",
       "4  ,Used,,Diesel (Particulate Filter)           \\n1\\n   \n",
       "\n",
       "                      next_inspection                   inspection_new  \\\n",
       "0  \\n06/2021\\n,\\n99 g CO2/km (comb)\\n               \\nYes\\n,\\nEuro 6\\n   \n",
       "1                                 NaN                              NaN   \n",
       "2                                 NaN                              NaN   \n",
       "3                                 NaN                              NaN   \n",
       "4                                 NaN  \\nYes\\n,\\n109 g CO2/km (comb)\\n   \n",
       "\n",
       "                       warranty                  full_service  \\\n",
       "0           \\n,\\n,\\n4 (Green)\\n                         \\n,\\n   \n",
       "1                           NaN                           NaN   \n",
       "2  \\n,\\n,\\n99 g CO2/km (comb)\\n                           NaN   \n",
       "3                           NaN  \\n,\\n,\\n99 g CO2/km (comb)\\n   \n",
       "4              \\n,\\n,\\nEuro 6\\n           \\n,\\n,\\n4 (Green)\\n   \n",
       "\n",
       "  non_smoking_vehicle null  make model   offer_number   body_color  \\\n",
       "0               \\n,\\n       Audi    A1  \\nLR-062483\\n  \\n,Black,\\n   \n",
       "1                 NaN       Audi    A1            NaN    \\n,Red,\\n   \n",
       "2                 NaN       Audi    A1   \\nAM-95365\\n  \\n,Black,\\n   \n",
       "3    \\n,\\n,\\nEuro 6\\n       Audi    A1            NaN  \\n,Brown,\\n   \n",
       "4               \\n,\\n       Audi    A1      \\nC1626\\n  \\n,Black,\\n   \n",
       "\n",
       "     paint_type         body_color_original        upholstery          body  \\\n",
       "0  \\nMetallic\\n           \\nMythosschwarz\\n  \\nCloth, Black\\n  \\n,Sedans,\\n   \n",
       "1           NaN                         NaN   \\nCloth, Grey\\n  \\n,Sedans,\\n   \n",
       "2  \\nMetallic\\n  \\nmythosschwarz metallic\\n  \\nCloth, Black\\n  \\n,Sedans,\\n   \n",
       "3  \\nMetallic\\n                         NaN               NaN  \\n,Sedans,\\n   \n",
       "4  \\nMetallic\\n  \\nMythosschwarz Metallic\\n  \\nCloth, Black\\n  \\n,Sedans,\\n   \n",
       "\n",
       "  nr_of_doors nr_of_seats    model_code     gearing_type  displacement  \\\n",
       "0       \\n5\\n       \\n5\\n  \\n0588/BDF\\n  \\n,Automatic,\\n  \\n1,422 cc\\n   \n",
       "1       \\n3\\n       \\n4\\n  \\n0588/BCY\\n  \\n,Automatic,\\n  \\n1,798 cc\\n   \n",
       "2       \\n4\\n       \\n4\\n           NaN  \\n,Automatic,\\n  \\n1,598 cc\\n   \n",
       "3       \\n3\\n       \\n4\\n           NaN  \\n,Automatic,\\n  \\n1,422 cc\\n   \n",
       "4       \\n5\\n       \\n5\\n  \\n0588/BDF\\n  \\n,Automatic,\\n  \\n1,422 cc\\n   \n",
       "\n",
       "  cylinders        weight drive_chain                               fuel  \\\n",
       "0     \\n3\\n  \\n1,220 kg\\n   \\nfront\\n  \\n,Diesel (Particulate Filter),\\n   \n",
       "1     \\n4\\n  \\n1,255 kg\\n   \\nfront\\n                     \\n,Gasoline,\\n   \n",
       "2       NaN           NaN   \\nfront\\n  \\n,Diesel (Particulate Filter),\\n   \n",
       "3     \\n3\\n  \\n1,195 kg\\n         NaN  \\n,Diesel (Particulate Filter),\\n   \n",
       "4     \\n3\\n           NaN   \\nfront\\n  \\n,Diesel (Particulate Filter),\\n   \n",
       "\n",
       "                                         consumption             co2_emission  \\\n",
       "0  ['3.8 l/100 km (comb)'],['4.3 l/100 km (city)'...   \\n99 g CO2/km (comb)\\n   \n",
       "1  ['5.6 l/100 km (comb)'],['7.1 l/100 km (city)'...  \\n129 g CO2/km (comb)\\n   \n",
       "2  ['3.8 l/100 km (comb)'],['4.4 l/100 km (city)'...   \\n99 g CO2/km (comb)\\n   \n",
       "3  ['3.8 l/100 km (comb)'],['4.3 l/100 km (city)'...   \\n99 g CO2/km (comb)\\n   \n",
       "4  ['4.1 l/100 km (comb)'],['4.6 l/100 km (city)'...  \\n109 g CO2/km (comb)\\n   \n",
       "\n",
       "  emission_class                                comfort&convenience  \\\n",
       "0     \\nEuro 6\\n  Air conditioning,Armrest,Automatic climate con...   \n",
       "1     \\nEuro 6\\n  Air conditioning,Automatic climate control,Hil...   \n",
       "2     \\nEuro 6\\n  Air conditioning,Cruise control,Electrical sid...   \n",
       "3     \\nEuro 6\\n  Air suspension,Armrest,Auxiliary heating,Elect...   \n",
       "4     \\nEuro 6\\n  Air conditioning,Armrest,Automatic climate con...   \n",
       "\n",
       "                                 entertainment&media  \\\n",
       "0  Bluetooth,Hands-free equipment,On-board comput...   \n",
       "1  Bluetooth,Hands-free equipment,On-board comput...   \n",
       "2                              MP3,On-board computer   \n",
       "3  Bluetooth,CD player,Hands-free equipment,MP3,O...   \n",
       "4  Bluetooth,CD player,Hands-free equipment,MP3,O...   \n",
       "\n",
       "                                              extras  \\\n",
       "0     Alloy wheels,Catalytic Converter,Voice Control   \n",
       "1  Alloy wheels,Sport seats,Sport suspension,Voic...   \n",
       "2                         Alloy wheels,Voice Control   \n",
       "3             Alloy wheels,Sport seats,Voice Control   \n",
       "4  Alloy wheels,Sport package,Sport suspension,Vo...   \n",
       "\n",
       "                                   safety_&_security  \\\n",
       "0  ABS,Central door lock,Daytime running lights,D...   \n",
       "1  ABS,Central door lock,Central door lock with r...   \n",
       "2  ABS,Central door lock,Daytime running lights,D...   \n",
       "3  ABS,Alarm system,Central door lock with remote...   \n",
       "4  ABS,Central door lock,Driver-side airbag,Elect...   \n",
       "\n",
       "                                         description emission_label  gears  \\\n",
       "0  \\n,Sicherheit:, ,Deaktivierung für Beifahrer-A...            NaN    NaN   \n",
       "1  \\nLangstreckenfahrzeug daher die hohe Kilomete...  \\n4 (Green)\\n  \\n7\\n   \n",
       "2  \\n,Fahrzeug-Nummer: AM-95365, ,Ehem. UPE 24.64...  \\n4 (Green)\\n    NaN   \n",
       "3  \\nAudi A1: ,- 1e eigenaar ,- Perfecte staat: s...            NaN  \\n6\\n   \n",
       "4  \\n,Technik & Sicherheit:,Xenon plus,Klimaautom...            NaN    NaN   \n",
       "\n",
       "  country_version electricity_consumption last_service_date other_fuel_types  \\\n",
       "0             NaN                     NaN               NaN              NaN   \n",
       "1             NaN                     NaN               NaN              NaN   \n",
       "2             NaN                     NaN               NaN              NaN   \n",
       "3             NaN                     NaN               NaN              NaN   \n",
       "4     \\nGermany\\n                     NaN               NaN              NaN   \n",
       "\n",
       "  availability last_timing_belt_service_date available_from  \n",
       "0          NaN                           NaN            NaN  \n",
       "1          NaN                           NaN            NaN  \n",
       "2          NaN                           NaN            NaN  \n",
       "3          NaN                           NaN            NaN  \n",
       "4          NaN                           NaN            NaN  "
      ]
     },
     "execution_count": 59,
     "metadata": {},
     "output_type": "execute_result"
    }
   ],
   "source": [
    "# Changing some columns value type from list to str\n",
    "df = df.applymap(lambda x: \",\".join(map(str,x)) if type(x) == list else x)\n",
    "df.head()"
   ]
  },
  {
   "cell_type": "code",
   "execution_count": 60,
   "metadata": {},
   "outputs": [],
   "source": [
    "df[\"type\"] = df.type.str.extract(r\",(\\w+|\\w+\\W\\w+|\\w+\\W\\w\\s\\w+),\")"
   ]
  },
  {
   "cell_type": "code",
   "execution_count": 61,
   "metadata": {},
   "outputs": [
    {
     "data": {
      "text/plain": [
       "3337     Employee's car\n",
       "9890      Demonstration\n",
       "802                Used\n",
       "525                Used\n",
       "9891      Demonstration\n",
       "12783     Demonstration\n",
       "10968              Used\n",
       "13940              Used\n",
       "1466               Used\n",
       "4482     Employee's car\n",
       "1006               Used\n",
       "5669     Pre-registered\n",
       "3949               Used\n",
       "12084    Employee's car\n",
       "13436              Used\n",
       "3868     Employee's car\n",
       "14326              Used\n",
       "9996     Pre-registered\n",
       "9538     Pre-registered\n",
       "12200              Used\n",
       "7025               Used\n",
       "11552    Employee's car\n",
       "1814               Used\n",
       "15775    Pre-registered\n",
       "3523               Used\n",
       "14304              Used\n",
       "9616               Used\n",
       "3070               Used\n",
       "9827     Employee's car\n",
       "15087              Used\n",
       "10857              Used\n",
       "15889     Demonstration\n",
       "6800               Used\n",
       "7866               Used\n",
       "14458              Used\n",
       "10107              Used\n",
       "5801               Used\n",
       "7456               Used\n",
       "6172               Used\n",
       "13188    Employee's car\n",
       "4915               Used\n",
       "7058               Used\n",
       "15617              Used\n",
       "9917                New\n",
       "10058     Demonstration\n",
       "9820               Used\n",
       "5340               Used\n",
       "10698              Used\n",
       "15442              Used\n",
       "13685              Used\n",
       "Name: type, dtype: object"
      ]
     },
     "execution_count": 61,
     "metadata": {},
     "output_type": "execute_result"
    }
   ],
   "source": [
    "df.type.sample(50)"
   ]
  },
  {
   "cell_type": "code",
   "execution_count": 62,
   "metadata": {},
   "outputs": [
    {
     "data": {
      "text/plain": [
       "Used              11096\n",
       "New                1650\n",
       "Pre-registered     1364\n",
       "Employee's car     1011\n",
       "Demonstration       796\n",
       "NaN                   2\n",
       "Name: type, dtype: int64"
      ]
     },
     "execution_count": 62,
     "metadata": {},
     "output_type": "execute_result"
    }
   ],
   "source": [
    "df.type.value_counts(dropna=False)"
   ]
  },
  {
   "cell_type": "code",
   "execution_count": 63,
   "metadata": {},
   "outputs": [
    {
     "data": {
      "text/plain": [
       "array(['Used', \"Employee's car\", 'New', 'Demonstration', 'Pre-registered',\n",
       "       nan], dtype=object)"
      ]
     },
     "execution_count": 63,
     "metadata": {},
     "output_type": "execute_result"
    }
   ],
   "source": [
    "df.type.unique()"
   ]
  },
  {
   "cell_type": "markdown",
   "metadata": {},
   "source": [
    "## 13.previous_owners"
   ]
  },
  {
   "cell_type": "code",
   "execution_count": 64,
   "metadata": {},
   "outputs": [
    {
     "name": "stdout",
     "output_type": "stream",
     "text": [
      "column name :  previous_owners\n",
      "--------------------------------\n",
      "Per_of_Nulls   :  % 41.71\n",
      "Num_of_Nulls   :  6640\n",
      "\\n1\\n                                                                               8103\n",
      "NaN                                                                                 6640\n",
      "\\n2\\n                                                                                766\n",
      "\\n0\\n                                                                                163\n",
      "\\n3\\n                                                                                 17\n",
      "                                                                                    ... \n",
      "\\n1\\n,\\n111 g CO2/km (comb)\\n                                                          1\n",
      "\\n1\\n,\\nEuro 6\\n                                                                       1\n",
      "\\n2\\n,\\n119 g CO2/km (comb)\\n                                                          1\n",
      "\\n1\\n,\\n,6.6 l/100 km (comb),\\n,8.1 l/100 km (city),\\n,5.7 l/100 km (country),\\n       1\n",
      "\\n1\\n,\\n142 g CO2/km (comb)\\n                                                          1\n",
      "Name: previous_owners, Length: 102, dtype: int64\n",
      "******************************\n",
      "\n",
      "\n",
      "\n"
     ]
    }
   ],
   "source": [
    "check_df(\"previous_owners\")"
   ]
  },
  {
   "cell_type": "code",
   "execution_count": 65,
   "metadata": {},
   "outputs": [
    {
     "data": {
      "text/html": [
       "<div>\n",
       "<style scoped>\n",
       "    .dataframe tbody tr th:only-of-type {\n",
       "        vertical-align: middle;\n",
       "    }\n",
       "\n",
       "    .dataframe tbody tr th {\n",
       "        vertical-align: top;\n",
       "    }\n",
       "\n",
       "    .dataframe thead th {\n",
       "        text-align: right;\n",
       "    }\n",
       "</style>\n",
       "<table border=\"1\" class=\"dataframe\">\n",
       "  <thead>\n",
       "    <tr style=\"text-align: right;\">\n",
       "      <th></th>\n",
       "      <th>prev_owner</th>\n",
       "      <th>previous_owners</th>\n",
       "    </tr>\n",
       "  </thead>\n",
       "  <tbody>\n",
       "    <tr>\n",
       "      <th>0</th>\n",
       "      <td>2.0</td>\n",
       "      <td>\\n2\\n</td>\n",
       "    </tr>\n",
       "    <tr>\n",
       "      <th>1</th>\n",
       "      <td>NaN</td>\n",
       "      <td>NaN</td>\n",
       "    </tr>\n",
       "    <tr>\n",
       "      <th>2</th>\n",
       "      <td>1.0</td>\n",
       "      <td>\\n1\\n</td>\n",
       "    </tr>\n",
       "    <tr>\n",
       "      <th>3</th>\n",
       "      <td>1.0</td>\n",
       "      <td>\\n1\\n</td>\n",
       "    </tr>\n",
       "    <tr>\n",
       "      <th>4</th>\n",
       "      <td>1.0</td>\n",
       "      <td>\\n1\\n</td>\n",
       "    </tr>\n",
       "    <tr>\n",
       "      <th>...</th>\n",
       "      <td>...</td>\n",
       "      <td>...</td>\n",
       "    </tr>\n",
       "    <tr>\n",
       "      <th>15914</th>\n",
       "      <td>NaN</td>\n",
       "      <td>NaN</td>\n",
       "    </tr>\n",
       "    <tr>\n",
       "      <th>15915</th>\n",
       "      <td>1.0</td>\n",
       "      <td>\\n1\\n,\\n,7.4 l/100 km (comb),\\n,9.2 l/100 km (...</td>\n",
       "    </tr>\n",
       "    <tr>\n",
       "      <th>15916</th>\n",
       "      <td>1.0</td>\n",
       "      <td>\\n1\\n,\\n139 g CO2/km (comb)\\n</td>\n",
       "    </tr>\n",
       "    <tr>\n",
       "      <th>15917</th>\n",
       "      <td>NaN</td>\n",
       "      <td>NaN</td>\n",
       "    </tr>\n",
       "    <tr>\n",
       "      <th>15918</th>\n",
       "      <td>1.0</td>\n",
       "      <td>\\n1\\n</td>\n",
       "    </tr>\n",
       "  </tbody>\n",
       "</table>\n",
       "<p>15919 rows × 2 columns</p>\n",
       "</div>"
      ],
      "text/plain": [
       "       prev_owner                                    previous_owners\n",
       "0             2.0                                              \\n2\\n\n",
       "1             NaN                                                NaN\n",
       "2             1.0                                              \\n1\\n\n",
       "3             1.0                                              \\n1\\n\n",
       "4             1.0                                              \\n1\\n\n",
       "...           ...                                                ...\n",
       "15914         NaN                                                NaN\n",
       "15915         1.0  \\n1\\n,\\n,7.4 l/100 km (comb),\\n,9.2 l/100 km (...\n",
       "15916         1.0                      \\n1\\n,\\n139 g CO2/km (comb)\\n\n",
       "15917         NaN                                                NaN\n",
       "15918         1.0                                              \\n1\\n\n",
       "\n",
       "[15919 rows x 2 columns]"
      ]
     },
     "execution_count": 65,
     "metadata": {},
     "output_type": "execute_result"
    }
   ],
   "source": [
    "df[[\"prev_owner\", \"previous_owners\"]]"
   ]
  },
  {
   "cell_type": "code",
   "execution_count": 66,
   "metadata": {},
   "outputs": [
    {
     "name": "stdout",
     "output_type": "stream",
     "text": [
      "column name :  prev_owner\n",
      "--------------------------------\n",
      "Per_of_Nulls   :  % 42.89\n",
      "Num_of_Nulls   :  6828\n",
      "1.0    8294\n",
      "NaN    6828\n",
      "2.0     778\n",
      "3.0      17\n",
      "4.0       2\n",
      "Name: prev_owner, dtype: int64\n",
      "******************************\n",
      "\n",
      "\n",
      "\n"
     ]
    }
   ],
   "source": [
    "check_df(\"prev_owner\")"
   ]
  },
  {
   "cell_type": "code",
   "execution_count": 67,
   "metadata": {},
   "outputs": [],
   "source": [
    "df.previous_owners = df.previous_owners.str.split(\",\",expand=True)[0].str.extract(r\"(\\d+)\")"
   ]
  },
  {
   "cell_type": "code",
   "execution_count": 69,
   "metadata": {},
   "outputs": [
    {
     "data": {
      "text/plain": [
       "1      8294\n",
       "NaN    6640\n",
       "2       778\n",
       "0       188\n",
       "3        17\n",
       "4         2\n",
       "Name: previous_owners, dtype: int64"
      ]
     },
     "execution_count": 69,
     "metadata": {},
     "output_type": "execute_result"
    }
   ],
   "source": [
    "df.previous_owners.value_counts(dropna=False)"
   ]
  },
  {
   "cell_type": "code",
   "execution_count": 70,
   "metadata": {},
   "outputs": [],
   "source": [
    "df.previous_owners = df.previous_owners.astype(float)"
   ]
  },
  {
   "cell_type": "code",
   "execution_count": 71,
   "metadata": {},
   "outputs": [],
   "source": [
    "# we will control prev_owner and previous_owners, we will try to fill with each other and drop one of them. "
   ]
  },
  {
   "cell_type": "markdown",
   "metadata": {},
   "source": [
    "## 14.next_inspection"
   ]
  },
  {
   "cell_type": "code",
   "execution_count": 72,
   "metadata": {},
   "outputs": [
    {
     "name": "stdout",
     "output_type": "stream",
     "text": [
      "column name :  next_inspection\n",
      "--------------------------------\n",
      "Per_of_Nulls   :  % 77.79\n",
      "Num_of_Nulls   :  12384\n",
      "NaN                                    12384\n",
      "\\n04/2022\\n                               62\n",
      "\\n06/2021\\n                               47\n",
      "\\n03/2021\\n                               39\n",
      "\\n03/2022\\n                               36\n",
      "                                       ...  \n",
      "\\n06/2021\\n,\\n121 g CO2/km (comb)\\n        1\n",
      "\\n02/2020\\n,\\n139 g CO2/km (comb)\\n        1\n",
      "\\n10/2021\\n,\\n136 g CO2/km (comb)\\n        1\n",
      "\\n06/2019\\n,\\n139 g CO2/km (comb)\\n        1\n",
      "\\n01/2022\\n,\\n168 g CO2/km (comb)\\n        1\n",
      "Name: next_inspection, Length: 1385, dtype: int64\n",
      "******************************\n",
      "\n",
      "\n",
      "\n"
     ]
    }
   ],
   "source": [
    "check_df(\"next_inspection\")"
   ]
  },
  {
   "cell_type": "code",
   "execution_count": 73,
   "metadata": {},
   "outputs": [],
   "source": [
    "# There are many null values and also it is not relevant to analysis bcs of that we can drop this column without cleaning"
   ]
  },
  {
   "cell_type": "code",
   "execution_count": 74,
   "metadata": {},
   "outputs": [],
   "source": [
    "df.drop(columns=\"next_inspection\", inplace=True)"
   ]
  },
  {
   "cell_type": "markdown",
   "metadata": {},
   "source": [
    "## 15. inspection_new"
   ]
  },
  {
   "cell_type": "code",
   "execution_count": 75,
   "metadata": {},
   "outputs": [
    {
     "name": "stdout",
     "output_type": "stream",
     "text": [
      "column name :  inspection_new\n",
      "--------------------------------\n",
      "Per_of_Nulls   :  % 75.3\n",
      "Num_of_Nulls   :  11987\n",
      "NaN                                                                                   11987\n",
      "\\nYes\\n,\\nEuro 6\\n                                                                      523\n",
      "\\nYes\\n                                                                                 442\n",
      "\\nYes\\n,\\n102 g CO2/km (comb)\\n                                                         174\n",
      "\\nYes\\n,\\n4 (Green)\\n                                                                   166\n",
      "                                                                                      ...  \n",
      "\\nYes\\n,\\n,5.2 l/100 km (comb),\\n,6.7 l/100 km (city),\\n,4.2 l/100 km (country),\\n        1\n",
      "\\nYes\\n,\\n100 g CO2/km (comb)\\n                                                           1\n",
      "\\nYes\\n,\\n,4.9 l/100 km (comb),\\n,5.9 l/100 km (city),\\n,4.3 l/100 km (country),\\n        1\n",
      "\\nYes\\n,\\n,5.1 l/100 km (comb),\\n,6.4 l/100 km (city),\\n,4.3 l/100 km (country),\\n        1\n",
      "\\nYes\\n,\\n172 g CO2/km (comb)\\n                                                           1\n",
      "Name: inspection_new, Length: 202, dtype: int64\n",
      "******************************\n",
      "\n",
      "\n",
      "\n"
     ]
    }
   ],
   "source": [
    "check_df(\"inspection_new\")"
   ]
  },
  {
   "cell_type": "code",
   "execution_count": 76,
   "metadata": {},
   "outputs": [],
   "source": [
    "# There are many null values and also it is not relevant to analysis bcs of that we can drop this column without cleaning"
   ]
  },
  {
   "cell_type": "code",
   "execution_count": 77,
   "metadata": {},
   "outputs": [],
   "source": [
    "df.drop(columns=\"inspection_new\", inplace=True)"
   ]
  },
  {
   "cell_type": "markdown",
   "metadata": {},
   "source": [
    "## 16.warranty"
   ]
  },
  {
   "cell_type": "code",
   "execution_count": 78,
   "metadata": {},
   "outputs": [
    {
     "name": "stdout",
     "output_type": "stream",
     "text": [
      "column name :  warranty\n",
      "--------------------------------\n",
      "Per_of_Nulls   :  % 34.05\n",
      "Num_of_Nulls   :  5420\n",
      "NaN                                                                                       5420\n",
      "\\n,\\n,\\nEuro 6\\n                                                                          1868\n",
      "\\n12 months\\n                                                                             1305\n",
      "\\n                                                                                         979\n",
      "\\n24 months\\n                                                                              585\n",
      "                                                                                          ... \n",
      "\\n2 months\\n                                                                                 1\n",
      "\\n72 months\\n,\\n125 g CO2/km (comb)\\n                                                        1\n",
      "\\n60 months\\n,\\n14 g CO2/km (comb)\\n                                                         1\n",
      "\\n24 months\\n,\\n121 g CO2/km (comb)\\n                                                        1\n",
      "\\n36 months\\n,\\n,7.4 l/100 km (comb),\\n,9.6 l/100 km (city),\\n,6 l/100 km (country),\\n       1\n",
      "Name: warranty, Length: 508, dtype: int64\n",
      "******************************\n",
      "\n",
      "\n",
      "\n"
     ]
    }
   ],
   "source": [
    "check_df(\"warranty\")"
   ]
  },
  {
   "cell_type": "code",
   "execution_count": 79,
   "metadata": {},
   "outputs": [],
   "source": [
    "df.warranty = df.warranty.str.extract(r\"(\\d+) months\")"
   ]
  },
  {
   "cell_type": "code",
   "execution_count": 80,
   "metadata": {},
   "outputs": [],
   "source": [
    "df.warranty = df.warranty.astype(float)"
   ]
  },
  {
   "cell_type": "code",
   "execution_count": 81,
   "metadata": {},
   "outputs": [
    {
     "data": {
      "text/plain": [
       "7612     72.0\n",
       "7959     72.0\n",
       "7898     72.0\n",
       "7897     72.0\n",
       "12614    72.0\n",
       "         ... \n",
       "15913     NaN\n",
       "15915     NaN\n",
       "15916     NaN\n",
       "15917     NaN\n",
       "15918     NaN\n",
       "Name: warranty, Length: 15919, dtype: float64"
      ]
     },
     "execution_count": 81,
     "metadata": {},
     "output_type": "execute_result"
    }
   ],
   "source": [
    "df.warranty.sort_values(ascending=False)"
   ]
  },
  {
   "cell_type": "code",
   "execution_count": 82,
   "metadata": {
    "scrolled": true
   },
   "outputs": [
    {
     "data": {
      "text/plain": [
       "12.0    2594\n",
       "24.0    1118\n",
       "60.0     401\n",
       "36.0     279\n",
       "48.0     149\n",
       "6.0      125\n",
       "72.0      59\n",
       "3.0       33\n",
       "23.0      11\n",
       "18.0      10\n",
       "20.0       7\n",
       "25.0       6\n",
       "2.0        5\n",
       "50.0       4\n",
       "26.0       4\n",
       "16.0       4\n",
       "4.0        3\n",
       "1.0        3\n",
       "19.0       3\n",
       "34.0       3\n",
       "13.0       3\n",
       "28.0       2\n",
       "22.0       2\n",
       "14.0       2\n",
       "11.0       2\n",
       "46.0       2\n",
       "21.0       2\n",
       "9.0        2\n",
       "17.0       2\n",
       "45.0       2\n",
       "33.0       1\n",
       "40.0       1\n",
       "65.0       1\n",
       "10.0       1\n",
       "15.0       1\n",
       "7.0        1\n",
       "8.0        1\n",
       "56.0       1\n",
       "49.0       1\n",
       "47.0       1\n",
       "30.0       1\n",
       "Name: warranty, dtype: int64"
      ]
     },
     "execution_count": 82,
     "metadata": {},
     "output_type": "execute_result"
    }
   ],
   "source": [
    "df.warranty.value_counts()"
   ]
  },
  {
   "cell_type": "markdown",
   "metadata": {},
   "source": [
    "## 17.full_service"
   ]
  },
  {
   "cell_type": "code",
   "execution_count": 83,
   "metadata": {},
   "outputs": [
    {
     "name": "stdout",
     "output_type": "stream",
     "text": [
      "column name :  full_service\n",
      "--------------------------------\n",
      "Per_of_Nulls   :  % 48.39\n",
      "Num_of_Nulls   :  7704\n",
      "NaN                                                                                 7704\n",
      "\\n,\\n,\\n4 (Green)\\n                                                                 2235\n",
      "\\n,\\n,\\nEuro 6\\n                                                                    2097\n",
      "\\n,\\n                                                                               1702\n",
      "\\n,\\n,\\nEuro 6d-TEMP\\n                                                               399\n",
      "                                                                                    ... \n",
      "\\n,\\n,\\n80 g CO2/km (comb)\\n                                                           1\n",
      "\\n,\\n,\\n84 g CO2/km (comb)\\n                                                           1\n",
      "\\n,\\n,\\n,6 l/100 km (comb),\\n,8 l/100 km (city),\\n,4.9 l/100 km (country),\\n           1\n",
      "\\n,\\n,\\n,4.9 l/100 km (comb),\\n,6.2 l/100 km (city),\\n,4.1 l/100 km (country),\\n       1\n",
      "\\n,\\n,\\nEuro 4\\n                                                                       1\n",
      "Name: full_service, Length: 123, dtype: int64\n",
      "******************************\n",
      "\n",
      "\n",
      "\n"
     ]
    }
   ],
   "source": [
    "check_df(\"full_service\")"
   ]
  },
  {
   "cell_type": "code",
   "execution_count": 84,
   "metadata": {},
   "outputs": [],
   "source": [
    "df.drop(columns=\"full_service\", inplace=True)"
   ]
  },
  {
   "cell_type": "markdown",
   "metadata": {},
   "source": [
    "## 18.non_smoking_vehicle"
   ]
  },
  {
   "cell_type": "code",
   "execution_count": 85,
   "metadata": {},
   "outputs": [
    {
     "name": "stdout",
     "output_type": "stream",
     "text": [
      "column name :  non_smoking_vehicle\n",
      "--------------------------------\n",
      "Per_of_Nulls   :  % 54.92\n",
      "Num_of_Nulls   :  8742\n",
      "NaN                                                                                 8742\n",
      "\\n,\\n                                                                               3647\n",
      "\\n,\\n,\\n4 (Green)\\n                                                                 1240\n",
      "\\n,\\n,\\nEuro 6\\n                                                                    1127\n",
      "\\n,\\n,\\nEuro 6d-TEMP\\n                                                               345\n",
      "                                                                                    ... \n",
      "\\n,\\n,\\n,5.6 l/100 km (comb),\\n,7.3 l/100 km (city),\\n,4.7 l/100 km (country),\\n       1\n",
      "\\n,\\n,\\n122 g CO2/km (comb)\\n                                                          1\n",
      "\\n,\\n,\\n158 g CO2/km (comb)\\n                                                          1\n",
      "\\n,\\n,\\n150 g CO2/km (comb)\\n                                                          1\n",
      "\\n,\\n,\\n175 g CO2/km (comb)\\n                                                          1\n",
      "Name: non_smoking_vehicle, Length: 95, dtype: int64\n",
      "******************************\n",
      "\n",
      "\n",
      "\n"
     ]
    }
   ],
   "source": [
    "check_df(\"non_smoking_vehicle\")"
   ]
  },
  {
   "cell_type": "code",
   "execution_count": 86,
   "metadata": {},
   "outputs": [],
   "source": [
    "df.drop(columns=\"non_smoking_vehicle\", inplace=True)"
   ]
  },
  {
   "cell_type": "markdown",
   "metadata": {},
   "source": [
    "## 19. null"
   ]
  },
  {
   "cell_type": "code",
   "execution_count": 87,
   "metadata": {},
   "outputs": [
    {
     "name": "stdout",
     "output_type": "stream",
     "text": [
      "column name :  null\n",
      "--------------------------------\n",
      "Per_of_Nulls   :  % 0.0\n",
      "Num_of_Nulls   :  0\n",
      "    15919\n",
      "Name: null, dtype: int64\n",
      "******************************\n",
      "\n",
      "\n",
      "\n"
     ]
    }
   ],
   "source": [
    "check_df(\"null\")"
   ]
  },
  {
   "cell_type": "code",
   "execution_count": 88,
   "metadata": {},
   "outputs": [],
   "source": [
    "df.drop(columns=\"null\", inplace=True)"
   ]
  },
  {
   "cell_type": "markdown",
   "metadata": {},
   "source": [
    "## 20. offer_number"
   ]
  },
  {
   "cell_type": "code",
   "execution_count": 89,
   "metadata": {},
   "outputs": [
    {
     "name": "stdout",
     "output_type": "stream",
     "text": [
      "column name :  offer_number\n",
      "--------------------------------\n",
      "Per_of_Nulls   :  % 19.94\n",
      "Num_of_Nulls   :  3175\n",
      "NaN                                             3175\n",
      "\\nLT67679\\n                                       27\n",
      "\\nUN89904\\n                                       27\n",
      "\\nXJ38068\\n                                       27\n",
      "\\nJV03654\\n                                       27\n",
      "                                                ... \n",
      "\\n160_dcbb6c3e-a6da-43a3-8754-ccd994cec93b\\n       1\n",
      "\\n6701576\\n                                        1\n",
      "\\n6701569\\n                                        1\n",
      "\\n158121\\n                                         1\n",
      "\\nRe_30000008029\\n                                 1\n",
      "Name: offer_number, Length: 11441, dtype: int64\n",
      "******************************\n",
      "\n",
      "\n",
      "\n"
     ]
    }
   ],
   "source": [
    "check_df(\"offer_number\")"
   ]
  },
  {
   "cell_type": "code",
   "execution_count": 90,
   "metadata": {},
   "outputs": [],
   "source": [
    "df.drop(columns=\"offer_number\", inplace=True)"
   ]
  },
  {
   "cell_type": "markdown",
   "metadata": {},
   "source": [
    "## 21. body_color"
   ]
  },
  {
   "cell_type": "code",
   "execution_count": 91,
   "metadata": {
    "scrolled": false
   },
   "outputs": [
    {
     "name": "stdout",
     "output_type": "stream",
     "text": [
      "column name :  body_color\n",
      "--------------------------------\n",
      "Per_of_Nulls   :  % 3.75\n",
      "Num_of_Nulls   :  597\n",
      "\\n,Black,\\n     3745\n",
      "\\n,Grey,\\n      3505\n",
      "\\n,White,\\n     3406\n",
      "\\n,Silver,\\n    1647\n",
      "\\n,Blue,\\n      1431\n",
      "\\n,Red,\\n        957\n",
      "NaN              597\n",
      "\\n,Brown,\\n      289\n",
      "\\n,Green,\\n      154\n",
      "\\n,Beige,\\n      108\n",
      "\\n,Yellow,\\n      51\n",
      "\\n,Violet,\\n      18\n",
      "\\n,Bronze,\\n       6\n",
      "\\n,Orange,\\n       3\n",
      "\\n,Gold,\\n         2\n",
      "Name: body_color, dtype: int64\n",
      "******************************\n",
      "\n",
      "\n",
      "\n"
     ]
    }
   ],
   "source": [
    "check_df(\"body_color\")"
   ]
  },
  {
   "cell_type": "code",
   "execution_count": 92,
   "metadata": {},
   "outputs": [],
   "source": [
    "df.body_color = df.body_color.str.split(\",\", expand=True)[1]"
   ]
  },
  {
   "cell_type": "code",
   "execution_count": 93,
   "metadata": {},
   "outputs": [
    {
     "data": {
      "text/plain": [
       "Black     3745\n",
       "Grey      3505\n",
       "White     3406\n",
       "Silver    1647\n",
       "Blue      1431\n",
       "Red        957\n",
       "NaN        597\n",
       "Brown      289\n",
       "Green      154\n",
       "Beige      108\n",
       "Yellow      51\n",
       "Violet      18\n",
       "Bronze       6\n",
       "Orange       3\n",
       "Gold         2\n",
       "Name: body_color, dtype: int64"
      ]
     },
     "execution_count": 93,
     "metadata": {},
     "output_type": "execute_result"
    }
   ],
   "source": [
    "df.body_color.value_counts(dropna=False).head(15)"
   ]
  },
  {
   "cell_type": "markdown",
   "metadata": {},
   "source": [
    "## 22. paint_type"
   ]
  },
  {
   "cell_type": "code",
   "execution_count": 95,
   "metadata": {},
   "outputs": [
    {
     "name": "stdout",
     "output_type": "stream",
     "text": [
      "column name :  paint_type\n",
      "--------------------------------\n",
      "Per_of_Nulls   :  % 36.26\n",
      "Num_of_Nulls   :  5772\n",
      "\\nMetallic\\n       9794\n",
      "NaN                5772\n",
      "\\nUni/basic\\n       347\n",
      "\\nPerl effect\\n       6\n",
      "Name: paint_type, dtype: int64\n",
      "******************************\n",
      "\n",
      "\n",
      "\n"
     ]
    }
   ],
   "source": [
    "check_df(\"paint_type\")"
   ]
  },
  {
   "cell_type": "code",
   "execution_count": 96,
   "metadata": {},
   "outputs": [
    {
     "data": {
      "text/plain": [
       "0      \\nMetallic\\n\n",
       "1               NaN\n",
       "2      \\nMetallic\\n\n",
       "3      \\nMetallic\\n\n",
       "4      \\nMetallic\\n\n",
       "5      \\nMetallic\\n\n",
       "6      \\nMetallic\\n\n",
       "7      \\nMetallic\\n\n",
       "8      \\nMetallic\\n\n",
       "9               NaN\n",
       "10     \\nMetallic\\n\n",
       "11    \\nUni/basic\\n\n",
       "12     \\nMetallic\\n\n",
       "13              NaN\n",
       "14     \\nMetallic\\n\n",
       "15     \\nMetallic\\n\n",
       "16              NaN\n",
       "17              NaN\n",
       "18              NaN\n",
       "19     \\nMetallic\\n\n",
       "20              NaN\n",
       "21     \\nMetallic\\n\n",
       "22     \\nMetallic\\n\n",
       "23     \\nMetallic\\n\n",
       "24              NaN\n",
       "Name: paint_type, dtype: object"
      ]
     },
     "execution_count": 96,
     "metadata": {},
     "output_type": "execute_result"
    }
   ],
   "source": [
    "df.paint_type.head(25)"
   ]
  },
  {
   "cell_type": "code",
   "execution_count": 97,
   "metadata": {},
   "outputs": [
    {
     "data": {
      "text/plain": [
       "Metallic       9794\n",
       "NaN            5772\n",
       "Uni/basic       347\n",
       "Perl effect       6\n",
       "dtype: int64"
      ]
     },
     "execution_count": 97,
     "metadata": {},
     "output_type": "execute_result"
    }
   ],
   "source": [
    "df.paint_type.str.extract(r\"(\\w+\\W\\w+|\\w+)\").value_counts(dropna=False)"
   ]
  },
  {
   "cell_type": "code",
   "execution_count": 98,
   "metadata": {},
   "outputs": [],
   "source": [
    "df.paint_type = df.paint_type.str.extract(r\"(\\w+\\W\\w+|\\w+)\")"
   ]
  },
  {
   "cell_type": "code",
   "execution_count": 99,
   "metadata": {},
   "outputs": [
    {
     "data": {
      "text/plain": [
       "Metallic       9794\n",
       "Uni/basic       347\n",
       "Perl effect       6\n",
       "Name: paint_type, dtype: int64"
      ]
     },
     "execution_count": 99,
     "metadata": {},
     "output_type": "execute_result"
    }
   ],
   "source": [
    "df.paint_type.value_counts()"
   ]
  },
  {
   "cell_type": "markdown",
   "metadata": {},
   "source": [
    "## 23.body_color_original"
   ]
  },
  {
   "cell_type": "code",
   "execution_count": 100,
   "metadata": {},
   "outputs": [
    {
     "name": "stdout",
     "output_type": "stream",
     "text": [
      "column name :  body_color_original\n",
      "--------------------------------\n",
      "Per_of_Nulls   :  % 23.61\n",
      "Num_of_Nulls   :  3759\n",
      "NaN                                  3759\n",
      "\\nOnyx Schwarz\\n                      338\n",
      "\\nBianco\\n                            282\n",
      "\\nMythosschwarz Metallic\\n            238\n",
      "\\nBrillantschwarz\\n                   216\n",
      "                                     ... \n",
      "\\nRouge-Braun (G0Y)\\n                   1\n",
      "\\nVARI COLRI DISPONIBILI\\n              1\n",
      "\\nKokosnussbraun Metallic\\n             1\n",
      "\\nFarbe frei wählbar\\n                  1\n",
      "\\nPerlmutt-Weiß Metallic (Weiß)\\n       1\n",
      "Name: body_color_original, Length: 1928, dtype: int64\n",
      "******************************\n",
      "\n",
      "\n",
      "\n"
     ]
    }
   ],
   "source": [
    "check_df(\"body_color_original\")"
   ]
  },
  {
   "cell_type": "code",
   "execution_count": 101,
   "metadata": {},
   "outputs": [],
   "source": [
    "df.body_color_original = df.body_color_original.str.split(\"\\n\", expand=True)[1]"
   ]
  },
  {
   "cell_type": "markdown",
   "metadata": {},
   "source": [
    "## 24. upholstery"
   ]
  },
  {
   "cell_type": "code",
   "execution_count": 102,
   "metadata": {},
   "outputs": [
    {
     "name": "stdout",
     "output_type": "stream",
     "text": [
      "column name :  upholstery\n",
      "--------------------------------\n",
      "Per_of_Nulls   :  % 23.37\n",
      "Num_of_Nulls   :  3720\n",
      "\\nCloth, Black\\n           5821\n",
      "NaN                        3720\n",
      "\\nPart leather, Black\\n    1121\n",
      "\\nCloth\\n                  1005\n",
      "\\nCloth, Grey\\n             891\n",
      "\\nCloth, Other\\n            639\n",
      "\\nFull leather, Black\\n     575\n",
      "\\nBlack\\n                   491\n",
      "\\nGrey\\n                    273\n",
      "\\nOther, Other\\n            182\n",
      "\\nPart leather\\n            140\n",
      "\\nFull leather\\n            139\n",
      "\\nFull leather, Brown\\n     116\n",
      "\\nPart leather, Grey\\n      116\n",
      "\\nOther, Black\\n            110\n",
      "\\nFull leather, Other\\n      72\n",
      "\\nFull leather, Grey\\n       67\n",
      "\\nPart leather, Other\\n      65\n",
      "\\nOther\\n                    56\n",
      "\\nPart leather, Brown\\n      50\n",
      "\\nalcantara, Black\\n         47\n",
      "\\nVelour, Black\\n            36\n",
      "\\nFull leather, Beige\\n      36\n",
      "\\nCloth, Brown\\n             28\n",
      "\\nVelour\\n                   16\n",
      "\\nOther, Grey\\n              15\n",
      "\\nCloth, Beige\\n             13\n",
      "\\nBrown\\n                    12\n",
      "\\nCloth, Blue\\n              12\n",
      "\\nVelour, Grey\\n              8\n",
      "\\nCloth, White\\n              8\n",
      "\\nalcantara, Grey\\n           6\n",
      "\\nCloth, Red\\n                5\n",
      "\\nOther, Yellow\\n             4\n",
      "\\nPart leather, Red\\n         3\n",
      "\\nBeige\\n                     3\n",
      "\\nPart leather, White\\n       2\n",
      "\\nFull leather, Blue\\n        2\n",
      "\\nalcantara, Other\\n          2\n",
      "\\nalcantara\\n                 2\n",
      "\\nWhite\\n                     2\n",
      "\\nPart leather, Beige\\n       2\n",
      "\\nBlue\\n                      2\n",
      "\\nCloth, Orange\\n             1\n",
      "\\nFull leather, Red\\n         1\n",
      "\\nOther, Brown\\n              1\n",
      "\\nFull leather, White\\n       1\n",
      "Name: upholstery, dtype: int64\n",
      "******************************\n",
      "\n",
      "\n",
      "\n"
     ]
    }
   ],
   "source": [
    "check_df(\"upholstery\")"
   ]
  },
  {
   "cell_type": "code",
   "execution_count": 103,
   "metadata": {
    "code_folding": []
   },
   "outputs": [
    {
     "data": {
      "text/plain": [
       "Cloth           8423\n",
       "Part leather    1499\n",
       "Full leather    1009\n",
       "Black            491\n",
       "Other            368\n",
       "Grey             273\n",
       "Velour            60\n",
       "alcantara         57\n",
       "Brown             12\n",
       "Beige              3\n",
       "Blue               2\n",
       "White              2\n",
       "Name: 0, dtype: int64"
      ]
     },
     "execution_count": 103,
     "metadata": {},
     "output_type": "execute_result"
    }
   ],
   "source": [
    "# df.upholstery.str.split(\"\\n\", expand=True)[1].str.extract(r\"(\\w+\\s?\\w+)\").value_counts()\n",
    "\n",
    "df.upholstery.str.split(\"\\n\", expand=True)[1].str.split(\",\", expand=True)[0].value_counts()"
   ]
  },
  {
   "cell_type": "code",
   "execution_count": 104,
   "metadata": {},
   "outputs": [],
   "source": [
    "df.upholstery = df.upholstery.str.split(\"\\n\", expand=True)[1].str.split(\",\", expand=True)[0]"
   ]
  },
  {
   "cell_type": "code",
   "execution_count": 105,
   "metadata": {},
   "outputs": [],
   "source": [
    "# we assumed that if there is only color info in column, it's cloth's color\n",
    "Cloths = ['Cloth','Black', 'Grey', 'Blue', 'White', 'Beige', 'Brown']"
   ]
  },
  {
   "cell_type": "code",
   "execution_count": 106,
   "metadata": {
    "scrolled": true
   },
   "outputs": [],
   "source": [
    "def upholsterytype(x):\n",
    "    if x in Cloths:\n",
    "        return \"Cloth\"\n",
    "    elif x == \"Full leather\":\n",
    "        return \"Full leather\"\n",
    "    elif x == \"Part leather\":\n",
    "        return \"Part leather\"\n",
    "    elif x == \"alcantara\":\n",
    "        return \"alcantara\"\n",
    "    elif x== \"Velour\":\n",
    "        return \"Velour\"\n",
    "    elif x== \"Other\":\n",
    "        return \"Other\"\n"
   ]
  },
  {
   "cell_type": "code",
   "execution_count": 107,
   "metadata": {},
   "outputs": [],
   "source": [
    "df[\"upholstery\"] = df[\"upholstery\"].apply(upholsterytype)"
   ]
  },
  {
   "cell_type": "code",
   "execution_count": 108,
   "metadata": {},
   "outputs": [
    {
     "data": {
      "text/plain": [
       "Cloth           9206\n",
       "Part leather    1499\n",
       "Full leather    1009\n",
       "Other            368\n",
       "Velour            60\n",
       "alcantara         57\n",
       "Name: upholstery, dtype: int64"
      ]
     },
     "execution_count": 108,
     "metadata": {},
     "output_type": "execute_result"
    }
   ],
   "source": [
    "df.upholstery.value_counts()"
   ]
  },
  {
   "cell_type": "markdown",
   "metadata": {},
   "source": [
    "## 25.body       "
   ]
  },
  {
   "cell_type": "code",
   "execution_count": 109,
   "metadata": {},
   "outputs": [
    {
     "name": "stdout",
     "output_type": "stream",
     "text": [
      "column name :  body\n",
      "--------------------------------\n",
      "Per_of_Nulls   :  % 0.38\n",
      "Num_of_Nulls   :  60\n",
      "\\n,Sedans,\\n           7903\n",
      "\\n,Station wagon,\\n    3553\n",
      "\\n,Compact,\\n          3153\n",
      "\\n,Van,\\n               783\n",
      "\\n,Other,\\n             290\n",
      "\\n,Transporter,\\n        88\n",
      "NaN                      60\n",
      "\\n,Off-Road,\\n           56\n",
      "\\n,Coupe,\\n              25\n",
      "\\n,Convertible,\\n         8\n",
      "Name: body, dtype: int64\n",
      "******************************\n",
      "\n",
      "\n",
      "\n"
     ]
    }
   ],
   "source": [
    "check_df(\"body\")"
   ]
  },
  {
   "cell_type": "code",
   "execution_count": 110,
   "metadata": {},
   "outputs": [
    {
     "data": {
      "text/plain": [
       "Sedans           7903\n",
       "Station wagon    3553\n",
       "Compact          3153\n",
       "Van               783\n",
       "Other             290\n",
       "Transporter        88\n",
       "NaN                60\n",
       "Off-Road           56\n",
       "Coupe              25\n",
       "Convertible         8\n",
       "Name: body, dtype: int64"
      ]
     },
     "execution_count": 110,
     "metadata": {},
     "output_type": "execute_result"
    }
   ],
   "source": [
    "df.body.str.strip(\"\\n,\").value_counts(dropna=False)"
   ]
  },
  {
   "cell_type": "code",
   "execution_count": 111,
   "metadata": {},
   "outputs": [
    {
     "name": "stdout",
     "output_type": "stream",
     "text": [
      "column name :  body_type\n",
      "--------------------------------\n",
      "Per_of_Nulls   :  % 0.38\n",
      "Num_of_Nulls   :  60\n",
      "Sedans           7903\n",
      "Station wagon    3553\n",
      "Compact          3153\n",
      "Van               783\n",
      "Other             290\n",
      "Transporter        88\n",
      "None               60\n",
      "Off-Road           56\n",
      "Coupe              25\n",
      "Convertible         8\n",
      "Name: body_type, dtype: int64\n",
      "******************************\n",
      "\n",
      "\n",
      "\n"
     ]
    }
   ],
   "source": [
    "check_df(\"body_type\")"
   ]
  },
  {
   "cell_type": "code",
   "execution_count": 112,
   "metadata": {},
   "outputs": [],
   "source": [
    "# as we can see body and body_type columns are the same, so we will drop body column\n",
    "df.drop(columns=\"body\", inplace=True)"
   ]
  },
  {
   "cell_type": "markdown",
   "metadata": {},
   "source": [
    "## 26.nr_of_doors"
   ]
  },
  {
   "cell_type": "code",
   "execution_count": 113,
   "metadata": {},
   "outputs": [
    {
     "name": "stdout",
     "output_type": "stream",
     "text": [
      "column name :  nr_of_doors\n",
      "--------------------------------\n",
      "Per_of_Nulls   :  % 1.33\n",
      "Num_of_Nulls   :  212\n",
      "\\n5\\n    11575\n",
      "\\n4\\n     3079\n",
      "\\n3\\n      832\n",
      "\\n2\\n      219\n",
      "NaN        212\n",
      "\\n1\\n        1\n",
      "\\n7\\n        1\n",
      "Name: nr_of_doors, dtype: int64\n",
      "******************************\n",
      "\n",
      "\n",
      "\n"
     ]
    }
   ],
   "source": [
    "check_df(\"nr_of_doors\")"
   ]
  },
  {
   "cell_type": "code",
   "execution_count": 114,
   "metadata": {},
   "outputs": [
    {
     "data": {
      "text/plain": [
       "5    11575\n",
       "4     3079\n",
       "3      832\n",
       "2      219\n",
       "1        1\n",
       "7        1\n",
       "Name: nr_of_doors, dtype: int64"
      ]
     },
     "execution_count": 114,
     "metadata": {},
     "output_type": "execute_result"
    }
   ],
   "source": [
    "df.nr_of_doors.str.strip(\"\\n\").value_counts()"
   ]
  },
  {
   "cell_type": "code",
   "execution_count": 115,
   "metadata": {},
   "outputs": [],
   "source": [
    "df.nr_of_doors = df.nr_of_doors.str.strip(\"\\n\")"
   ]
  },
  {
   "cell_type": "code",
   "execution_count": 116,
   "metadata": {},
   "outputs": [],
   "source": [
    "df.nr_of_doors = df.nr_of_doors.astype(float)"
   ]
  },
  {
   "cell_type": "markdown",
   "metadata": {},
   "source": [
    "## 27.nr_of_seats"
   ]
  },
  {
   "cell_type": "code",
   "execution_count": 117,
   "metadata": {},
   "outputs": [
    {
     "name": "stdout",
     "output_type": "stream",
     "text": [
      "column name :  nr_of_seats\n",
      "--------------------------------\n",
      "Per_of_Nulls   :  % 6.14\n",
      "Num_of_Nulls   :  977\n",
      "\\n5\\n    13336\n",
      "\\n4\\n     1125\n",
      "NaN        977\n",
      "\\n7\\n      362\n",
      "\\n2\\n      116\n",
      "\\n6\\n        2\n",
      "\\n3\\n        1\n",
      "Name: nr_of_seats, dtype: int64\n",
      "******************************\n",
      "\n",
      "\n",
      "\n"
     ]
    }
   ],
   "source": [
    "check_df(\"nr_of_seats\")"
   ]
  },
  {
   "cell_type": "code",
   "execution_count": 118,
   "metadata": {},
   "outputs": [
    {
     "data": {
      "text/plain": [
       "5    13336\n",
       "4     1125\n",
       "7      362\n",
       "2      116\n",
       "6        2\n",
       "3        1\n",
       "Name: nr_of_seats, dtype: int64"
      ]
     },
     "execution_count": 118,
     "metadata": {},
     "output_type": "execute_result"
    }
   ],
   "source": [
    "df.nr_of_seats.str.strip(\"\\n\").value_counts()"
   ]
  },
  {
   "cell_type": "code",
   "execution_count": 119,
   "metadata": {},
   "outputs": [],
   "source": [
    "df.nr_of_seats = df.nr_of_seats.str.strip(\"\\n\")"
   ]
  },
  {
   "cell_type": "code",
   "execution_count": 120,
   "metadata": {},
   "outputs": [],
   "source": [
    "df.nr_of_seats = df.nr_of_seats.astype(float)"
   ]
  },
  {
   "cell_type": "markdown",
   "metadata": {},
   "source": [
    "## 28.model_code"
   ]
  },
  {
   "cell_type": "code",
   "execution_count": 121,
   "metadata": {},
   "outputs": [
    {
     "name": "stdout",
     "output_type": "stream",
     "text": [
      "column name :  model_code\n",
      "--------------------------------\n",
      "Per_of_Nulls   :  % 68.73\n",
      "Num_of_Nulls   :  10941\n",
      "NaN             10941\n",
      "\\n0035/BCB\\n      268\n",
      "\\n0588/BNO\\n      245\n",
      "\\n0588/BDB\\n      206\n",
      "\\n0588/BHX\\n      188\n",
      "                ...  \n",
      "\\n0035/AVN\\n        1\n",
      "\\n0035/BEM\\n        1\n",
      "\\n0035/BAG\\n        1\n",
      "\\n0035/BAA\\n        1\n",
      "\\n3333/BKG\\n        1\n",
      "Name: model_code, Length: 233, dtype: int64\n",
      "******************************\n",
      "\n",
      "\n",
      "\n"
     ]
    }
   ],
   "source": [
    "check_df(\"model_code\")"
   ]
  },
  {
   "cell_type": "code",
   "execution_count": 122,
   "metadata": {},
   "outputs": [],
   "source": [
    "# There is relevant to analysis and also there are lots of null values bcs of that we will drop this column.\n",
    "df.drop(columns=\"model_code\", inplace=True)"
   ]
  },
  {
   "cell_type": "markdown",
   "metadata": {},
   "source": [
    "## 29. gearing_type                   "
   ]
  },
  {
   "cell_type": "code",
   "execution_count": 123,
   "metadata": {},
   "outputs": [
    {
     "name": "stdout",
     "output_type": "stream",
     "text": [
      "column name :  gearing_type\n",
      "--------------------------------\n",
      "Per_of_Nulls   :  % 0.0\n",
      "Num_of_Nulls   :  0\n",
      "\\n,Manual,\\n            8153\n",
      "\\n,Automatic,\\n         7297\n",
      "\\n,Semi-automatic,\\n     469\n",
      "Name: gearing_type, dtype: int64\n",
      "******************************\n",
      "\n",
      "\n",
      "\n"
     ]
    }
   ],
   "source": [
    "check_df(\"gearing_type\")"
   ]
  },
  {
   "cell_type": "code",
   "execution_count": 124,
   "metadata": {},
   "outputs": [],
   "source": [
    "df.gearing_type = df.gearing_type.str.strip(\"\\n,\")"
   ]
  },
  {
   "cell_type": "markdown",
   "metadata": {},
   "source": [
    "## 30. displacement"
   ]
  },
  {
   "cell_type": "code",
   "execution_count": 125,
   "metadata": {},
   "outputs": [
    {
     "name": "stdout",
     "output_type": "stream",
     "text": [
      "column name :  displacement\n",
      "--------------------------------\n",
      "Per_of_Nulls   :  % 3.12\n",
      "Num_of_Nulls   :  496\n",
      "\\n1,598 cc\\n    4761\n",
      "\\n999 cc\\n      2438\n",
      "\\n1,398 cc\\n    1314\n",
      "\\n1,399 cc\\n     749\n",
      "\\n1,229 cc\\n     677\n",
      "                ... \n",
      "\\n122 cc\\n         1\n",
      "\\n1,198 cc\\n       1\n",
      "\\n1,195 cc\\n       1\n",
      "\\n2,967 cc\\n       1\n",
      "\\n1,800 cc\\n       1\n",
      "Name: displacement, Length: 78, dtype: int64\n",
      "******************************\n",
      "\n",
      "\n",
      "\n"
     ]
    }
   ],
   "source": [
    "check_df(\"displacement\")"
   ]
  },
  {
   "cell_type": "code",
   "execution_count": 126,
   "metadata": {},
   "outputs": [
    {
     "data": {
      "text/plain": [
       "16000.0      1\n",
       "15898.0      1\n",
       "2967.0       1\n",
       "2480.0      20\n",
       "2000.0      46\n",
       "1998.0      25\n",
       "1997.0     103\n",
       "1995.0       1\n",
       "1984.0      18\n",
       "1968.0     301\n",
       "Name: displacement, dtype: int64"
      ]
     },
     "execution_count": 126,
     "metadata": {},
     "output_type": "execute_result"
    }
   ],
   "source": [
    "df.displacement.str.strip(\"\\n cc\").str.replace(\",\", \"\").astype(float).value_counts().sort_index(ascending=False).head(10)"
   ]
  },
  {
   "cell_type": "code",
   "execution_count": 127,
   "metadata": {},
   "outputs": [
    {
     "data": {
      "text/plain": [
       "899.0     11\n",
       "898.0    351\n",
       "890.0      1\n",
       "160.0      6\n",
       "140.0      1\n",
       "139.0      4\n",
       "122.0      1\n",
       "54.0       1\n",
       "2.0        2\n",
       "1.0       36\n",
       "Name: displacement, dtype: int64"
      ]
     },
     "execution_count": 127,
     "metadata": {},
     "output_type": "execute_result"
    }
   ],
   "source": [
    "df.displacement.str.strip(\"\\n cc\").str.replace(\",\", \"\").astype(float).value_counts().sort_index(ascending=False).tail(10)"
   ]
  },
  {
   "cell_type": "code",
   "execution_count": 128,
   "metadata": {},
   "outputs": [],
   "source": [
    "df.displacement = df.displacement.str.strip(\"\\n cc\").str.replace(\",\", \"\").astype(float)"
   ]
  },
  {
   "cell_type": "code",
   "execution_count": 129,
   "metadata": {},
   "outputs": [],
   "source": [
    "df.rename(columns={\"displacement\":\"engine_displacement_cc\"}, inplace=True)"
   ]
  },
  {
   "cell_type": "markdown",
   "metadata": {},
   "source": [
    "## 31. cylinders"
   ]
  },
  {
   "cell_type": "code",
   "execution_count": 130,
   "metadata": {},
   "outputs": [
    {
     "name": "stdout",
     "output_type": "stream",
     "text": [
      "column name :  cylinders\n",
      "--------------------------------\n",
      "Per_of_Nulls   :  % 35.68\n",
      "Num_of_Nulls   :  5680\n",
      "\\n4\\n    8105\n",
      "NaN      5680\n",
      "\\n3\\n    2104\n",
      "\\n5\\n      22\n",
      "\\n6\\n       3\n",
      "\\n8\\n       2\n",
      "\\n2\\n       2\n",
      "\\n1\\n       1\n",
      "Name: cylinders, dtype: int64\n",
      "******************************\n",
      "\n",
      "\n",
      "\n"
     ]
    }
   ],
   "source": [
    "check_df(\"cylinders\")"
   ]
  },
  {
   "cell_type": "code",
   "execution_count": 131,
   "metadata": {},
   "outputs": [
    {
     "data": {
      "text/plain": [
       "4      8105\n",
       "NaN    5680\n",
       "3      2104\n",
       "5        22\n",
       "6         3\n",
       "8         2\n",
       "2         2\n",
       "1         1\n",
       "Name: cylinders, dtype: int64"
      ]
     },
     "execution_count": 131,
     "metadata": {},
     "output_type": "execute_result"
    }
   ],
   "source": [
    "df.cylinders.str.strip(\"\\n\").value_counts(dropna=False)"
   ]
  },
  {
   "cell_type": "code",
   "execution_count": 132,
   "metadata": {},
   "outputs": [],
   "source": [
    "df.cylinders = df.cylinders.str.strip(\"\\n\").astype(float)"
   ]
  },
  {
   "cell_type": "markdown",
   "metadata": {},
   "source": [
    "## 32.weight                         "
   ]
  },
  {
   "cell_type": "code",
   "execution_count": 133,
   "metadata": {},
   "outputs": [
    {
     "name": "stdout",
     "output_type": "stream",
     "text": [
      "column name :  weight\n",
      "--------------------------------\n",
      "Per_of_Nulls   :  % 43.81\n",
      "Num_of_Nulls   :  6974\n",
      "NaN             6974\n",
      "\\n1,163 kg\\n     574\n",
      "\\n1,360 kg\\n     356\n",
      "\\n1,165 kg\\n     301\n",
      "\\n1,335 kg\\n     242\n",
      "                ... \n",
      "\\n1,960 kg\\n       1\n",
      "\\n1,258 kg\\n       1\n",
      "\\n1,167 kg\\n       1\n",
      "\\n1,331 kg\\n       1\n",
      "\\n2,037 kg\\n       1\n",
      "Name: weight, Length: 435, dtype: int64\n",
      "******************************\n",
      "\n",
      "\n",
      "\n"
     ]
    }
   ],
   "source": [
    "check_df(\"weight\")"
   ]
  },
  {
   "cell_type": "code",
   "execution_count": 134,
   "metadata": {},
   "outputs": [],
   "source": [
    "df.weight = df.weight.str.strip(\"\\n kg\").str.replace(\",\", \"\")"
   ]
  },
  {
   "cell_type": "code",
   "execution_count": 135,
   "metadata": {},
   "outputs": [],
   "source": [
    "df.rename(columns={\"weight\":\"weight_kg\"}, inplace=True)"
   ]
  },
  {
   "cell_type": "code",
   "execution_count": 136,
   "metadata": {},
   "outputs": [],
   "source": [
    "df.weight_kg = df.weight_kg.astype(float)"
   ]
  },
  {
   "cell_type": "markdown",
   "metadata": {},
   "source": [
    "## 33.drive_chain"
   ]
  },
  {
   "cell_type": "code",
   "execution_count": 137,
   "metadata": {},
   "outputs": [
    {
     "name": "stdout",
     "output_type": "stream",
     "text": [
      "column name :  drive_chain\n",
      "--------------------------------\n",
      "Per_of_Nulls   :  % 43.08\n",
      "Num_of_Nulls   :  6858\n",
      "\\nfront\\n    8886\n",
      "NaN          6858\n",
      "\\n4WD\\n       171\n",
      "\\nrear\\n        4\n",
      "Name: drive_chain, dtype: int64\n",
      "******************************\n",
      "\n",
      "\n",
      "\n"
     ]
    }
   ],
   "source": [
    "check_df(\"drive_chain\")"
   ]
  },
  {
   "cell_type": "code",
   "execution_count": 138,
   "metadata": {},
   "outputs": [
    {
     "data": {
      "text/plain": [
       "front    8886\n",
       "NaN      6858\n",
       "4WD       171\n",
       "rear        4\n",
       "Name: drive_chain, dtype: int64"
      ]
     },
     "execution_count": 138,
     "metadata": {},
     "output_type": "execute_result"
    }
   ],
   "source": [
    "df.drive_chain.str.strip(\"\\n\").value_counts(dropna=False)"
   ]
  },
  {
   "cell_type": "code",
   "execution_count": 139,
   "metadata": {},
   "outputs": [],
   "source": [
    "df.drive_chain = df.drive_chain.str.strip(\"\\n\")"
   ]
  },
  {
   "cell_type": "markdown",
   "metadata": {},
   "source": [
    "## 34. fuel"
   ]
  },
  {
   "cell_type": "code",
   "execution_count": 140,
   "metadata": {},
   "outputs": [
    {
     "name": "stdout",
     "output_type": "stream",
     "text": [
      "column name :  fuel\n",
      "--------------------------------\n",
      "Per_of_Nulls   :  % 0.0\n",
      "Num_of_Nulls   :  0\n",
      "\\n,Diesel (Particulate Filter),\\n                                                                                  4315\n",
      "\\n,Super 95,\\n                                                                                                     3338\n",
      "\\n,Gasoline,\\n                                                                                                     3175\n",
      "\\n,Diesel,\\n                                                                                                       2984\n",
      "\\n,Super 95 / Regular/Benzine 91,\\n                                                                                 424\n",
      "                                                                                                                   ... \n",
      "\\n,Regular/Benzine 91 / Super 95 / Regular/Benzine E10 91,\\n                                                          1\n",
      "\\n,Super Plus 98 / Super E10 95,\\n                                                                                    1\n",
      "\\n,Regular/Benzine 91 / Super 95 / Regular/Benzine E10 91 / Super E10 95 / Super Plus 98 / Super Plus E10 98,\\n       1\n",
      "\\n,Regular/Benzine 91 / Super Plus 98 / Regular/Benzine E10 91 / Super 95 / Super E10 95 / Super Plus E10 98,\\n       1\n",
      "\\n,Super Plus 98 / Super 95 / Super Plus E10 98,\\n                                                                    1\n",
      "Name: fuel, Length: 77, dtype: int64\n",
      "******************************\n",
      "\n",
      "\n",
      "\n"
     ]
    }
   ],
   "source": [
    "check_df(\"fuel\")"
   ]
  },
  {
   "cell_type": "code",
   "execution_count": 141,
   "metadata": {},
   "outputs": [],
   "source": [
    "df.fuel = df.fuel.str.strip(\"\\n,\")"
   ]
  },
  {
   "cell_type": "code",
   "execution_count": 142,
   "metadata": {},
   "outputs": [
    {
     "data": {
      "text/plain": [
       "Diesel                  7299\n",
       "Super 95                4368\n",
       "Gasoline                3252\n",
       "Regular                  503\n",
       "Super E10 95             409\n",
       "CNG                       36\n",
       "LPG                       16\n",
       "Super Plus 98             11\n",
       "Liquid petroleum gas      10\n",
       "Others                     6\n",
       "Electric                   5\n",
       "Super Plus E10             2\n",
       "Biogas                     1\n",
       "Domestic gas H             1\n",
       "dtype: int64"
      ]
     },
     "execution_count": 142,
     "metadata": {},
     "output_type": "execute_result"
    }
   ],
   "source": [
    "# df.fuel.str.extract(r\"(\\w+\\s?\\w+\\s?\\w+\\s?\\w+|\\w+)\").value_counts(dropna=False)\n",
    "\n",
    "df.fuel.str.extract(r\"(\\w+\\s?\\w+\\s?\\w+)\").value_counts(dropna=False)"
   ]
  },
  {
   "cell_type": "code",
   "execution_count": 143,
   "metadata": {},
   "outputs": [],
   "source": [
    "benzine = [\"Gasoline\", \"Super 95\", \"Regular\", \"Super E10 95\", \"Super Plus 98\", \"Super Plus E10\", \"Others\"]\n",
    "lpg = [\"LPG\", \"Liquid petroleum gas\", \"CNG\", \"Biogas\", \"Domestic gas H\"]"
   ]
  },
  {
   "cell_type": "code",
   "execution_count": 144,
   "metadata": {},
   "outputs": [],
   "source": [
    "def fueltype(x):\n",
    "    if x in benzine:\n",
    "        return \"Benzine\"\n",
    "    elif x in lpg:\n",
    "        return \"LPG/CNG\"\n",
    "    else :\n",
    "        return x"
   ]
  },
  {
   "cell_type": "code",
   "execution_count": 145,
   "metadata": {
    "scrolled": true
   },
   "outputs": [],
   "source": [
    "df.fuel = df.fuel.apply(fueltype)"
   ]
  },
  {
   "cell_type": "markdown",
   "metadata": {},
   "source": [
    "## 35.consumption"
   ]
  },
  {
   "cell_type": "code",
   "execution_count": 146,
   "metadata": {},
   "outputs": [
    {
     "name": "stdout",
     "output_type": "stream",
     "text": [
      "column name :  consumption\n",
      "--------------------------------\n",
      "Per_of_Nulls   :  % 11.97\n",
      "Num_of_Nulls   :  1906\n",
      "NaN                                                                           1906\n",
      "['3.9 l/100 km (comb)'],['4.1 l/100 km (city)'],['3.7 l/100 km (country)']     304\n",
      "['4.2 l/100 km (comb)'],['5 l/100 km (city)'],['3.7 l/100 km (country)']       276\n",
      "['5.4 l/100 km (comb)'],['6.8 l/100 km (city)'],['4.5 l/100 km (country)']     257\n",
      "['3.8 l/100 km (comb)'],['4.3 l/100 km (city)'],['3.5 l/100 km (country)']     253\n",
      "                                                                              ... \n",
      "['4.2 l/100 km (comb)'],['5.3 l/100 km (city)'],['3.6 l/100 km (country)']       1\n",
      "\\n,5.1 l/100 km (comb),\\n,6.4 l/100 km (city),\\n,4.3 l/100 km (country),\\n       1\n",
      "['4.6 l/100 km (comb)'],['5.4 l/100 km (city)'],['6.7 l/100 km (country)']       1\n",
      "\\n,6.3 l/100 km (comb),\\n,\\n,\\n                                                  1\n",
      "\\n,7.4 l/100 km (comb),\\n,9.6 l/100 km (city),\\n,6 l/100 km (country),\\n         1\n",
      "Name: consumption, Length: 882, dtype: int64\n",
      "******************************\n",
      "\n",
      "\n",
      "\n"
     ]
    }
   ],
   "source": [
    "check_df(\"consumption\")"
   ]
  },
  {
   "cell_type": "code",
   "execution_count": 147,
   "metadata": {},
   "outputs": [],
   "source": [
    "pd.options.display.max_colwidth = 250"
   ]
  },
  {
   "cell_type": "code",
   "execution_count": 148,
   "metadata": {},
   "outputs": [],
   "source": [
    "df[\"consumption_comb\"] = df.consumption.str.extract(r\"(\\d+\\.\\d+) l/100 km \\(comb\\)\").astype(float)"
   ]
  },
  {
   "cell_type": "code",
   "execution_count": 149,
   "metadata": {},
   "outputs": [],
   "source": [
    "df[\"consumption_city\"] = df.consumption.str.extract(r\"(\\d+\\.\\d+) l/100 km \\(city\\)\").astype(float)"
   ]
  },
  {
   "cell_type": "code",
   "execution_count": 150,
   "metadata": {},
   "outputs": [],
   "source": [
    "df[\"consumption_country\"] = df.consumption.str.extract(r\"(\\d+\\.\\d+) l/100 km \\(country\\)\").astype(float)"
   ]
  },
  {
   "cell_type": "code",
   "execution_count": 151,
   "metadata": {},
   "outputs": [],
   "source": [
    "df.drop(columns=\"consumption\", inplace=True)"
   ]
  },
  {
   "cell_type": "markdown",
   "metadata": {},
   "source": [
    "## 36.co2_emission"
   ]
  },
  {
   "cell_type": "code",
   "execution_count": 152,
   "metadata": {},
   "outputs": [
    {
     "name": "stdout",
     "output_type": "stream",
     "text": [
      "column name :  co2_emission\n",
      "--------------------------------\n",
      "Per_of_Nulls   :  % 11.36\n",
      "Num_of_Nulls   :  1808\n",
      "NaN                          1808\n",
      "\\n120 g CO2/km (comb)\\n       740\n",
      "[],[],[]                      628\n",
      "\\n99 g CO2/km (comb)\\n        545\n",
      "\\n97 g CO2/km (comb)\\n        537\n",
      "                             ... \n",
      "\\n14 g CO2/km (comb)\\n          1\n",
      "\\n1,060 g CO2/km (comb)\\n       1\n",
      "\\n51 g CO2/km (comb)\\n          1\n",
      "\\n165 g CO2/km (comb)\\n         1\n",
      "\\n193 g CO2/km (comb)\\n         1\n",
      "Name: co2_emission, Length: 124, dtype: int64\n",
      "******************************\n",
      "\n",
      "\n",
      "\n"
     ]
    }
   ],
   "source": [
    "check_df(\"co2_emission\")"
   ]
  },
  {
   "cell_type": "code",
   "execution_count": 153,
   "metadata": {},
   "outputs": [],
   "source": [
    "# df.co2_emission.str.strip(\"[],\\n g CO2/km (comb)\").str.replace(\",\",\"\").value_counts(dropna=False).tail(60) # we sholud change \" \" values to NaN"
   ]
  },
  {
   "cell_type": "code",
   "execution_count": 154,
   "metadata": {},
   "outputs": [],
   "source": [
    "df.rename(columns={\"co2_emission\":\"co2e_g\"}, inplace=True)"
   ]
  },
  {
   "cell_type": "code",
   "execution_count": 155,
   "metadata": {},
   "outputs": [],
   "source": [
    "df.co2e_g = df.co2e_g.str.extract(r\"(\\d+\\W?\\d+) g\")\n",
    "df.co2e_g = df.co2e_g.str.replace(\",\", \"\").astype(float)"
   ]
  },
  {
   "cell_type": "markdown",
   "metadata": {},
   "source": [
    "## 37. emission_class"
   ]
  },
  {
   "cell_type": "code",
   "execution_count": 156,
   "metadata": {},
   "outputs": [
    {
     "name": "stdout",
     "output_type": "stream",
     "text": [
      "column name :  emission_class\n",
      "--------------------------------\n",
      "Per_of_Nulls   :  % 18.98\n",
      "Num_of_Nulls   :  3021\n",
      "\\nEuro 6\\n          10139\n",
      "NaN                  3021\n",
      "\\nEuro 6d-TEMP\\n     1845\n",
      "[],[],[]              607\n",
      "\\nEuro 6c\\n           127\n",
      "\\nEuro 5\\n             78\n",
      "\\nEuro 6d\\n            62\n",
      "\\nEuro 4\\n             40\n",
      "Name: emission_class, dtype: int64\n",
      "******************************\n",
      "\n",
      "\n",
      "\n"
     ]
    }
   ],
   "source": [
    "check_df(\"emission_class\")"
   ]
  },
  {
   "cell_type": "code",
   "execution_count": 157,
   "metadata": {},
   "outputs": [
    {
     "data": {
      "text/plain": [
       "Euro 6          10139\n",
       "NaN              3628\n",
       "Euro 6d-TEMP     1845\n",
       "Euro 6c           127\n",
       "Euro 5             78\n",
       "Euro 6d            62\n",
       "Euro 4             40\n",
       "Name: emission_class, dtype: int64"
      ]
     },
     "execution_count": 157,
     "metadata": {},
     "output_type": "execute_result"
    }
   ],
   "source": [
    "df.emission_class.str.strip(\"\\n[],\").replace(\"\", np.nan).value_counts(dropna=False)"
   ]
  },
  {
   "cell_type": "code",
   "execution_count": 158,
   "metadata": {},
   "outputs": [],
   "source": [
    "df.emission_class = df.emission_class.str.strip(\"\\n[],\").replace(\"\", np.nan)"
   ]
  },
  {
   "cell_type": "markdown",
   "metadata": {},
   "source": [
    "## 38. comfort&convenience"
   ]
  },
  {
   "cell_type": "code",
   "execution_count": 159,
   "metadata": {},
   "outputs": [
    {
     "name": "stdout",
     "output_type": "stream",
     "text": [
      "column name :  comfort&convenience\n",
      "--------------------------------\n",
      "Per_of_Nulls   :  % 5.78\n",
      "Num_of_Nulls   :  920\n",
      "NaN                                                                                                                                                                                                                                                                                                                                                                                                                                                                                                  920\n",
      "Air conditioning,Electrical side mirrors,Hill Holder,Power windows                                                                                                                                                                                                                                                                                                                                                                                                                                   216\n",
      "Air conditioning,Electrical side mirrors,Power windows                                                                                                                                                                                                                                                                                                                                                                                                                                               134\n",
      "Air conditioning,Power windows                                                                                                                                                                                                                                                                                                                                                                                                                                                                       130\n",
      "Air conditioning,Armrest,Automatic climate control,Cruise control,Electrical side mirrors,Leather steering wheel,Light sensor,Lumbar support,Multi-function steering wheel,Navigation system,Park Distance Control,Parking assist system sensors front,Parking assist system sensors rear,Power windows,Rain sensor,Seat heating,Start-stop system                                                                                                                                                   105\n",
      "                                                                                                                                                                                                                                                                                                                                                                                                                                                                                                    ... \n",
      "Air conditioning,Cruise control,Electrical side mirrors,Hill Holder,Leather steering wheel,Light sensor,Multi-function steering wheel,Navigation system,Park Distance Control,Parking assist system sensors rear,Power windows,Rain sensor,Split rear seats,Start-stop system,Tinted windows                                                                                                                                                                                                           1\n",
      "Air conditioning,Armrest,Automatic climate control,Cruise control,Electrical side mirrors,Heated steering wheel,Hill Holder,Leather steering wheel,Light sensor,Lumbar support,Multi-function steering wheel,Navigation system,Park Distance Control,Parking assist system camera,Parking assist system sensors front,Parking assist system sensors rear,Power windows,Rain sensor,Seat heating,Sunroof                                                                                                1\n",
      "Air conditioning,Armrest,Cruise control,Electrical side mirrors,Heated steering wheel,Hill Holder,Leather steering wheel,Light sensor,Multi-function steering wheel,Park Distance Control,Parking assist system camera,Parking assist system sensors front,Parking assist system sensors rear,Power windows,Rain sensor,Seat heating,Split rear seats,Start-stop system,Tinted windows                                                                                                                 1\n",
      "Air conditioning,Automatic climate control,Cruise control,Electrical side mirrors,Leather steering wheel,Light sensor,Multi-function steering wheel,Park Distance Control,Parking assist system sensors front,Parking assist system sensors rear,Power windows,Rain sensor,Seat heating                                                                                                                                                                                                                1\n",
      "Air conditioning,Automatic climate control,Cruise control,Electrically heated windshield,Electrical side mirrors,Electric tailgate,Heads-up display,Heated steering wheel,Hill Holder,Keyless central door lock,Leather steering wheel,Light sensor,Lumbar support,Navigation system,Park Distance Control,Parking assist system camera,Parking assist system self-steering,Parking assist system sensors front,Parking assist system sensors rear,Power windows,Rain sensor,Seat heating,Sunroof      1\n",
      "Name: comfort&convenience, Length: 6199, dtype: int64\n",
      "******************************\n",
      "\n",
      "\n",
      "\n"
     ]
    }
   ],
   "source": [
    "check_df(\"comfort&convenience\")"
   ]
  },
  {
   "cell_type": "code",
   "execution_count": 160,
   "metadata": {},
   "outputs": [],
   "source": [
    "# There is nothing to clean"
   ]
  },
  {
   "cell_type": "markdown",
   "metadata": {},
   "source": [
    "## 39. entertainment&media "
   ]
  },
  {
   "cell_type": "code",
   "execution_count": 161,
   "metadata": {},
   "outputs": [
    {
     "name": "stdout",
     "output_type": "stream",
     "text": [
      "column name :  entertainment&media\n",
      "--------------------------------\n",
      "Per_of_Nulls   :  % 8.63\n",
      "Num_of_Nulls   :  1374\n",
      "NaN                                                                                                 1374\n",
      "Bluetooth,Hands-free equipment,On-board computer,Radio,USB                                          1282\n",
      "Bluetooth,Hands-free equipment,MP3,On-board computer,Radio,USB                                       982\n",
      "Bluetooth,CD player,Hands-free equipment,MP3,On-board computer,Radio,USB                             783\n",
      "On-board computer,Radio                                                                              487\n",
      "                                                                                                    ... \n",
      "Bluetooth,CD player,Digital radio,Hands-free equipment,Radio                                           1\n",
      "CD player,Hands-free equipment,MP3,Radio,USB                                                           1\n",
      "MP3,Radio,Sound system,USB                                                                             1\n",
      "Bluetooth,MP3,On-board computer,Radio,Television,USB                                                   1\n",
      "Bluetooth,CD player,Hands-free equipment,MP3,On-board computer,Radio,Sound system,Television,USB       1\n",
      "Name: entertainment&media, Length: 347, dtype: int64\n",
      "******************************\n",
      "\n",
      "\n",
      "\n"
     ]
    }
   ],
   "source": [
    "check_df(\"entertainment&media\")"
   ]
  },
  {
   "cell_type": "code",
   "execution_count": 162,
   "metadata": {},
   "outputs": [],
   "source": [
    "# There is nothing to clean"
   ]
  },
  {
   "cell_type": "markdown",
   "metadata": {},
   "source": [
    "## 40. extras"
   ]
  },
  {
   "cell_type": "code",
   "execution_count": 163,
   "metadata": {},
   "outputs": [
    {
     "name": "stdout",
     "output_type": "stream",
     "text": [
      "column name :  extras\n",
      "--------------------------------\n",
      "Per_of_Nulls   :  % 18.61\n",
      "Num_of_Nulls   :  2962\n",
      "Alloy wheels                                                                                               3245\n",
      "NaN                                                                                                        2962\n",
      "Alloy wheels,Touch screen                                                                                   697\n",
      "Alloy wheels,Voice Control                                                                                  577\n",
      "Alloy wheels,Touch screen,Voice Control                                                                     541\n",
      "                                                                                                           ... \n",
      "Alloy wheels,Catalytic Converter,Shift paddles,Sport package,Sport seats,Sport suspension,Voice Control       1\n",
      "Alloy wheels,Catalytic Converter,Roof rack,Sport package,Sport seats,Trailer hitch                            1\n",
      "Alloy wheels,Catalytic Converter,Ski bag,Sport package,Voice Control                                          1\n",
      "Catalytic Converter,Roof rack,Sport seats,Sport suspension                                                    1\n",
      "Alloy wheels,Shift paddles,Ski bag,Sport seats,Sport suspension,Touch screen,Voice Control                    1\n",
      "Name: extras, Length: 660, dtype: int64\n",
      "******************************\n",
      "\n",
      "\n",
      "\n"
     ]
    }
   ],
   "source": [
    "check_df(\"extras\")"
   ]
  },
  {
   "cell_type": "code",
   "execution_count": 164,
   "metadata": {},
   "outputs": [],
   "source": [
    "# There is nothing to clean"
   ]
  },
  {
   "cell_type": "markdown",
   "metadata": {},
   "source": [
    "## 41. safety_&_security "
   ]
  },
  {
   "cell_type": "code",
   "execution_count": 165,
   "metadata": {},
   "outputs": [],
   "source": [
    "df.rename(columns={\"safety_&_security\":\"safety&security\"}, inplace=True)"
   ]
  },
  {
   "cell_type": "code",
   "execution_count": 166,
   "metadata": {},
   "outputs": [
    {
     "name": "stdout",
     "output_type": "stream",
     "text": [
      "column name :  safety&security\n",
      "--------------------------------\n",
      "Per_of_Nulls   :  % 6.17\n",
      "Num_of_Nulls   :  982\n",
      "NaN                                                                                                                                                                                                                                                                                                                                                               982\n",
      "ABS,Central door lock,Daytime running lights,Driver-side airbag,Electronic stability control,Fog lights,Immobilizer,Isofix,Passenger-side airbag,Power steering,Side airbag,Tire pressure monitoring system,Traction control                                                                                                                                      538\n",
      "ABS,Central door lock,Daytime running lights,Driver-side airbag,Electronic stability control,Immobilizer,Isofix,Passenger-side airbag,Power steering,Side airbag,Tire pressure monitoring system,Traction control                                                                                                                                                 480\n",
      "ABS,Central door lock,Daytime running lights,Driver-side airbag,Electronic stability control,Immobilizer,Isofix,Passenger-side airbag,Power steering,Side airbag,Tire pressure monitoring system,Traction control,Xenon headlights                                                                                                                                275\n",
      "ABS,Central door lock,Daytime running lights,Driver-side airbag,Electronic stability control,Fog lights,Immobilizer,Isofix,LED Daytime Running Lights,Passenger-side airbag,Power steering,Side airbag,Tire pressure monitoring system,Traction control                                                                                                           272\n",
      "                                                                                                                                                                                                                                                                                                                                                                 ... \n",
      "ABS,Central door lock,Electronic stability control,Immobilizer,Isofix,Passenger-side airbag,Power steering,Side airbag                                                                                                                                                                                                                                              1\n",
      "ABS,Adaptive Cruise Control,Central door lock,Daytime running lights,Driver-side airbag,Electronic stability control,Emergency brake assistant,Immobilizer,Isofix,Passenger-side airbag,Power steering,Side airbag,Tire pressure monitoring system,Traction control                                                                                                 1\n",
      "ABS,Adaptive Cruise Control,Alarm system,Central door lock,Driver-side airbag,Electronic stability control,Fog lights,Immobilizer,Isofix,Lane departure warning system,LED Daytime Running Lights,Passenger-side airbag,Power steering,Side airbag,Tire pressure monitoring system,Traction control,Xenon headlights                                                1\n",
      "ABS,Adaptive Cruise Control,Central door lock,Daytime running lights,Driver-side airbag,Electronic stability control,Fog lights,Immobilizer,Isofix,Power steering,Tire pressure monitoring system,Traction control                                                                                                                                                  1\n",
      "ABS,Adaptive Cruise Control,Central door lock,Daytime running lights,Driver-side airbag,Electronic stability control,Emergency brake assistant,Fog lights,Immobilizer,Isofix,Lane departure warning system,LED Daytime Running Lights,LED Headlights,Passenger-side airbag,Power steering,Side airbag,Tire pressure monitoring system,Traffic sign recognition      1\n",
      "Name: safety&security, Length: 4444, dtype: int64\n",
      "******************************\n",
      "\n",
      "\n",
      "\n"
     ]
    }
   ],
   "source": [
    "check_df(\"safety&security\")"
   ]
  },
  {
   "cell_type": "code",
   "execution_count": 167,
   "metadata": {},
   "outputs": [],
   "source": [
    "# There is nothing to clean"
   ]
  },
  {
   "cell_type": "markdown",
   "metadata": {},
   "source": [
    "## 42.description"
   ]
  },
  {
   "cell_type": "code",
   "execution_count": 168,
   "metadata": {
    "scrolled": true
   },
   "outputs": [
    {
     "name": "stdout",
     "output_type": "stream",
     "text": [
      "column name :  description\n",
      "--------------------------------\n",
      "Per_of_Nulls   :  % 0.0\n",
      "Num_of_Nulls   :  0\n",
      "                                                                                                                                                                                                                                                                                                                                                                                                                                                                                                                                                                                                                                                                                                                                                                                                                                                                                                                                                                                                                                                                                                                                                                                                                                                                                                                                                                                                                                                                                                                                                                                                                                                                                                                                                                                                                                                                                                                                                                                                                                                                                                                                                                                                                                                                                                                                                                                                                                                                                                                                                                                                                                                               636\n",
      "\\n,\\n                                                                                                                                                                                                                                                                                                                                                                                                                                                                                                                                                                                                                                                                                                                                                                                                                                                                                                                                                                                                                                                                                                                                                                                                                                                                                                                                                                                                                                                                                                                                                                                                                                                                                                                                                                                                                                                                                                                                                                                                                                                                                                                                                                                                                                                                                                                                                                                                                                                                                                                                                                                                                                                           30\n",
      "\\n,Fahrzeugbeschreibung, Sichern Sie sich diesen Renault Clio 1.6 TCE Energy Sport Trophy zum Top-Preis inklusive dem ,AUTOHERO-RUNDUM-SORGLOS-PAKET, ,Infos:, 1.Hand, deutsche Auslieferung, Unfallfrei, scheckheftgepflegt, ,Highlights, ,Audio-Navigationssystem R-Link Evolution mit Touchscreen und Carminat TomTom, ,Sportsitze , ,Sportfahrwerk, ,Scheinwerfer Full-LED ,Komfort, ,Geschwindigkeits-Regelanlage (Tempomat) , ,Klimaanlage, ,Einparkhilfe hinten, ,Multifunktionslenkrad (Sport/Leder) mit Schaltwippen/-tasten , ,Fensterheber elektr. mit Impulsgeber links/rechts vorn, ,Zentralverriegelung / Startanlage Handsfree Entry & Drive , ,Berganfahr-Assistent (HSA) ,Multimedia, ,Audiosystem: Radio R & GO (Bluetooth, DAB-Tuner), ,Bordcomputer, ,Freisprecheinrichtung Bluetooth , ,USB-Anschluss inkl. AUX-IN-Anschluss (Plug & Music) ,Licht und Sicht, ,Außenspiegel elektr. verstell- und heizbar , ,Licht- und Regensensor , ,Tagfahrlicht LED , ,Nebelscheinwerfer LED , ,Coming-Home-Lichtfunktion , ,Heckleuchten LED ,Sicherheit, ,Isofix-Aufnahmen für Kindersitz , ,Seitenairbag vorn, ,Wegfahrsperre, ,Differentialsperre, ,Bremsassistent , ,Elektron. Stabilitäts-Programm (ESP), ,Anti-Blockier-System (ABS), ,Anti-Submarining-Airbag im Fond, ,Airbag Fahrer-/Beifahrerseite , ,Differentialsperre , ,Reifendruck-Kontrollsystem , ,Untersteuerungskontrolle (USC) , ,Antischlupfregelung (ASR) ,Weiteres, ,Start/Stop-Anlage , ,Servolenkung geschwindigkeitsabhängig, ,R.S. Drive (Fahrmodusschalter) , ,Gepäckraumabdeckung / Rollo , ,Heckdiffusor , ,LM-Felgen , ,Heckspoiler (Renault Sport) , ,Pedale Aluminium , ,Energierückgewinnung (Energy Smart Management) , ,Elektr. Bremskraftverteilung , ,Reifen-Reparaturkit , ,Sitzbezug / Polsterung: Stoff , Ihr ,AUTOHERO-RUNDUM-SORGLOS-PAKET, beinhaltet:,Kostenlose Lieferung in Ihre Nähe,Optische & technische Aufbereitung,Mindestens 12 Monate gültige HU und AU,1-Jahr-Premium-Garantie,Zulassung inklusive ,14-Tage-Rückgaberecht,Markenunabhängige Inzahlungnahme ,Individuelle Finanzierungen zu fairen Konditionen, ,HIER GEHT ES ZUR 360° - ANSICHT DES FAHRZEUGES:,:,https://www.autohero.com/de/renault-clio-1-6-tce-energy-renault-sport-trophy/id/f7ca29bf-e005-453f-bbc9-8c6fe892dec6/, ,Haftungsausschluss,:,Für Angaben vom Verkäufer, des Herstellers oder von Datenbankabfragen übernimmt Autohero keine Haftung. Änderungen, Zwischenverkauf und Irrtümer sind vorbehalten.\\n                                                                                                                                                           27\n",
      "\\nPosibilidad de prueba del vehículo hasta 5 días. Consultar condiciones. PVP para particulares. Varias unidades y colores disponibles. Precios publicados para vehículos industriales (furgonetas) válidos para compradores autónomos o empresas, consultar condiciones para particulares. Las imágenes y kilómetros pueden no corresponder con el modelo anunciado. Para confirmar póngase en contacto con nuestro departamento comercial. Consulta las excepcionales condiciones de financiación que tenemos disponibles. Precio de venta final IVA y gastos de transferencia incluidos. Horario de atención al cliente: Lunes a Viernes de 09:00 a 18:00.\\n                                                                                                                                                                                                                                                                                                                                                                                                                                                                                                                                                                                                                                                                                                                                                                                                                                                                                                                                                                                                                                                                                                                                                                                                                                                                                                                                                                                                                                                                                                                                                                                                                                                                                                                                                                                                                                                                                                                                                                                                 27\n",
      "\\nSichern Sie sich diesen RENAULT CLIO 1.2 LIMITED zum Top-Preis inklusive dem,AUTOHERO-RUNDUM-SORGLOS-PAKET, ,Infos:, 2.Hand, mindestens 12 Monate gültige HU und AU, deutsche Ausführung, unfallfrei , ,Highlights, ,Audio-Navigationssystem mit Touchscreen-Farbdisplay,Komfort, ,Klimaanlage , ,Multifunktionslenkrad in Leder , ,Berganfahr-Assistent (HSA), ,Fensterheber elektrisch vorn , ,Geschwindigkeits-Regelanlage (Tempomat) , ,Heckscheibe heizbar , ,Sitz vorn links höhenverstellbar, ,Sitz vorn rechts umklappbar , ,Stau-/Ablagefach im Laderaumboden , ,Zentralverriegelung mit Fernbedienung ,Multimedia, ,Radio R&GO, ,Bluetooth Freisprechanlage , ,USB-/AUX-Schnittstelle , ,Bordcomputer, ,Licht und Sicht, ,Tagfahrlicht LED , ,Außenspiegel elektrisch verstell- und heizbar,Sicherheit, ,Airbag für Fahrer und Beifahrer, ,Beifahrerairbag deaktivierbar , ,Seitenairbags vorn , ,Kopfairbagsystem, ,Anti-Blockier-System (ABS), ,Elektronische Bremskraftverteilung , ,Elektronische Stabilitäts-Programm (ESP) , ,Reifen-Reparaturkit , ,Reifendruck-Kontrollsystem , ,Untersteuerungskontrolle (USC) , ,ISOFIX Kindersitzverankerung ,Weiteres, ,Dachreling silber , ,Look-Paket Chrom (außen) , ,Look-Paket Grau (innen) , ,R&GO-Paket , ,Style-Paket , Ihr ,AUTOHERO-RUNDUM-SORGLOS-PAKET, beinhaltet:,Kostenlose Lieferung in Ihre Nähe,Optische & technische Aufbereitung,Mindestens 12 Monate gültige HU und AU,1-Jahr-Premium-Garantie,Zulassung inklusive ,14-Tage-Rückgaberecht,Markenunabhängige Inzahlungnahme ,Individuelle Finanzierungen zu fairen Konditionen, ,HIER GEHT ES ZUR 360° - ANSICHT DES FAHRZEUGES:,:,https://www.autohero.com/de/renault-clio-1-2-limited/id/30f99516-8785-47e7-a4a3-6cdac4d8e633/, ,Haftungsausschluss,:,Für Angaben vom Verkäufer, des Herstellers oder von Datenbankabfragen übernimmt Autohero keine Haftung. Änderungen, Zwischenverkauf und Irrtümer sind vorbehalten.\\n                                                                                                                                                                                                                                                                                                                                                                                                                                                                                                                                                                                                                                                                                                        27\n",
      "                                                                                                                                                                                                                                                                                                                                                                                                                                                                                                                                                                                                                                                                                                                                                                                                                                                                                                                                                                                                                                                                                                                                                                                                                                                                                                                                                                                                                                                                                                                                                                                                                                                                                                                                                                                                                                                                                                                                                                                                                                                                                                                                                                                                                                                                                                                                                                                                                                                                                                                                                                                                                                                              ... \n",
      "\\nPratica 67374,Airbag fullsize per conducente e passeggero, Alzacristalli elettrici ant. e post. con funzione attivaz. a pressione, Assetto dinamico, Audi drive select, Inserti in micrometallic argento, Kit riparazione pneumatici, Pacchetto di navigazione, Piano di copertura del vano bagagli estraibile, Presa AUX-IN, Proiettori allo Xenon Plus con reg. aut. prof. fari, Lavafari, Rivestimenti dei sedili in tessuto, Serbatoio AdBlue, Sistema controllo pressione pneumatici, Sistema di ancoraggio ISOFIX e 3° punto di ancoraggio Top Tether sui sedili post. laterali, Sistema di informazioni per il conducente con display monocromatico, Tappetini anteriori e posteriori, Versione Business, Volante sportivo multifunzionale in pelle 3 razze, ABS, EBV (Ripartitore elettronico della forza frenante), Airbag laterali anteriori integrati negli schienali dei sedili, Airbag per la testa, Airbag per le ginocchia (lato conducente), Appoggiatesta anteriori (2) e posteriori (3) regolabili, Radio MMI plus, Interfaccia Bluetooth, Appoggiabraccia centrale anteriore, Cambio manuale, Cerchi in lega 7 J x 16\" a 5 razze a stella, Chiusura centralizzata con telecomando, Regolatore di velocità, ESC - Sistema elettronico di controllo della stabilizzazione con bloccaggio trasversale elettronico, ASR - Dispositivo di controllo della trazione, EDS (Dispositivo antislittamento in partenza), Filtro anti particolato, Cinture di sicurezza con pretensionatore, Specchietti retrovisivi esterni riscaldabili e ripiegabili elettricamente, Schienale del sedile posteriore ribaltabile (divisibile in rapporto 40:60 o ribaltabile completam.), Sistema di ausilio al parcheggio posteriore, Servosterzo elettromeccanico, Tergilunotto\\n                                                                                                                                                                                                                                                                                                                                                                                                                                                                                                                                                                                                                                                                                                                                                                                                                                                                                  1\n",
      "\\n,Getriebe:, Schaltgetriebe,Technik:, Bordcomputer, Start-Stop-Automatik,Assistenten:, Regensensor, Lichtsensor, Berganfahrassistent,Komfort:, Servolenkung, Zentralverriegelung, Elektrischer Fensterheber, Sitzheizung, Elektrische Aussenspiegel, Teilbare Ruecksitzlehne, Tempomat, Park Distance Control, Multifunktionslenkrad, Innenspiegel autom. abblendbar, Mittelarmlehne, Innenraumfilter, Lenksaeule einstellbar, Sportsitze, Klimaautomatik-2-Zonen,Sicht:, Xenon Scheinwerfer, Colorverglasung, Scheinwerferreinigung, Aussenspiegel beheizbar, Privacyverglasung,Sicherheit:, ABS, Airbag, Beifahrer-Airbag, Wegfahrsperre, Seitenairbags, ESP, Antriebsschlupfregelung, Reifendruckkontrolle, Traktionskontrolle, Kopfairbag, Knieairbag, Kindersitzbefestigung, Pannenkit,Entertainment:, CD, Radio, AUX-In, USB-Anschluss, MP3, Bluetooth, Freisprecheinrichtung,Umwelt:, Grüne Umweltplakette, ,Energieeffizienzklasse B,Qualität:, Garantie, Scheckheftgepflegt, HUAU neu, Nichtraucherfahrzeug,Sonstiges:, Metallic, Alufelgen, Dachreling, Gepaeckraumabdeckung, Stossfaenger in Wagenfarbe, Sportfahrwerk,Weiteres:, Connectivity-Paket inkl. Bluetooth-Schnittstelle, Klimaautomatik 2-Zonen, Optik-Paket schwarz Audi exclusive, Einparkhilfe (APS), Verglasung hinten abgedunkelt, Sitzheizung vorn, Dachreling (Aluminium), Soundsystem DSP / Audi Sound-System, Ablage- und Gepäckraum-Paket, Audi music interface, Scheibenwaschdüsen heizbar, Vorbereitung Navigationssystem, Adaptives Bremslicht, Anfahr-Assistent (hold assist), Antriebsart: Frontantrieb, Audi Drive Select, Außenspiegel Wagenfarbe, Blinkleuchten LED in Außenspiegel integriert, Bremsanlage mit Rekuperation - Bremsenergierückgewinnung, Bremsassistent, Dachspoiler, Dekoreinlagen Aluminium Mistral, Einstiegsleisten Aluminium, Elektron. Differentialsperre (EDS), Elektron. Stabilitätskontrolle (ESC), Elektron. Stabilitäts-Programm, Euro 6, Fahrer-Informations-System (FIS), Fensterheber elektrisch vorn und hinten, Frontscheibe Akustikglas, Fußmatten Velours, Getriebe 6-Gang, Heckscheibe heizbar, Interieur Aluminium-Optik, Isofix-Aufnahmen für Kindersitz, Kopfstützen hinten, Multi-Media-Interface MMI, Parkbremse elektro-mechanisch, Polster: Stoff Rallye, Servolenkung elektro-mechanisch, Sitze vorn mit ausziehbarer Oberschenkelauflage, Sitzhöhenverstellung, Sport/Lederlenkrad, Sport-Fahrwerk, Start/Stop-Anlage, Telefon-Vorbereitung mit Bluetooth-Schnittstelle, Wagenheber, Wärmeschutzverglasung, Xenon Plus, ZV mit Fernbedienung,... Änderungen, Zwischenverkauf und Irrtümer vorbehalten., by CG360.de\\n      1\n",
      "\\n,Getriebe,6-Gang,Licht und Sicht,Xenon-Scheinwerfer Plus (Abblend- und Fernlicht),Technik und Sicherheit,Fahrerairbag,Airbag Fahrer-/Beifahrerseite,Seitenairbag vorn,Kopfairbags,Anti-Blockier-System (ABS),Elektron. Stabilitätskontrolle (ESC),Elektron. Differentialsperre (EDS),Zentralverriegelung mit Fernbedienung,Schließ-/Startsystem Advanced Key (Komfortschlüssel),Servolenkung elektro-mechanisch,Geschwindigkeits-Regelanlage (Tempomat),Elektronische Wegfahrsperre,Bordcomputer,Reifendruck-Kontrollsystem,Assistenzsysteme,Fahrassistenz-System: Anfahr-Assistent (hold assist),Multimedia,Multi-Media-Interface MMI Basic Plus / MMI Radio Plus,Audi Smartphone Interface,Komfort,Komfort-Klimaautomatik 2-Zonen,Einparkhilfe hinten (APS),Fensterheber elektrisch,Licht- und Regensensor,Außenspiegel elektr. verstellbar beide,Scheibenwaschdüsen und Außenspiegel beheizt,Wärmeschutzverglasung grün getönt,Innenausstattung,Sitzheizung vorn,Lenkrad (Sport/Leder - 3-Speichen) mit Multifunktion,Mittelarmlehne vorn,Rücksitzlehne geteilt/klappbar,Aussenausstattung,LM-Felgen,Pakete,Komfort-Paket,Sonstiges,Rußpartikelfilter,Scheckheftgepflegt,Nichtraucherfahrzeug,Weitere Informationen,Schadstoffklasse: EURO 6D-TEMP,Connectivity-Paket,Glanz-Paket,LM-Felgen 7.5x17 (5-Speichen Y-Design),Progressivlenkung,Antriebs-Schlupfregelung (ASR),Elektron. Stabilitäts-Programm (ESP),Getriebe 6-Gang,Lenkrad (Sport - 3-Speichen),Parkbremse elektro-mechanisch,Sitze vorn höhenverstellbar,Vorrüstung Mobiltelefon/Handy mit Bluetooth-Schnittstelle,Audi music interface,Außenspiegel elektr. verstell- und heizbar beide,Vorbereitung Navigationssystem,Irrtümer und Änderungen vorbehalten.,Die im Internet angebotene Ausstattung ist kein Vertragsbestandteil.,Die Ausstattung muss vor Ort geprüft werden.,Das angebotene Fahrzeug kann von einer Rückrufaktion betroffen sein. Co2 Angaben können abweichen.,\\n                                                                                                                                                                                                                                                                                                                                                                                                                                                                                                                                                                                                                                                                                                           1\n",
      "\\n,Aluminium-Gussräder im 5-Speichen-Stern-Design Größe 7 J x 16 mit Reifen 205/55 R 16,Dachreling eloxiert,Einparkhilfe hinten,Fahrerinformationssystem mit Farbdisplay,Lederlenkrad im 3-Speichen-Design mit Multifunktion plus,Ablage-/Gepäckraumpaket mit erweitertem USB-Buchsen-Angebot,Lichtpaket,Reifen 16',Anlaufvariante RdW,Vorbereitung für Anhängevorrichtung,Audi sound system,Reifen 205/55 R16 91W,Xenon plus,Allwetterlicht,Kopfstützen hinten (3 Stück),MMI Radio plus,Zentralverriegelung mit Funkschlüssel,Bluetooth-Schnittstelle,Innenspiegel abblendbar,elektronische Stabilisierungskontrolle (ESC),Airbags,6-Gang-Schaltgetriebe,Seitenairbags vorn und Kopfairbagsystem,elektromechanische Servolenkung,Leuchtweitenregulierung automatisch-statisch,Scheibenwaschdüsen beheizbar vorn,Reifendruck-Kontrollanzeige,Tagfahrlicht,Start-Stop-System,AUX-IN-Anschluss,Kindersitzverankerung ISOFIX und Top Tether für die äußeren Fondsitze,Sitzbezüge in Stoff Index,Wärmeschutzverglasung,Akustikfrontscheibe,Außenspiegel links asphärisch,Außen-Sound Standard,Außenspiegel rechts (großes Sichtfeld) konvex,elektromechanische Parkbremse,Dachhimmel in Stoff felsgrau,Kraftstoffsystem Otto-Einspritzer,Linkslenker,Reifenreparaturset,Heckleuchten,Scheibenwaschanlage,Entriegelung Hintersitz Standard,Waschwasserstandsanzeige,Abgaskonzept EU6 AG/H/I,Frontantrieb,A3,Außenspiegelgehäuse in Wagenfarbe,Ohne erweitertem Sicherheitssystem,Geschwindigkeitsbegrenzungsanlage,Dachkantenspoiler,Heckscheibenwischer,Sportback,Kindersicherung manuell,Ohne Kamerasysteme/Umfeldsensorik,4-Zyl. Ottomotor 1 5 L/110KW TSI Grundmotor ist: TJ7/N09/T9F,Nebelschlussleuchten,Nichtraucherausführung,Radstand,Doppeltonfanfare,Serienfahrwerk,4 Türen,Modellbezeichnung gemäß neuer Leistungskennzeichnung,Warnleuchten,Zierleisten schwarz,Nichtraucherfahrzeug,Irrtümer Änderungen und Zwischenverkauf vorbehalten,sehr guter Zustand,Komfortklima,Aussenspiegel heizbar,elektrische Aussenspiegel,geteilte Rückbank,Scheckheft gepflegt,Fahrersitz höhenverstellbar,Beifahrersitz höhenverstellbar,\\n                                                                                                                                                                                                                                                                                                                                                                                                                                                                                                                             1\n",
      "\\nDEK:[2691331],Renault Espace Blue dCi 200CV EDC Business,Nuova da Immatricolare,COLORE: Grigio Titanio,INTERNO: Pelle+Tessuto,TRASMISSIONE: Cambio Automatico EDC,---,ACCESSORI: ,7 Posti,, ,Cerchi in Lega 17, Navigatore con Display 8.7, Clima Automatico, Sensori di Parcheggio Anteriori e Posteriori con Retrocamera, Fari Full LED Pure Vision, Cruise Control, Renault Multisense,---,Listino Nuovo 44.300 Euro,Prezzo Gruppo Carmeli: 39.700 Euro (Esclusa IPT e Messa in Strada),IVA Esposta,In caso di Adesione alla PROMO GRUPPO CARMELI puoi Averla a 36.000 Euro,Contattaci per scoprire tutti i vantaggi della PROMO GRUPPO CARMELI,____________________________________,Gruppo Carmeli S.p.A. è Concessionaria e Service ufficiale dei Marchi Renault, Dacia, Nissan, Mercedes e Smart per la provincia di Brescia e Bergamo ed opera nel mercato dell’auto da più di 40 anni.,Nelle sedi di Brescia (Nissan e Renault-Dacia Autospazio), di Coccaglio (Renault-Dacia e Nissan) e di Bergamo (Nissan) oltre a tutta la gamma di veicoli dei Marchi rappresentati, propone anche 2.000 auto a Km Zero e Aziendali di tutte le marche.,Offriamo Servizi:,-VALUTAZIONE e PERMUTA del tuo USATO,-ACQUISTO con pagamento immediato del tuo USATO,-FINANZIAMENTI e LEASING agevolati,-NOLEGGIO A LUNGO TERMINE di veicoli di tutte le marche,-PACCHETTI ASSICURATIVI su misura con possibilità di garanzia del valore a Nuovo,____________________________________,Sebbene sia stato fatto ogni ragionevole sforzo per assicurare l'esattezza delle informazioni riportate, vi potrebbero essere involontarie incongruenze riguardanti le immagini e la descrizione degli accessori, che pertanto non rappresentano vincolo contrattuale. Per ulteriori informazioni sulle condizioni economiche ti invitiamo a contattarci.,\\n                                                                                                                                                                                                                                                                                                                                                                                                                                                                                                                                                                                                                                                                                                                                                                                                                      1\n",
      "Name: description, Length: 12874, dtype: int64\n",
      "******************************\n",
      "\n",
      "\n",
      "\n"
     ]
    }
   ],
   "source": [
    "check_df(\"description\")"
   ]
  },
  {
   "cell_type": "code",
   "execution_count": 169,
   "metadata": {},
   "outputs": [],
   "source": [
    "df.drop(columns=\"description\", inplace=True)"
   ]
  },
  {
   "cell_type": "markdown",
   "metadata": {},
   "source": [
    "## 43. emission_label"
   ]
  },
  {
   "cell_type": "code",
   "execution_count": 170,
   "metadata": {},
   "outputs": [
    {
     "name": "stdout",
     "output_type": "stream",
     "text": [
      "column name :  emission_label\n",
      "--------------------------------\n",
      "Per_of_Nulls   :  % 74.97\n",
      "Num_of_Nulls   :  11934\n",
      "NaN                   11934\n",
      "\\n4 (Green)\\n          3553\n",
      "\\n1 (No sticker)\\n      381\n",
      "[],[],[]                 40\n",
      "\\n5 (Blue)\\n              8\n",
      "\\n3 (Yellow)\\n            2\n",
      "\\n2 (Red)\\n               1\n",
      "Name: emission_label, dtype: int64\n",
      "******************************\n",
      "\n",
      "\n",
      "\n"
     ]
    }
   ],
   "source": [
    "check_df(\"emission_label\")"
   ]
  },
  {
   "cell_type": "code",
   "execution_count": 171,
   "metadata": {},
   "outputs": [],
   "source": [
    "df.drop(columns=\"emission_label\", inplace=True)"
   ]
  },
  {
   "cell_type": "markdown",
   "metadata": {},
   "source": [
    "## 44. gears"
   ]
  },
  {
   "cell_type": "code",
   "execution_count": 172,
   "metadata": {},
   "outputs": [
    {
     "name": "stdout",
     "output_type": "stream",
     "text": [
      "column name :  gears\n",
      "--------------------------------\n",
      "Per_of_Nulls   :  % 29.6\n",
      "Num_of_Nulls   :  4712\n",
      "\\n6\\n     5822\n",
      "NaN       4712\n",
      "\\n5\\n     3239\n",
      "\\n7\\n     1908\n",
      "\\n8\\n      224\n",
      "\\n9\\n        6\n",
      "\\n1\\n        2\n",
      "\\n3\\n        2\n",
      "\\n4\\n        2\n",
      "\\n2\\n        1\n",
      "\\n50\\n       1\n",
      "Name: gears, dtype: int64\n",
      "******************************\n",
      "\n",
      "\n",
      "\n"
     ]
    }
   ],
   "source": [
    "check_df(\"gears\")"
   ]
  },
  {
   "cell_type": "code",
   "execution_count": 173,
   "metadata": {},
   "outputs": [],
   "source": [
    "df.gears = df.gears.str.strip(\"\\n\").astype(float)"
   ]
  },
  {
   "cell_type": "markdown",
   "metadata": {},
   "source": [
    "## 45 . country_version"
   ]
  },
  {
   "cell_type": "code",
   "execution_count": 174,
   "metadata": {},
   "outputs": [
    {
     "name": "stdout",
     "output_type": "stream",
     "text": [
      "column name :  country_version\n",
      "--------------------------------\n",
      "Per_of_Nulls   :  % 52.35\n",
      "Num_of_Nulls   :  8333\n",
      "NaN                   8333\n",
      "\\nGermany\\n           4502\n",
      "\\nItaly\\n             1038\n",
      "\\nEuropean Union\\n     507\n",
      "\\nNetherlands\\n        464\n",
      "\\nSpain\\n              325\n",
      "\\nBelgium\\n            314\n",
      "\\nAustria\\n            208\n",
      "\\nCzech Republic\\n      52\n",
      "\\nPoland\\n              49\n",
      "\\nFrance\\n              38\n",
      "\\nDenmark\\n             33\n",
      "\\nHungary\\n             28\n",
      "\\nJapan\\n                8\n",
      "\\nSlovakia\\n             4\n",
      "\\nCroatia\\n              4\n",
      "\\nSweden\\n               3\n",
      "\\nRomania\\n              2\n",
      "\\nBulgaria\\n             2\n",
      "\\nLuxembourg\\n           1\n",
      "\\nSwitzerland\\n          1\n",
      "\\nSlovenia\\n             1\n",
      "\\nEgypt\\n                1\n",
      "\\nSerbia\\n               1\n",
      "Name: country_version, dtype: int64\n",
      "******************************\n",
      "\n",
      "\n",
      "\n"
     ]
    }
   ],
   "source": [
    "check_df(\"country_version\")"
   ]
  },
  {
   "cell_type": "code",
   "execution_count": 175,
   "metadata": {},
   "outputs": [],
   "source": [
    "df.country_version = df.country_version.str.strip(\"\\n\")"
   ]
  },
  {
   "cell_type": "markdown",
   "metadata": {},
   "source": [
    "## electricity_consumption, last_service_date, other_fuel_types, availability, last_timing_belt_service_date, available_from "
   ]
  },
  {
   "cell_type": "code",
   "execution_count": 177,
   "metadata": {},
   "outputs": [
    {
     "name": "stdout",
     "output_type": "stream",
     "text": [
      "column name :  electricity_consumption\n",
      "--------------------------------\n",
      "Per_of_Nulls   :  % 99.14\n",
      "Num_of_Nulls   :  15782\n",
      "NaN                        15782\n",
      "\\n0 kWh/100 km (comb)\\n      137\n",
      "Name: electricity_consumption, dtype: int64\n",
      "******************************\n",
      "\n",
      "\n",
      "\n"
     ]
    }
   ],
   "source": [
    "check_df(\"electricity_consumption\")"
   ]
  },
  {
   "cell_type": "code",
   "execution_count": 178,
   "metadata": {},
   "outputs": [
    {
     "name": "stdout",
     "output_type": "stream",
     "text": [
      "column name :  last_service_date\n",
      "--------------------------------\n",
      "Per_of_Nulls   :  % 96.44\n",
      "Num_of_Nulls   :  15353\n",
      "NaN                                    15353\n",
      "\\n02/2019\\n,\\nEuro 6\\n                    23\n",
      "\\n05/2019\\n,\\nEuro 6\\n                    16\n",
      "\\n01/2018\\n,\\n118 g CO2/km (comb)\\n       15\n",
      "\\n03/2019\\n,\\nEuro 6\\n                    15\n",
      "                                       ...  \n",
      "\\n01/2017\\n,\\n95 g CO2/km (comb)\\n         1\n",
      "\\n06/2019\\n,\\n87 g CO2/km (comb)\\n         1\n",
      "\\n10/2018\\n,\\n100 g CO2/km (comb)\\n        1\n",
      "\\n02/2018\\n,\\n97 g CO2/km (comb)\\n         1\n",
      "\\n03/2019\\n,\\n120 g CO2/km (comb)\\n        1\n",
      "Name: last_service_date, Length: 256, dtype: int64\n",
      "******************************\n",
      "\n",
      "\n",
      "\n"
     ]
    }
   ],
   "source": [
    "check_df(\"last_service_date\")"
   ]
  },
  {
   "cell_type": "code",
   "execution_count": 179,
   "metadata": {},
   "outputs": [
    {
     "name": "stdout",
     "output_type": "stream",
     "text": [
      "column name :  other_fuel_types\n",
      "--------------------------------\n",
      "Per_of_Nulls   :  % 94.47\n",
      "Num_of_Nulls   :  15039\n",
      "NaN         15039\n",
      "[],[],[]      880\n",
      "Name: other_fuel_types, dtype: int64\n",
      "******************************\n",
      "\n",
      "\n",
      "\n"
     ]
    }
   ],
   "source": [
    "check_df(\"other_fuel_types\")"
   ]
  },
  {
   "cell_type": "code",
   "execution_count": 180,
   "metadata": {},
   "outputs": [
    {
     "name": "stdout",
     "output_type": "stream",
     "text": [
      "column name :  availability\n",
      "--------------------------------\n",
      "Per_of_Nulls   :  % 96.01\n",
      "Num_of_Nulls   :  15284\n",
      "NaN                              15284\n",
      "\\nin 90 days from ordering\\n       196\n",
      "\\nin 120 days from ordering\\n      182\n",
      "\\nin 1 day from ordering\\n          51\n",
      "\\nin 5 days from ordering\\n         35\n",
      "\\nin 3 days from ordering\\n         35\n",
      "\\nin 180 days from ordering\\n       24\n",
      "\\nin 14 days from ordering\\n        24\n",
      "\\nin 7 days from ordering\\n         20\n",
      "\\nin 150 days from ordering\\n       18\n",
      "\\nin 2 days from ordering\\n         16\n",
      "\\nin 60 days from ordering\\n        13\n",
      "\\nin 42 days from ordering\\n        10\n",
      "\\nin 21 days from ordering\\n         8\n",
      "\\nin 4 days from ordering\\n          2\n",
      "\\nin 6 days from ordering\\n          1\n",
      "Name: availability, dtype: int64\n",
      "******************************\n",
      "\n",
      "\n",
      "\n"
     ]
    }
   ],
   "source": [
    "check_df(\"availability\")"
   ]
  },
  {
   "cell_type": "code",
   "execution_count": 181,
   "metadata": {},
   "outputs": [
    {
     "name": "stdout",
     "output_type": "stream",
     "text": [
      "column name :  last_timing_belt_service_date\n",
      "--------------------------------\n",
      "Per_of_Nulls   :  % 99.9\n",
      "Num_of_Nulls   :  15903\n",
      "NaN                       15903\n",
      "\\n04/2016\\n                   2\n",
      "\\n12/1900\\n                   1\n",
      "\\n07/2018\\n                   1\n",
      "\\n01/1900\\n                   1\n",
      "\\n05/2019\\n                   1\n",
      "\\n09/2018\\n                   1\n",
      "\\n05/2018\\n,\\nEuro 6\\n        1\n",
      "\\n06/2017\\n                   1\n",
      "\\n01/2019\\n                   1\n",
      "\\n02/2019\\n                   1\n",
      "\\n02/2018\\n                   1\n",
      "\\n06/2019\\n                   1\n",
      "\\n01/2018\\n                   1\n",
      "\\n04/2019\\n                   1\n",
      "\\n01/1970\\n                   1\n",
      "Name: last_timing_belt_service_date, dtype: int64\n",
      "******************************\n",
      "\n",
      "\n",
      "\n"
     ]
    }
   ],
   "source": [
    "check_df(\"last_timing_belt_service_date\")"
   ]
  },
  {
   "cell_type": "code",
   "execution_count": 182,
   "metadata": {
    "scrolled": true
   },
   "outputs": [
    {
     "name": "stdout",
     "output_type": "stream",
     "text": [
      "column name :  available_from\n",
      "--------------------------------\n",
      "Per_of_Nulls   :  % 98.29\n",
      "Num_of_Nulls   :  15647\n",
      "NaN             15647\n",
      "\\n31/08/19\\n       98\n",
      "\\n30/07/19\\n       25\n",
      "\\n15/08/19\\n       24\n",
      "\\n16/09/19\\n       14\n",
      "\\n29/06/19\\n       12\n",
      "\\n01/07/19\\n       11\n",
      "\\n28/06/19\\n       10\n",
      "\\n19/08/19\\n        7\n",
      "\\n10/09/19\\n        6\n",
      "\\n26/06/19\\n        5\n",
      "\\n27/06/19\\n        5\n",
      "\\n10/11/19\\n        5\n",
      "\\n08/07/19\\n        4\n",
      "\\n15/07/19\\n        3\n",
      "\\n25/10/19\\n        3\n",
      "\\n01/08/19\\n        3\n",
      "\\n04/07/19\\n        2\n",
      "\\n05/08/19\\n        2\n",
      "\\n24/08/19\\n        2\n",
      "\\n16/07/19\\n        2\n",
      "\\n20/07/19\\n        2\n",
      "\\n05/07/19\\n        2\n",
      "\\n30/06/19\\n        2\n",
      "\\n30/09/19\\n        1\n",
      "\\n31/10/19\\n        1\n",
      "\\n27/07/19\\n        1\n",
      "\\n02/07/19\\n        1\n",
      "\\n10/07/19\\n        1\n",
      "\\n19/07/19\\n        1\n",
      "\\n24/07/19\\n        1\n",
      "\\n29/07/19\\n        1\n",
      "\\n29/09/19\\n        1\n",
      "\\n18/08/19\\n        1\n",
      "\\n14/09/19\\n        1\n",
      "\\n18/07/19\\n        1\n",
      "\\n16/08/19\\n        1\n",
      "\\n24/09/19\\n        1\n",
      "\\n17/08/19\\n        1\n",
      "\\n10/10/19\\n        1\n",
      "\\n06/12/19\\n        1\n",
      "\\n03/12/19\\n        1\n",
      "\\n05/12/19\\n        1\n",
      "\\n11/08/19\\n        1\n",
      "\\n10/12/19\\n        1\n",
      "\\n01/09/19\\n        1\n",
      "\\n03/08/19\\n        1\n",
      "Name: available_from, dtype: int64\n",
      "******************************\n",
      "\n",
      "\n",
      "\n"
     ]
    }
   ],
   "source": [
    "check_df(\"available_from\")"
   ]
  },
  {
   "cell_type": "code",
   "execution_count": 183,
   "metadata": {},
   "outputs": [],
   "source": [
    "# as we see above 'electricity_consumption', 'last_service_date', 'other_fuel_types', 'availability', \n",
    "# 'last_timing_belt_service_date', 'available_from', columns has lots of null values and irrelevant values.\n",
    "# so we will drop these columns"
   ]
  },
  {
   "cell_type": "code",
   "execution_count": 184,
   "metadata": {},
   "outputs": [],
   "source": [
    "df.drop(columns= [\"electricity_consumption\", \"last_service_date\", \"other_fuel_types\", \n",
    "                  \"availability\", \"last_timing_belt_service_date\", \"available_from\"],\n",
    "               inplace=True)"
   ]
  },
  {
   "cell_type": "code",
   "execution_count": 185,
   "metadata": {},
   "outputs": [],
   "source": [
    "# Since url column is irrelevant to analusis, we will drop it\n",
    "df.drop(columns=\"url\", inplace=True)"
   ]
  },
  {
   "cell_type": "code",
   "execution_count": 186,
   "metadata": {},
   "outputs": [
    {
     "data": {
      "text/plain": [
       "(15919, 36)"
      ]
     },
     "execution_count": 186,
     "metadata": {},
     "output_type": "execute_result"
    }
   ],
   "source": [
    "df.shape"
   ]
  },
  {
   "cell_type": "code",
   "execution_count": 187,
   "metadata": {},
   "outputs": [
    {
     "name": "stdout",
     "output_type": "stream",
     "text": [
      "<class 'pandas.core.frame.DataFrame'>\n",
      "RangeIndex: 15919 entries, 0 to 15918\n",
      "Data columns (total 36 columns):\n",
      " #   Column                  Non-Null Count  Dtype  \n",
      "---  ------                  --------------  -----  \n",
      " 0   short_description       15873 non-null  object \n",
      " 1   body_type               15859 non-null  object \n",
      " 2   price_€                 15919 non-null  float64\n",
      " 3   vat                     11406 non-null  object \n",
      " 4   km                      14895 non-null  float64\n",
      " 5   registration            14322 non-null  float64\n",
      " 6   prev_owner              9091 non-null   float64\n",
      " 7   hp_kW                   15831 non-null  float64\n",
      " 8   type                    15917 non-null  object \n",
      " 9   previous_owners         9279 non-null   float64\n",
      " 10  warranty                4853 non-null   float64\n",
      " 11  make                    15919 non-null  object \n",
      " 12  model                   15919 non-null  object \n",
      " 13  body_color              15322 non-null  object \n",
      " 14  paint_type              10147 non-null  object \n",
      " 15  body_color_original     12160 non-null  object \n",
      " 16  upholstery              12199 non-null  object \n",
      " 17  nr_of_doors             15707 non-null  float64\n",
      " 18  nr_of_seats             14942 non-null  float64\n",
      " 19  gearing_type            15919 non-null  object \n",
      " 20  engine_displacement_cc  15423 non-null  float64\n",
      " 21  cylinders               10239 non-null  float64\n",
      " 22  weight_kg               8945 non-null   float64\n",
      " 23  drive_chain             9061 non-null   object \n",
      " 24  fuel                    15919 non-null  object \n",
      " 25  co2e_g                  13477 non-null  float64\n",
      " 26  emission_class          12291 non-null  object \n",
      " 27  comfort&convenience     14999 non-null  object \n",
      " 28  entertainment&media     14545 non-null  object \n",
      " 29  extras                  12957 non-null  object \n",
      " 30  safety&security         14937 non-null  object \n",
      " 31  gears                   11207 non-null  float64\n",
      " 32  country_version         7586 non-null   object \n",
      " 33  consumption_comb        12129 non-null  float64\n",
      " 34  consumption_city        11880 non-null  float64\n",
      " 35  consumption_country     12554 non-null  float64\n",
      "dtypes: float64(17), object(19)\n",
      "memory usage: 4.4+ MB\n"
     ]
    }
   ],
   "source": [
    "df.info()"
   ]
  },
  {
   "cell_type": "code",
   "execution_count": 188,
   "metadata": {
    "id": "Byg_o2ZMs1MI"
   },
   "outputs": [],
   "source": [
    "df.to_csv(\"cleaned_autoscout.csv\", index=False)"
   ]
  },
  {
   "cell_type": "code",
   "execution_count": null,
   "metadata": {},
   "outputs": [],
   "source": []
  }
 ],
 "metadata": {
  "colab": {
   "name": "DAwPy-Capstone_Project_(AutoScout)_Student.ipynb",
   "provenance": []
  },
  "hide_input": false,
  "kernelspec": {
   "display_name": "Python 3 (ipykernel)",
   "language": "python",
   "name": "python3"
  },
  "language_info": {
   "codemirror_mode": {
    "name": "ipython",
    "version": 3
   },
   "file_extension": ".py",
   "mimetype": "text/x-python",
   "name": "python",
   "nbconvert_exporter": "python",
   "pygments_lexer": "ipython3",
   "version": "3.9.12"
  },
  "toc": {
   "base_numbering": 1,
   "nav_menu": {},
   "number_sections": false,
   "sideBar": true,
   "skip_h1_title": false,
   "title_cell": "Table of Contents",
   "title_sidebar": "Contents",
   "toc_cell": false,
   "toc_position": {
    "height": "calc(100% - 180px)",
    "left": "10px",
    "top": "150px",
    "width": "242.2px"
   },
   "toc_section_display": true,
   "toc_window_display": false
  }
 },
 "nbformat": 4,
 "nbformat_minor": 1
}
