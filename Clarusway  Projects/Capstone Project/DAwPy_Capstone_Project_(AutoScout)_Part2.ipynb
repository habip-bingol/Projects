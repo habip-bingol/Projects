{
 "cells": [
  {
   "cell_type": "markdown",
   "id": "2644da7f",
   "metadata": {},
   "source": [
    "# PART- 2 `( Handling With Missing Vales )`"
   ]
  },
  {
   "cell_type": "code",
   "execution_count": null,
   "id": "064b6b01",
   "metadata": {},
   "outputs": [],
   "source": [
    "import numpy as np\n",
    "import pandas as pd\n",
    "import matplotlib.pyplot as plt\n",
    "from matplotlib import patches\n",
    "import seaborn as sns\n",
    "\n",
    "import warnings\n",
    "\n",
    "# Statistics functions\n",
    "from scipy.stats import norm\n",
    "from scipy import stats\n",
    "from scipy.stats import chi2_contingency\n",
    "from scipy.stats import chi2"
   ]
  },
  {
   "cell_type": "code",
   "execution_count": null,
   "id": "5ec27e1d",
   "metadata": {},
   "outputs": [],
   "source": [
    "# Suppressing a warning \n",
    "warnings.filterwarnings(\"ignore\") \n",
    "\n",
    "# It is a magic function that renders the figure in the notebook\n",
    "%matplotlib inline \n",
    "\n",
    "# Changing the figure size of a seaborn axes \n",
    "sns.set(rc={\"figure.figsize\": (10, 6)})\n",
    "\n",
    "# The style parameters control properties like the color of the background and whether a grid is enabled by default.\n",
    "sns.set_style(\"whitegrid\")\n",
    "\n",
    "# To display maximum columns\n",
    "pd.set_option('display.max_columns', None)\n",
    "\n",
    "# To display maximum columns\n",
    "#pd.set_option('display.max_rows', 16000)"
   ]
  }
 ],
 "metadata": {
  "hide_input": false,
  "kernelspec": {
   "display_name": "Python 3 (ipykernel)",
   "language": "python",
   "name": "python3"
  },
  "language_info": {
   "codemirror_mode": {
    "name": "ipython",
    "version": 3
   },
   "file_extension": ".py",
   "mimetype": "text/x-python",
   "name": "python",
   "nbconvert_exporter": "python",
   "pygments_lexer": "ipython3",
   "version": "3.9.12"
  },
  "toc": {
   "base_numbering": 1,
   "nav_menu": {},
   "number_sections": true,
   "sideBar": true,
   "skip_h1_title": false,
   "title_cell": "Table of Contents",
   "title_sidebar": "Contents",
   "toc_cell": false,
   "toc_position": {},
   "toc_section_display": true,
   "toc_window_display": false
  }
 },
 "nbformat": 4,
 "nbformat_minor": 5
}
